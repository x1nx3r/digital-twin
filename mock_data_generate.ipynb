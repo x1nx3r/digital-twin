{
 "cells": [
  {
   "cell_type": "code",
   "execution_count": 2,
   "id": "0f27ae30",
   "metadata": {},
   "outputs": [
    {
     "name": "stdout",
     "output_type": "stream",
     "text": [
      "🌍 Initializing WHO Standards-Based Data Generation with Realistic Indonesian Health Patterns...\n",
      "📂 Loading Original Datasets as Templates or Creating New WHO-Based Data...\n",
      "✅ Costs catalog loaded successfully\n",
      "💰 Costs Catalog:\n"
     ]
    },
    {
     "data": {
      "text/html": [
       "<div>\n",
       "<style scoped>\n",
       "    .dataframe tbody tr th:only-of-type {\n",
       "        vertical-align: middle;\n",
       "    }\n",
       "\n",
       "    .dataframe tbody tr th {\n",
       "        vertical-align: top;\n",
       "    }\n",
       "\n",
       "    .dataframe thead th {\n",
       "        text-align: right;\n",
       "    }\n",
       "</style>\n",
       "<table border=\"1\" class=\"dataframe\">\n",
       "  <thead>\n",
       "    <tr style=\"text-align: right;\">\n",
       "      <th></th>\n",
       "      <th>program</th>\n",
       "      <th>biaya_unit</th>\n",
       "      <th>unit_def</th>\n",
       "    </tr>\n",
       "  </thead>\n",
       "  <tbody>\n",
       "    <tr>\n",
       "      <th>0</th>\n",
       "      <td>screening_htn</td>\n",
       "      <td>30000</td>\n",
       "      <td>per screening sekali</td>\n",
       "    </tr>\n",
       "    <tr>\n",
       "      <th>1</th>\n",
       "      <td>obat_htn</td>\n",
       "      <td>50000</td>\n",
       "      <td>per bulan per orang (rata-rata)</td>\n",
       "    </tr>\n",
       "    <tr>\n",
       "      <th>2</th>\n",
       "      <td>kontrol_htn</td>\n",
       "      <td>300000</td>\n",
       "      <td>per tahun per orang (kunjungan &amp; pemeriksaan)</td>\n",
       "    </tr>\n",
       "    <tr>\n",
       "      <th>3</th>\n",
       "      <td>transport_htn</td>\n",
       "      <td>120000</td>\n",
       "      <td>per tahun per orang (rata-rata)</td>\n",
       "    </tr>\n",
       "    <tr>\n",
       "      <th>4</th>\n",
       "      <td>PMT</td>\n",
       "      <td>45000</td>\n",
       "      <td>per paket per bulan per anak</td>\n",
       "    </tr>\n",
       "    <tr>\n",
       "      <th>5</th>\n",
       "      <td>mikronutrien</td>\n",
       "      <td>20000</td>\n",
       "      <td>per bulan per anak</td>\n",
       "    </tr>\n",
       "    <tr>\n",
       "      <th>6</th>\n",
       "      <td>WASH</td>\n",
       "      <td>15000</td>\n",
       "      <td>per bulan per keluarga (operasional)</td>\n",
       "    </tr>\n",
       "    <tr>\n",
       "      <th>7</th>\n",
       "      <td>posyandu</td>\n",
       "      <td>10000</td>\n",
       "      <td>per kunjungan per anak</td>\n",
       "    </tr>\n",
       "  </tbody>\n",
       "</table>\n",
       "</div>"
      ],
      "text/plain": [
       "         program  biaya_unit                                       unit_def\n",
       "0  screening_htn       30000                           per screening sekali\n",
       "1       obat_htn       50000                per bulan per orang (rata-rata)\n",
       "2    kontrol_htn      300000  per tahun per orang (kunjungan & pemeriksaan)\n",
       "3  transport_htn      120000                per tahun per orang (rata-rata)\n",
       "4            PMT       45000                   per paket per bulan per anak\n",
       "5   mikronutrien       20000                             per bulan per anak\n",
       "6           WASH       15000           per bulan per keluarga (operasional)\n",
       "7       posyandu       10000                         per kunjungan per anak"
      ]
     },
     "metadata": {},
     "output_type": "display_data"
    },
    {
     "name": "stdout",
     "output_type": "stream",
     "text": [
      "\n",
      "🏗️ Generating New WHO Standards-Based Data...\n",
      "✅ Generated New Data:\n",
      "   Households: 25 records\n",
      "   Adults HTN: 50 records\n",
      "   Children Stunting: 40 records\n",
      "\n",
      "📊 New Adults HTN Data (WHO Standards):\n"
     ]
    },
    {
     "data": {
      "text/html": [
       "<div>\n",
       "<style scoped>\n",
       "    .dataframe tbody tr th:only-of-type {\n",
       "        vertical-align: middle;\n",
       "    }\n",
       "\n",
       "    .dataframe tbody tr th {\n",
       "        vertical-align: top;\n",
       "    }\n",
       "\n",
       "    .dataframe thead th {\n",
       "        text-align: right;\n",
       "    }\n",
       "</style>\n",
       "<table border=\"1\" class=\"dataframe\">\n",
       "  <thead>\n",
       "    <tr style=\"text-align: right;\">\n",
       "      <th></th>\n",
       "      <th>person_id</th>\n",
       "      <th>household_id</th>\n",
       "      <th>usia</th>\n",
       "      <th>sex</th>\n",
       "      <th>sistol</th>\n",
       "      <th>diastol</th>\n",
       "      <th>diagnosis_htn</th>\n",
       "      <th>diabetes_koin</th>\n",
       "      <th>perokok</th>\n",
       "      <th>BMI</th>\n",
       "      <th>uptake_htn_program</th>\n",
       "      <th>adherence_htn</th>\n",
       "      <th>jenis_obat</th>\n",
       "    </tr>\n",
       "  </thead>\n",
       "  <tbody>\n",
       "    <tr>\n",
       "      <th>0</th>\n",
       "      <td>P001</td>\n",
       "      <td>HH001</td>\n",
       "      <td>55</td>\n",
       "      <td>F</td>\n",
       "      <td>108.5</td>\n",
       "      <td>79.8</td>\n",
       "      <td>0</td>\n",
       "      <td>0</td>\n",
       "      <td>0</td>\n",
       "      <td>27.9</td>\n",
       "      <td>0</td>\n",
       "      <td>0.00</td>\n",
       "      <td>-</td>\n",
       "    </tr>\n",
       "    <tr>\n",
       "      <th>1</th>\n",
       "      <td>P002</td>\n",
       "      <td>HH001</td>\n",
       "      <td>60</td>\n",
       "      <td>F</td>\n",
       "      <td>128.1</td>\n",
       "      <td>84.1</td>\n",
       "      <td>0</td>\n",
       "      <td>0</td>\n",
       "      <td>0</td>\n",
       "      <td>31.8</td>\n",
       "      <td>1</td>\n",
       "      <td>0.80</td>\n",
       "      <td>CCB</td>\n",
       "    </tr>\n",
       "    <tr>\n",
       "      <th>2</th>\n",
       "      <td>P003</td>\n",
       "      <td>HH002</td>\n",
       "      <td>65</td>\n",
       "      <td>M</td>\n",
       "      <td>130.4</td>\n",
       "      <td>87.3</td>\n",
       "      <td>0</td>\n",
       "      <td>0</td>\n",
       "      <td>1</td>\n",
       "      <td>25.5</td>\n",
       "      <td>1</td>\n",
       "      <td>0.94</td>\n",
       "      <td>ACEi</td>\n",
       "    </tr>\n",
       "    <tr>\n",
       "      <th>3</th>\n",
       "      <td>P004</td>\n",
       "      <td>HH002</td>\n",
       "      <td>45</td>\n",
       "      <td>F</td>\n",
       "      <td>135.4</td>\n",
       "      <td>88.2</td>\n",
       "      <td>0</td>\n",
       "      <td>0</td>\n",
       "      <td>0</td>\n",
       "      <td>18.8</td>\n",
       "      <td>0</td>\n",
       "      <td>0.00</td>\n",
       "      <td>-</td>\n",
       "    </tr>\n",
       "    <tr>\n",
       "      <th>4</th>\n",
       "      <td>P005</td>\n",
       "      <td>HH003</td>\n",
       "      <td>50</td>\n",
       "      <td>F</td>\n",
       "      <td>90.8</td>\n",
       "      <td>79.3</td>\n",
       "      <td>0</td>\n",
       "      <td>0</td>\n",
       "      <td>0</td>\n",
       "      <td>21.4</td>\n",
       "      <td>1</td>\n",
       "      <td>0.86</td>\n",
       "      <td>CCB</td>\n",
       "    </tr>\n",
       "  </tbody>\n",
       "</table>\n",
       "</div>"
      ],
      "text/plain": [
       "  person_id household_id  usia sex  sistol  diastol  diagnosis_htn  \\\n",
       "0      P001        HH001    55   F   108.5     79.8              0   \n",
       "1      P002        HH001    60   F   128.1     84.1              0   \n",
       "2      P003        HH002    65   M   130.4     87.3              0   \n",
       "3      P004        HH002    45   F   135.4     88.2              0   \n",
       "4      P005        HH003    50   F    90.8     79.3              0   \n",
       "\n",
       "   diabetes_koin  perokok   BMI  uptake_htn_program  adherence_htn jenis_obat  \n",
       "0              0        0  27.9                   0           0.00          -  \n",
       "1              0        0  31.8                   1           0.80        CCB  \n",
       "2              0        1  25.5                   1           0.94       ACEi  \n",
       "3              0        0  18.8                   0           0.00          -  \n",
       "4              0        0  21.4                   1           0.86        CCB  "
      ]
     },
     "metadata": {},
     "output_type": "display_data"
    },
    {
     "name": "stdout",
     "output_type": "stream",
     "text": [
      "\n",
      "📊 New Children Stunting Data (WHO Standards):\n"
     ]
    },
    {
     "data": {
      "text/html": [
       "<div>\n",
       "<style scoped>\n",
       "    .dataframe tbody tr th:only-of-type {\n",
       "        vertical-align: middle;\n",
       "    }\n",
       "\n",
       "    .dataframe tbody tr th {\n",
       "        vertical-align: top;\n",
       "    }\n",
       "\n",
       "    .dataframe thead th {\n",
       "        text-align: right;\n",
       "    }\n",
       "</style>\n",
       "<table border=\"1\" class=\"dataframe\">\n",
       "  <thead>\n",
       "    <tr style=\"text-align: right;\">\n",
       "      <th></th>\n",
       "      <th>child_id</th>\n",
       "      <th>household_id</th>\n",
       "      <th>usia_bulan</th>\n",
       "      <th>sex</th>\n",
       "      <th>BB</th>\n",
       "      <th>TB</th>\n",
       "      <th>HAZ</th>\n",
       "      <th>WAZ</th>\n",
       "      <th>WHZ</th>\n",
       "      <th>anemia_hb_gdl</th>\n",
       "      <th>ASI_eksklusif</th>\n",
       "      <th>mp_asi_memadai</th>\n",
       "      <th>air_bersih</th>\n",
       "      <th>jamban_sehat</th>\n",
       "      <th>uptake_stunting_program</th>\n",
       "      <th>intensitas_PMT_bln</th>\n",
       "      <th>biaya_WASH_bln</th>\n",
       "    </tr>\n",
       "  </thead>\n",
       "  <tbody>\n",
       "    <tr>\n",
       "      <th>0</th>\n",
       "      <td>C001</td>\n",
       "      <td>HH001</td>\n",
       "      <td>6</td>\n",
       "      <td>M</td>\n",
       "      <td>4.6</td>\n",
       "      <td>60.7</td>\n",
       "      <td>-0.03</td>\n",
       "      <td>0.34</td>\n",
       "      <td>-0.06</td>\n",
       "      <td>13.3</td>\n",
       "      <td>1</td>\n",
       "      <td>0</td>\n",
       "      <td>1</td>\n",
       "      <td>1</td>\n",
       "      <td>1</td>\n",
       "      <td>2</td>\n",
       "      <td>0</td>\n",
       "    </tr>\n",
       "    <tr>\n",
       "      <th>1</th>\n",
       "      <td>C002</td>\n",
       "      <td>HH001</td>\n",
       "      <td>18</td>\n",
       "      <td>F</td>\n",
       "      <td>7.1</td>\n",
       "      <td>76.5</td>\n",
       "      <td>-1.56</td>\n",
       "      <td>-1.06</td>\n",
       "      <td>1.13</td>\n",
       "      <td>11.5</td>\n",
       "      <td>0</td>\n",
       "      <td>1</td>\n",
       "      <td>1</td>\n",
       "      <td>1</td>\n",
       "      <td>1</td>\n",
       "      <td>2</td>\n",
       "      <td>0</td>\n",
       "    </tr>\n",
       "    <tr>\n",
       "      <th>2</th>\n",
       "      <td>C003</td>\n",
       "      <td>HH002</td>\n",
       "      <td>21</td>\n",
       "      <td>M</td>\n",
       "      <td>8.8</td>\n",
       "      <td>89.8</td>\n",
       "      <td>1.01</td>\n",
       "      <td>0.34</td>\n",
       "      <td>-0.98</td>\n",
       "      <td>13.2</td>\n",
       "      <td>0</td>\n",
       "      <td>1</td>\n",
       "      <td>1</td>\n",
       "      <td>0</td>\n",
       "      <td>1</td>\n",
       "      <td>1</td>\n",
       "      <td>50000</td>\n",
       "    </tr>\n",
       "    <tr>\n",
       "      <th>3</th>\n",
       "      <td>C004</td>\n",
       "      <td>HH002</td>\n",
       "      <td>6</td>\n",
       "      <td>M</td>\n",
       "      <td>5.7</td>\n",
       "      <td>62.9</td>\n",
       "      <td>1.05</td>\n",
       "      <td>0.70</td>\n",
       "      <td>-0.23</td>\n",
       "      <td>13.0</td>\n",
       "      <td>0</td>\n",
       "      <td>0</td>\n",
       "      <td>1</td>\n",
       "      <td>0</td>\n",
       "      <td>0</td>\n",
       "      <td>0</td>\n",
       "      <td>0</td>\n",
       "    </tr>\n",
       "    <tr>\n",
       "      <th>4</th>\n",
       "      <td>C005</td>\n",
       "      <td>HH003</td>\n",
       "      <td>21</td>\n",
       "      <td>M</td>\n",
       "      <td>9.3</td>\n",
       "      <td>91.3</td>\n",
       "      <td>1.77</td>\n",
       "      <td>2.08</td>\n",
       "      <td>-0.06</td>\n",
       "      <td>14.1</td>\n",
       "      <td>0</td>\n",
       "      <td>0</td>\n",
       "      <td>0</td>\n",
       "      <td>1</td>\n",
       "      <td>0</td>\n",
       "      <td>0</td>\n",
       "      <td>0</td>\n",
       "    </tr>\n",
       "  </tbody>\n",
       "</table>\n",
       "</div>"
      ],
      "text/plain": [
       "  child_id household_id  usia_bulan sex   BB    TB   HAZ   WAZ   WHZ  \\\n",
       "0     C001        HH001           6   M  4.6  60.7 -0.03  0.34 -0.06   \n",
       "1     C002        HH001          18   F  7.1  76.5 -1.56 -1.06  1.13   \n",
       "2     C003        HH002          21   M  8.8  89.8  1.01  0.34 -0.98   \n",
       "3     C004        HH002           6   M  5.7  62.9  1.05  0.70 -0.23   \n",
       "4     C005        HH003          21   M  9.3  91.3  1.77  2.08 -0.06   \n",
       "\n",
       "   anemia_hb_gdl  ASI_eksklusif  mp_asi_memadai  air_bersih  jamban_sehat  \\\n",
       "0           13.3              1               0           1             1   \n",
       "1           11.5              0               1           1             1   \n",
       "2           13.2              0               1           1             0   \n",
       "3           13.0              0               0           1             0   \n",
       "4           14.1              0               0           0             1   \n",
       "\n",
       "   uptake_stunting_program  intensitas_PMT_bln  biaya_WASH_bln  \n",
       "0                        1                   2               0  \n",
       "1                        1                   2               0  \n",
       "2                        1                   1           50000  \n",
       "3                        0                   0               0  \n",
       "4                        0                   0               0  "
      ]
     },
     "metadata": {},
     "output_type": "display_data"
    },
    {
     "name": "stdout",
     "output_type": "stream",
     "text": [
      "\n",
      "🏠 New Households Data:\n"
     ]
    },
    {
     "data": {
      "text/html": [
       "<div>\n",
       "<style scoped>\n",
       "    .dataframe tbody tr th:only-of-type {\n",
       "        vertical-align: middle;\n",
       "    }\n",
       "\n",
       "    .dataframe tbody tr th {\n",
       "        vertical-align: top;\n",
       "    }\n",
       "\n",
       "    .dataframe thead th {\n",
       "        text-align: right;\n",
       "    }\n",
       "</style>\n",
       "<table border=\"1\" class=\"dataframe\">\n",
       "  <thead>\n",
       "    <tr style=\"text-align: right;\">\n",
       "      <th></th>\n",
       "      <th>household_id</th>\n",
       "      <th>dusun</th>\n",
       "      <th>pendapatan_bulanan</th>\n",
       "      <th>air_bersih</th>\n",
       "      <th>jamban_sehat</th>\n",
       "      <th>jarak_ke_puskesmas_km</th>\n",
       "      <th>pendapatan_rt</th>\n",
       "      <th>jumlah_anggota</th>\n",
       "      <th>kepemilikan_rumah</th>\n",
       "      <th>akses_listrik</th>\n",
       "      <th>akses_internet</th>\n",
       "      <th>program_tendency</th>\n",
       "    </tr>\n",
       "  </thead>\n",
       "  <tbody>\n",
       "    <tr>\n",
       "      <th>0</th>\n",
       "      <td>HH001</td>\n",
       "      <td>Dusun B</td>\n",
       "      <td>2243441</td>\n",
       "      <td>0</td>\n",
       "      <td>0</td>\n",
       "      <td>0.1</td>\n",
       "      <td>26921293</td>\n",
       "      <td>3</td>\n",
       "      <td>0</td>\n",
       "      <td>1</td>\n",
       "      <td>0</td>\n",
       "      <td>0.553</td>\n",
       "    </tr>\n",
       "    <tr>\n",
       "      <th>1</th>\n",
       "      <td>HH002</td>\n",
       "      <td>Dusun A</td>\n",
       "      <td>3976189</td>\n",
       "      <td>1</td>\n",
       "      <td>1</td>\n",
       "      <td>0.5</td>\n",
       "      <td>47714268</td>\n",
       "      <td>3</td>\n",
       "      <td>1</td>\n",
       "      <td>1</td>\n",
       "      <td>1</td>\n",
       "      <td>0.794</td>\n",
       "    </tr>\n",
       "    <tr>\n",
       "      <th>2</th>\n",
       "      <td>HH003</td>\n",
       "      <td>Dusun A</td>\n",
       "      <td>2641707</td>\n",
       "      <td>1</td>\n",
       "      <td>1</td>\n",
       "      <td>0.6</td>\n",
       "      <td>31700488</td>\n",
       "      <td>5</td>\n",
       "      <td>1</td>\n",
       "      <td>1</td>\n",
       "      <td>1</td>\n",
       "      <td>0.852</td>\n",
       "    </tr>\n",
       "    <tr>\n",
       "      <th>3</th>\n",
       "      <td>HH004</td>\n",
       "      <td>Dusun D</td>\n",
       "      <td>1487229</td>\n",
       "      <td>1</td>\n",
       "      <td>1</td>\n",
       "      <td>4.1</td>\n",
       "      <td>17846748</td>\n",
       "      <td>6</td>\n",
       "      <td>1</td>\n",
       "      <td>1</td>\n",
       "      <td>0</td>\n",
       "      <td>0.614</td>\n",
       "    </tr>\n",
       "    <tr>\n",
       "      <th>4</th>\n",
       "      <td>HH005</td>\n",
       "      <td>Dusun A</td>\n",
       "      <td>3193069</td>\n",
       "      <td>0</td>\n",
       "      <td>0</td>\n",
       "      <td>0.9</td>\n",
       "      <td>38316838</td>\n",
       "      <td>5</td>\n",
       "      <td>1</td>\n",
       "      <td>1</td>\n",
       "      <td>1</td>\n",
       "      <td>0.900</td>\n",
       "    </tr>\n",
       "  </tbody>\n",
       "</table>\n",
       "</div>"
      ],
      "text/plain": [
       "  household_id    dusun  pendapatan_bulanan  air_bersih  jamban_sehat  \\\n",
       "0        HH001  Dusun B             2243441           0             0   \n",
       "1        HH002  Dusun A             3976189           1             1   \n",
       "2        HH003  Dusun A             2641707           1             1   \n",
       "3        HH004  Dusun D             1487229           1             1   \n",
       "4        HH005  Dusun A             3193069           0             0   \n",
       "\n",
       "   jarak_ke_puskesmas_km  pendapatan_rt  jumlah_anggota  kepemilikan_rumah  \\\n",
       "0                    0.1       26921293               3                  0   \n",
       "1                    0.5       47714268               3                  1   \n",
       "2                    0.6       31700488               5                  1   \n",
       "3                    4.1       17846748               6                  1   \n",
       "4                    0.9       38316838               5                  1   \n",
       "\n",
       "   akses_listrik  akses_internet  program_tendency  \n",
       "0              1               0             0.553  \n",
       "1              1               1             0.794  \n",
       "2              1               1             0.852  \n",
       "3              1               0             0.614  \n",
       "4              1               1             0.900  "
      ]
     },
     "metadata": {},
     "output_type": "display_data"
    },
    {
     "name": "stdout",
     "output_type": "stream",
     "text": [
      "\n",
      "✅ WHO Standards-Based Datasets:\n",
      "   Households: 25 households\n",
      "   Adults HTN: 50 participants\n",
      "   Children Stunting: 40 participants\n",
      "\n",
      "💾 WHO-based datasets exported (replacing originals):\n",
      "   - HOUSEHOLDS.csv\n",
      "   - ADULTS_HTN.csv\n",
      "   - CHILDREN_STUNTING.csv\n",
      "   - households_expanded.csv (compatibility)\n",
      "\n",
      "🎯 WHO STANDARDS COMPLIANCE:\n",
      "✅ Blood pressure based on WHO classifications\n",
      "✅ HAZ scores following WHO growth standards\n",
      "✅ BMI categories per WHO guidelines\n",
      "✅ Hemoglobin levels per WHO anemia thresholds\n",
      "✅ Indonesian epidemiological patterns\n",
      "✅ Realistic age-adjusted health outcomes\n",
      "✅ Evidence-based program participation rates\n",
      "🔄 Generating Longitudinal Data for Predictive Modeling...\n",
      "🔄 Generating program log with EXACT costs from catalog...\n",
      "📋 Using costs: {'screening_htn': 30000, 'obat_htn': 50000, 'kontrol_htn': 300000, 'transport_htn': 120000, 'PMT': 45000, 'mikronutrien': 20000, 'WASH': 15000, 'posyandu': 10000}\n",
      "💊 Processing HTN program costs...\n",
      "👶 Processing Stunting program costs...\n",
      "🚿 Processing WASH program costs...\n",
      "🔄 Generating program log with EXACT costs from catalog...\n",
      "📋 Using costs: {'screening_htn': 30000, 'obat_htn': 50000, 'kontrol_htn': 300000, 'transport_htn': 120000, 'PMT': 45000, 'mikronutrien': 20000, 'WASH': 15000, 'posyandu': 10000}\n",
      "💊 Processing HTN program costs...\n",
      "👶 Processing Stunting program costs...\n",
      "🚿 Processing WASH program costs...\n",
      "✅ Program log generated with 3,310 records\n",
      "✅ Generated Datasets:\n",
      "   Adults HTN Longitudinal: 1,850 records\n",
      "   Children Stunting Longitudinal: 1,177 records\n",
      "   Program Log Corrected: 3,310 records\n",
      "\n",
      "💰 FINAL COST VERIFICATION:\n",
      "\n",
      "COST BREAKDOWN BY PROGRAM:\n",
      "   PMT: Avg Rp 90,100 (Catalog: Rp 45,000), Total: Rp 24,507,281, Records: 272\n",
      "   WASH: Avg Rp 14,998 (Catalog: Rp 15,000), Total: Rp 3,599,434, Records: 240\n",
      "   kontrol_htn: Avg Rp 74,966 (Catalog: Rp 300,000), Total: Rp 23,689,362, Records: 316\n",
      "   mikronutrien: Avg Rp 20,017 (Catalog: Rp 20,000), Total: Rp 5,444,724, Records: 272\n",
      "   obat_htn: Avg Rp 50,022 (Catalog: Rp 50,000), Total: Rp 47,770,731, Records: 955\n",
      "   posyandu: Avg Rp 10,028 (Catalog: Rp 10,000), Total: Rp 2,727,581, Records: 272\n",
      "   screening_htn: Avg Rp 30,216 (Catalog: Rp 30,000), Total: Rp 846,048, Records: 28\n",
      "   transport_htn: Avg Rp 10,035 (Catalog: Rp 120,000), Total: Rp 9,583,700, Records: 955\n",
      "\n",
      "📊 SAMPLE LONGITUDINAL DATA:\n",
      "\n",
      "Adults HTN (First 10 records for Person P001):\n",
      "✅ Program log generated with 3,310 records\n",
      "✅ Generated Datasets:\n",
      "   Adults HTN Longitudinal: 1,850 records\n",
      "   Children Stunting Longitudinal: 1,177 records\n",
      "   Program Log Corrected: 3,310 records\n",
      "\n",
      "💰 FINAL COST VERIFICATION:\n",
      "\n",
      "COST BREAKDOWN BY PROGRAM:\n",
      "   PMT: Avg Rp 90,100 (Catalog: Rp 45,000), Total: Rp 24,507,281, Records: 272\n",
      "   WASH: Avg Rp 14,998 (Catalog: Rp 15,000), Total: Rp 3,599,434, Records: 240\n",
      "   kontrol_htn: Avg Rp 74,966 (Catalog: Rp 300,000), Total: Rp 23,689,362, Records: 316\n",
      "   mikronutrien: Avg Rp 20,017 (Catalog: Rp 20,000), Total: Rp 5,444,724, Records: 272\n",
      "   obat_htn: Avg Rp 50,022 (Catalog: Rp 50,000), Total: Rp 47,770,731, Records: 955\n",
      "   posyandu: Avg Rp 10,028 (Catalog: Rp 10,000), Total: Rp 2,727,581, Records: 272\n",
      "   screening_htn: Avg Rp 30,216 (Catalog: Rp 30,000), Total: Rp 846,048, Records: 28\n",
      "   transport_htn: Avg Rp 10,035 (Catalog: Rp 120,000), Total: Rp 9,583,700, Records: 955\n",
      "\n",
      "📊 SAMPLE LONGITUDINAL DATA:\n",
      "\n",
      "Adults HTN (First 10 records for Person P001):\n"
     ]
    },
    {
     "data": {
      "text/html": [
       "<div>\n",
       "<style scoped>\n",
       "    .dataframe tbody tr th:only-of-type {\n",
       "        vertical-align: middle;\n",
       "    }\n",
       "\n",
       "    .dataframe tbody tr th {\n",
       "        vertical-align: top;\n",
       "    }\n",
       "\n",
       "    .dataframe thead th {\n",
       "        text-align: right;\n",
       "    }\n",
       "</style>\n",
       "<table border=\"1\" class=\"dataframe\">\n",
       "  <thead>\n",
       "    <tr style=\"text-align: right;\">\n",
       "      <th></th>\n",
       "      <th>person_id</th>\n",
       "      <th>household_id</th>\n",
       "      <th>date</th>\n",
       "      <th>month</th>\n",
       "      <th>age</th>\n",
       "      <th>sex</th>\n",
       "      <th>sistol</th>\n",
       "      <th>diastol</th>\n",
       "      <th>diagnosis_htn</th>\n",
       "      <th>diabetes_koin</th>\n",
       "      <th>perokok</th>\n",
       "      <th>BMI</th>\n",
       "      <th>on_treatment</th>\n",
       "      <th>adherence_current</th>\n",
       "      <th>jenis_obat</th>\n",
       "      <th>cv_event</th>\n",
       "      <th>seasonal_factor</th>\n",
       "      <th>treatment_months</th>\n",
       "    </tr>\n",
       "  </thead>\n",
       "  <tbody>\n",
       "    <tr>\n",
       "      <th>0</th>\n",
       "      <td>P001</td>\n",
       "      <td>HH001</td>\n",
       "      <td>2021-01-01</td>\n",
       "      <td>0</td>\n",
       "      <td>55.000000</td>\n",
       "      <td>F</td>\n",
       "      <td>111.1</td>\n",
       "      <td>78.4</td>\n",
       "      <td>0</td>\n",
       "      <td>0</td>\n",
       "      <td>0</td>\n",
       "      <td>27.876586</td>\n",
       "      <td>0</td>\n",
       "      <td>0.0</td>\n",
       "      <td>-</td>\n",
       "      <td>0</td>\n",
       "      <td>-1.9</td>\n",
       "      <td>0</td>\n",
       "    </tr>\n",
       "    <tr>\n",
       "      <th>1</th>\n",
       "      <td>P001</td>\n",
       "      <td>HH001</td>\n",
       "      <td>2021-01-31</td>\n",
       "      <td>1</td>\n",
       "      <td>55.083333</td>\n",
       "      <td>F</td>\n",
       "      <td>112.0</td>\n",
       "      <td>80.7</td>\n",
       "      <td>0</td>\n",
       "      <td>0</td>\n",
       "      <td>0</td>\n",
       "      <td>27.853053</td>\n",
       "      <td>0</td>\n",
       "      <td>0.0</td>\n",
       "      <td>-</td>\n",
       "      <td>0</td>\n",
       "      <td>-1.7</td>\n",
       "      <td>0</td>\n",
       "    </tr>\n",
       "    <tr>\n",
       "      <th>2</th>\n",
       "      <td>P001</td>\n",
       "      <td>HH001</td>\n",
       "      <td>2021-03-02</td>\n",
       "      <td>2</td>\n",
       "      <td>55.166667</td>\n",
       "      <td>F</td>\n",
       "      <td>110.0</td>\n",
       "      <td>78.9</td>\n",
       "      <td>0</td>\n",
       "      <td>0</td>\n",
       "      <td>0</td>\n",
       "      <td>27.853427</td>\n",
       "      <td>0</td>\n",
       "      <td>0.0</td>\n",
       "      <td>-</td>\n",
       "      <td>0</td>\n",
       "      <td>-1.0</td>\n",
       "      <td>0</td>\n",
       "    </tr>\n",
       "    <tr>\n",
       "      <th>3</th>\n",
       "      <td>P001</td>\n",
       "      <td>HH001</td>\n",
       "      <td>2021-04-01</td>\n",
       "      <td>3</td>\n",
       "      <td>55.250000</td>\n",
       "      <td>F</td>\n",
       "      <td>110.4</td>\n",
       "      <td>76.7</td>\n",
       "      <td>0</td>\n",
       "      <td>0</td>\n",
       "      <td>0</td>\n",
       "      <td>27.727508</td>\n",
       "      <td>0</td>\n",
       "      <td>0.0</td>\n",
       "      <td>-</td>\n",
       "      <td>0</td>\n",
       "      <td>0.0</td>\n",
       "      <td>0</td>\n",
       "    </tr>\n",
       "    <tr>\n",
       "      <th>4</th>\n",
       "      <td>P001</td>\n",
       "      <td>HH001</td>\n",
       "      <td>2021-05-01</td>\n",
       "      <td>4</td>\n",
       "      <td>55.333333</td>\n",
       "      <td>F</td>\n",
       "      <td>109.4</td>\n",
       "      <td>79.2</td>\n",
       "      <td>0</td>\n",
       "      <td>0</td>\n",
       "      <td>0</td>\n",
       "      <td>27.931425</td>\n",
       "      <td>0</td>\n",
       "      <td>0.0</td>\n",
       "      <td>-</td>\n",
       "      <td>0</td>\n",
       "      <td>1.0</td>\n",
       "      <td>0</td>\n",
       "    </tr>\n",
       "    <tr>\n",
       "      <th>5</th>\n",
       "      <td>P001</td>\n",
       "      <td>HH001</td>\n",
       "      <td>2021-05-31</td>\n",
       "      <td>5</td>\n",
       "      <td>55.416667</td>\n",
       "      <td>F</td>\n",
       "      <td>109.5</td>\n",
       "      <td>79.0</td>\n",
       "      <td>0</td>\n",
       "      <td>0</td>\n",
       "      <td>0</td>\n",
       "      <td>28.046565</td>\n",
       "      <td>0</td>\n",
       "      <td>0.0</td>\n",
       "      <td>-</td>\n",
       "      <td>0</td>\n",
       "      <td>1.7</td>\n",
       "      <td>0</td>\n",
       "    </tr>\n",
       "    <tr>\n",
       "      <th>6</th>\n",
       "      <td>P001</td>\n",
       "      <td>HH001</td>\n",
       "      <td>2021-06-30</td>\n",
       "      <td>6</td>\n",
       "      <td>55.500000</td>\n",
       "      <td>F</td>\n",
       "      <td>112.2</td>\n",
       "      <td>82.4</td>\n",
       "      <td>0</td>\n",
       "      <td>0</td>\n",
       "      <td>0</td>\n",
       "      <td>27.757525</td>\n",
       "      <td>0</td>\n",
       "      <td>0.0</td>\n",
       "      <td>-</td>\n",
       "      <td>0</td>\n",
       "      <td>1.9</td>\n",
       "      <td>0</td>\n",
       "    </tr>\n",
       "    <tr>\n",
       "      <th>7</th>\n",
       "      <td>P001</td>\n",
       "      <td>HH001</td>\n",
       "      <td>2021-07-30</td>\n",
       "      <td>7</td>\n",
       "      <td>55.583333</td>\n",
       "      <td>F</td>\n",
       "      <td>111.4</td>\n",
       "      <td>82.6</td>\n",
       "      <td>0</td>\n",
       "      <td>0</td>\n",
       "      <td>0</td>\n",
       "      <td>27.784901</td>\n",
       "      <td>0</td>\n",
       "      <td>0.0</td>\n",
       "      <td>-</td>\n",
       "      <td>0</td>\n",
       "      <td>1.7</td>\n",
       "      <td>0</td>\n",
       "    </tr>\n",
       "    <tr>\n",
       "      <th>8</th>\n",
       "      <td>P001</td>\n",
       "      <td>HH001</td>\n",
       "      <td>2021-08-29</td>\n",
       "      <td>8</td>\n",
       "      <td>55.666667</td>\n",
       "      <td>F</td>\n",
       "      <td>113.8</td>\n",
       "      <td>81.0</td>\n",
       "      <td>0</td>\n",
       "      <td>0</td>\n",
       "      <td>0</td>\n",
       "      <td>27.870831</td>\n",
       "      <td>0</td>\n",
       "      <td>0.0</td>\n",
       "      <td>-</td>\n",
       "      <td>0</td>\n",
       "      <td>1.0</td>\n",
       "      <td>0</td>\n",
       "    </tr>\n",
       "    <tr>\n",
       "      <th>9</th>\n",
       "      <td>P001</td>\n",
       "      <td>HH001</td>\n",
       "      <td>2021-09-28</td>\n",
       "      <td>9</td>\n",
       "      <td>55.750000</td>\n",
       "      <td>F</td>\n",
       "      <td>110.4</td>\n",
       "      <td>85.7</td>\n",
       "      <td>0</td>\n",
       "      <td>0</td>\n",
       "      <td>0</td>\n",
       "      <td>27.898650</td>\n",
       "      <td>0</td>\n",
       "      <td>0.0</td>\n",
       "      <td>-</td>\n",
       "      <td>0</td>\n",
       "      <td>0.0</td>\n",
       "      <td>0</td>\n",
       "    </tr>\n",
       "  </tbody>\n",
       "</table>\n",
       "</div>"
      ],
      "text/plain": [
       "  person_id household_id       date  month        age sex  sistol  diastol  \\\n",
       "0      P001        HH001 2021-01-01      0  55.000000   F   111.1     78.4   \n",
       "1      P001        HH001 2021-01-31      1  55.083333   F   112.0     80.7   \n",
       "2      P001        HH001 2021-03-02      2  55.166667   F   110.0     78.9   \n",
       "3      P001        HH001 2021-04-01      3  55.250000   F   110.4     76.7   \n",
       "4      P001        HH001 2021-05-01      4  55.333333   F   109.4     79.2   \n",
       "5      P001        HH001 2021-05-31      5  55.416667   F   109.5     79.0   \n",
       "6      P001        HH001 2021-06-30      6  55.500000   F   112.2     82.4   \n",
       "7      P001        HH001 2021-07-30      7  55.583333   F   111.4     82.6   \n",
       "8      P001        HH001 2021-08-29      8  55.666667   F   113.8     81.0   \n",
       "9      P001        HH001 2021-09-28      9  55.750000   F   110.4     85.7   \n",
       "\n",
       "   diagnosis_htn  diabetes_koin  perokok        BMI  on_treatment  \\\n",
       "0              0              0        0  27.876586             0   \n",
       "1              0              0        0  27.853053             0   \n",
       "2              0              0        0  27.853427             0   \n",
       "3              0              0        0  27.727508             0   \n",
       "4              0              0        0  27.931425             0   \n",
       "5              0              0        0  28.046565             0   \n",
       "6              0              0        0  27.757525             0   \n",
       "7              0              0        0  27.784901             0   \n",
       "8              0              0        0  27.870831             0   \n",
       "9              0              0        0  27.898650             0   \n",
       "\n",
       "   adherence_current jenis_obat  cv_event  seasonal_factor  treatment_months  \n",
       "0                0.0          -         0             -1.9                 0  \n",
       "1                0.0          -         0             -1.7                 0  \n",
       "2                0.0          -         0             -1.0                 0  \n",
       "3                0.0          -         0              0.0                 0  \n",
       "4                0.0          -         0              1.0                 0  \n",
       "5                0.0          -         0              1.7                 0  \n",
       "6                0.0          -         0              1.9                 0  \n",
       "7                0.0          -         0              1.7                 0  \n",
       "8                0.0          -         0              1.0                 0  \n",
       "9                0.0          -         0              0.0                 0  "
      ]
     },
     "metadata": {},
     "output_type": "display_data"
    },
    {
     "name": "stdout",
     "output_type": "stream",
     "text": [
      "\n",
      "Children Stunting (First 10 records for Child C001):\n"
     ]
    },
    {
     "data": {
      "text/html": [
       "<div>\n",
       "<style scoped>\n",
       "    .dataframe tbody tr th:only-of-type {\n",
       "        vertical-align: middle;\n",
       "    }\n",
       "\n",
       "    .dataframe tbody tr th {\n",
       "        vertical-align: top;\n",
       "    }\n",
       "\n",
       "    .dataframe thead th {\n",
       "        text-align: right;\n",
       "    }\n",
       "</style>\n",
       "<table border=\"1\" class=\"dataframe\">\n",
       "  <thead>\n",
       "    <tr style=\"text-align: right;\">\n",
       "      <th></th>\n",
       "      <th>child_id</th>\n",
       "      <th>household_id</th>\n",
       "      <th>date</th>\n",
       "      <th>month</th>\n",
       "      <th>usia_bulan</th>\n",
       "      <th>sex</th>\n",
       "      <th>BB</th>\n",
       "      <th>TB</th>\n",
       "      <th>HAZ</th>\n",
       "      <th>WAZ</th>\n",
       "      <th>...</th>\n",
       "      <th>anemia_hb_gdl</th>\n",
       "      <th>ASI_eksklusif</th>\n",
       "      <th>mp_asi_memadai</th>\n",
       "      <th>air_bersih</th>\n",
       "      <th>jamban_sehat</th>\n",
       "      <th>diare_bulan_ini</th>\n",
       "      <th>on_program</th>\n",
       "      <th>program_months</th>\n",
       "      <th>seasonal_nutrition</th>\n",
       "      <th>haz_change_this_month</th>\n",
       "    </tr>\n",
       "  </thead>\n",
       "  <tbody>\n",
       "    <tr>\n",
       "      <th>0</th>\n",
       "      <td>C001</td>\n",
       "      <td>HH001</td>\n",
       "      <td>2021-01-01</td>\n",
       "      <td>0</td>\n",
       "      <td>6</td>\n",
       "      <td>M</td>\n",
       "      <td>4.6</td>\n",
       "      <td>60.7</td>\n",
       "      <td>-0.03</td>\n",
       "      <td>0.18</td>\n",
       "      <td>...</td>\n",
       "      <td>13.2</td>\n",
       "      <td>0</td>\n",
       "      <td>0</td>\n",
       "      <td>1</td>\n",
       "      <td>1</td>\n",
       "      <td>0</td>\n",
       "      <td>0</td>\n",
       "      <td>0</td>\n",
       "      <td>0.10</td>\n",
       "      <td>0.228</td>\n",
       "    </tr>\n",
       "    <tr>\n",
       "      <th>1</th>\n",
       "      <td>C001</td>\n",
       "      <td>HH001</td>\n",
       "      <td>2021-01-31</td>\n",
       "      <td>1</td>\n",
       "      <td>7</td>\n",
       "      <td>M</td>\n",
       "      <td>5.0</td>\n",
       "      <td>61.9</td>\n",
       "      <td>0.18</td>\n",
       "      <td>0.42</td>\n",
       "      <td>...</td>\n",
       "      <td>13.5</td>\n",
       "      <td>0</td>\n",
       "      <td>0</td>\n",
       "      <td>1</td>\n",
       "      <td>1</td>\n",
       "      <td>0</td>\n",
       "      <td>1</td>\n",
       "      <td>0</td>\n",
       "      <td>0.09</td>\n",
       "      <td>0.214</td>\n",
       "    </tr>\n",
       "    <tr>\n",
       "      <th>2</th>\n",
       "      <td>C001</td>\n",
       "      <td>HH001</td>\n",
       "      <td>2021-03-02</td>\n",
       "      <td>2</td>\n",
       "      <td>8</td>\n",
       "      <td>M</td>\n",
       "      <td>5.3</td>\n",
       "      <td>63.0</td>\n",
       "      <td>0.36</td>\n",
       "      <td>0.44</td>\n",
       "      <td>...</td>\n",
       "      <td>14.0</td>\n",
       "      <td>0</td>\n",
       "      <td>0</td>\n",
       "      <td>1</td>\n",
       "      <td>1</td>\n",
       "      <td>0</td>\n",
       "      <td>1</td>\n",
       "      <td>1</td>\n",
       "      <td>0.05</td>\n",
       "      <td>0.172</td>\n",
       "    </tr>\n",
       "    <tr>\n",
       "      <th>3</th>\n",
       "      <td>C001</td>\n",
       "      <td>HH001</td>\n",
       "      <td>2021-04-01</td>\n",
       "      <td>3</td>\n",
       "      <td>9</td>\n",
       "      <td>M</td>\n",
       "      <td>5.5</td>\n",
       "      <td>64.2</td>\n",
       "      <td>0.55</td>\n",
       "      <td>0.27</td>\n",
       "      <td>...</td>\n",
       "      <td>14.3</td>\n",
       "      <td>0</td>\n",
       "      <td>0</td>\n",
       "      <td>1</td>\n",
       "      <td>1</td>\n",
       "      <td>0</td>\n",
       "      <td>1</td>\n",
       "      <td>2</td>\n",
       "      <td>-0.00</td>\n",
       "      <td>0.195</td>\n",
       "    </tr>\n",
       "    <tr>\n",
       "      <th>4</th>\n",
       "      <td>C001</td>\n",
       "      <td>HH001</td>\n",
       "      <td>2021-05-01</td>\n",
       "      <td>4</td>\n",
       "      <td>10</td>\n",
       "      <td>M</td>\n",
       "      <td>5.8</td>\n",
       "      <td>65.2</td>\n",
       "      <td>0.75</td>\n",
       "      <td>0.89</td>\n",
       "      <td>...</td>\n",
       "      <td>14.7</td>\n",
       "      <td>0</td>\n",
       "      <td>0</td>\n",
       "      <td>1</td>\n",
       "      <td>1</td>\n",
       "      <td>0</td>\n",
       "      <td>1</td>\n",
       "      <td>3</td>\n",
       "      <td>-0.05</td>\n",
       "      <td>0.201</td>\n",
       "    </tr>\n",
       "    <tr>\n",
       "      <th>5</th>\n",
       "      <td>C001</td>\n",
       "      <td>HH001</td>\n",
       "      <td>2021-05-31</td>\n",
       "      <td>5</td>\n",
       "      <td>11</td>\n",
       "      <td>M</td>\n",
       "      <td>6.0</td>\n",
       "      <td>66.7</td>\n",
       "      <td>0.97</td>\n",
       "      <td>0.72</td>\n",
       "      <td>...</td>\n",
       "      <td>15.0</td>\n",
       "      <td>0</td>\n",
       "      <td>0</td>\n",
       "      <td>1</td>\n",
       "      <td>1</td>\n",
       "      <td>0</td>\n",
       "      <td>1</td>\n",
       "      <td>4</td>\n",
       "      <td>-0.09</td>\n",
       "      <td>0.218</td>\n",
       "    </tr>\n",
       "    <tr>\n",
       "      <th>6</th>\n",
       "      <td>C001</td>\n",
       "      <td>HH001</td>\n",
       "      <td>2021-06-30</td>\n",
       "      <td>6</td>\n",
       "      <td>12</td>\n",
       "      <td>M</td>\n",
       "      <td>6.2</td>\n",
       "      <td>67.5</td>\n",
       "      <td>1.00</td>\n",
       "      <td>0.65</td>\n",
       "      <td>...</td>\n",
       "      <td>13.6</td>\n",
       "      <td>0</td>\n",
       "      <td>0</td>\n",
       "      <td>1</td>\n",
       "      <td>1</td>\n",
       "      <td>0</td>\n",
       "      <td>1</td>\n",
       "      <td>5</td>\n",
       "      <td>-0.10</td>\n",
       "      <td>0.025</td>\n",
       "    </tr>\n",
       "    <tr>\n",
       "      <th>7</th>\n",
       "      <td>C001</td>\n",
       "      <td>HH001</td>\n",
       "      <td>2021-07-30</td>\n",
       "      <td>7</td>\n",
       "      <td>13</td>\n",
       "      <td>M</td>\n",
       "      <td>6.7</td>\n",
       "      <td>68.6</td>\n",
       "      <td>1.24</td>\n",
       "      <td>1.67</td>\n",
       "      <td>...</td>\n",
       "      <td>15.0</td>\n",
       "      <td>0</td>\n",
       "      <td>0</td>\n",
       "      <td>1</td>\n",
       "      <td>1</td>\n",
       "      <td>0</td>\n",
       "      <td>1</td>\n",
       "      <td>6</td>\n",
       "      <td>-0.09</td>\n",
       "      <td>0.243</td>\n",
       "    </tr>\n",
       "    <tr>\n",
       "      <th>8</th>\n",
       "      <td>C001</td>\n",
       "      <td>HH001</td>\n",
       "      <td>2021-08-29</td>\n",
       "      <td>8</td>\n",
       "      <td>14</td>\n",
       "      <td>M</td>\n",
       "      <td>7.1</td>\n",
       "      <td>70.0</td>\n",
       "      <td>1.36</td>\n",
       "      <td>1.34</td>\n",
       "      <td>...</td>\n",
       "      <td>15.0</td>\n",
       "      <td>0</td>\n",
       "      <td>0</td>\n",
       "      <td>1</td>\n",
       "      <td>1</td>\n",
       "      <td>0</td>\n",
       "      <td>1</td>\n",
       "      <td>7</td>\n",
       "      <td>-0.05</td>\n",
       "      <td>0.125</td>\n",
       "    </tr>\n",
       "    <tr>\n",
       "      <th>9</th>\n",
       "      <td>C001</td>\n",
       "      <td>HH001</td>\n",
       "      <td>2021-09-28</td>\n",
       "      <td>9</td>\n",
       "      <td>15</td>\n",
       "      <td>M</td>\n",
       "      <td>7.4</td>\n",
       "      <td>71.5</td>\n",
       "      <td>1.68</td>\n",
       "      <td>0.93</td>\n",
       "      <td>...</td>\n",
       "      <td>15.0</td>\n",
       "      <td>0</td>\n",
       "      <td>0</td>\n",
       "      <td>1</td>\n",
       "      <td>1</td>\n",
       "      <td>0</td>\n",
       "      <td>1</td>\n",
       "      <td>8</td>\n",
       "      <td>0.00</td>\n",
       "      <td>0.316</td>\n",
       "    </tr>\n",
       "  </tbody>\n",
       "</table>\n",
       "<p>10 rows × 21 columns</p>\n",
       "</div>"
      ],
      "text/plain": [
       "  child_id household_id       date  month  usia_bulan sex   BB    TB   HAZ  \\\n",
       "0     C001        HH001 2021-01-01      0           6   M  4.6  60.7 -0.03   \n",
       "1     C001        HH001 2021-01-31      1           7   M  5.0  61.9  0.18   \n",
       "2     C001        HH001 2021-03-02      2           8   M  5.3  63.0  0.36   \n",
       "3     C001        HH001 2021-04-01      3           9   M  5.5  64.2  0.55   \n",
       "4     C001        HH001 2021-05-01      4          10   M  5.8  65.2  0.75   \n",
       "5     C001        HH001 2021-05-31      5          11   M  6.0  66.7  0.97   \n",
       "6     C001        HH001 2021-06-30      6          12   M  6.2  67.5  1.00   \n",
       "7     C001        HH001 2021-07-30      7          13   M  6.7  68.6  1.24   \n",
       "8     C001        HH001 2021-08-29      8          14   M  7.1  70.0  1.36   \n",
       "9     C001        HH001 2021-09-28      9          15   M  7.4  71.5  1.68   \n",
       "\n",
       "    WAZ  ...  anemia_hb_gdl  ASI_eksklusif  mp_asi_memadai  air_bersih  \\\n",
       "0  0.18  ...           13.2              0               0           1   \n",
       "1  0.42  ...           13.5              0               0           1   \n",
       "2  0.44  ...           14.0              0               0           1   \n",
       "3  0.27  ...           14.3              0               0           1   \n",
       "4  0.89  ...           14.7              0               0           1   \n",
       "5  0.72  ...           15.0              0               0           1   \n",
       "6  0.65  ...           13.6              0               0           1   \n",
       "7  1.67  ...           15.0              0               0           1   \n",
       "8  1.34  ...           15.0              0               0           1   \n",
       "9  0.93  ...           15.0              0               0           1   \n",
       "\n",
       "   jamban_sehat  diare_bulan_ini  on_program  program_months  \\\n",
       "0             1                0           0               0   \n",
       "1             1                0           1               0   \n",
       "2             1                0           1               1   \n",
       "3             1                0           1               2   \n",
       "4             1                0           1               3   \n",
       "5             1                0           1               4   \n",
       "6             1                0           1               5   \n",
       "7             1                0           1               6   \n",
       "8             1                0           1               7   \n",
       "9             1                0           1               8   \n",
       "\n",
       "   seasonal_nutrition  haz_change_this_month  \n",
       "0                0.10                  0.228  \n",
       "1                0.09                  0.214  \n",
       "2                0.05                  0.172  \n",
       "3               -0.00                  0.195  \n",
       "4               -0.05                  0.201  \n",
       "5               -0.09                  0.218  \n",
       "6               -0.10                  0.025  \n",
       "7               -0.09                  0.243  \n",
       "8               -0.05                  0.125  \n",
       "9                0.00                  0.316  \n",
       "\n",
       "[10 rows x 21 columns]"
      ]
     },
     "metadata": {},
     "output_type": "display_data"
    },
    {
     "name": "stdout",
     "output_type": "stream",
     "text": [
      "\n",
      "Program Log Sample:\n"
     ]
    },
    {
     "data": {
      "text/html": [
       "<div>\n",
       "<style scoped>\n",
       "    .dataframe tbody tr th:only-of-type {\n",
       "        vertical-align: middle;\n",
       "    }\n",
       "\n",
       "    .dataframe tbody tr th {\n",
       "        vertical-align: top;\n",
       "    }\n",
       "\n",
       "    .dataframe thead th {\n",
       "        text-align: right;\n",
       "    }\n",
       "</style>\n",
       "<table border=\"1\" class=\"dataframe\">\n",
       "  <thead>\n",
       "    <tr style=\"text-align: right;\">\n",
       "      <th></th>\n",
       "      <th>id</th>\n",
       "      <th>target_id</th>\n",
       "      <th>program</th>\n",
       "      <th>tanggal</th>\n",
       "      <th>unit_terkirim</th>\n",
       "      <th>biaya_riil</th>\n",
       "    </tr>\n",
       "  </thead>\n",
       "  <tbody>\n",
       "    <tr>\n",
       "      <th>0</th>\n",
       "      <td>1</td>\n",
       "      <td>P002</td>\n",
       "      <td>obat_htn</td>\n",
       "      <td>2021-05-01</td>\n",
       "      <td>1</td>\n",
       "      <td>52375.0</td>\n",
       "    </tr>\n",
       "    <tr>\n",
       "      <th>1</th>\n",
       "      <td>2</td>\n",
       "      <td>P002</td>\n",
       "      <td>transport_htn</td>\n",
       "      <td>2021-05-01</td>\n",
       "      <td>1</td>\n",
       "      <td>9836.0</td>\n",
       "    </tr>\n",
       "    <tr>\n",
       "      <th>2</th>\n",
       "      <td>3</td>\n",
       "      <td>P002</td>\n",
       "      <td>obat_htn</td>\n",
       "      <td>2021-05-31</td>\n",
       "      <td>1</td>\n",
       "      <td>50057.0</td>\n",
       "    </tr>\n",
       "    <tr>\n",
       "      <th>3</th>\n",
       "      <td>4</td>\n",
       "      <td>P002</td>\n",
       "      <td>transport_htn</td>\n",
       "      <td>2021-05-31</td>\n",
       "      <td>1</td>\n",
       "      <td>10096.0</td>\n",
       "    </tr>\n",
       "    <tr>\n",
       "      <th>4</th>\n",
       "      <td>5</td>\n",
       "      <td>P002</td>\n",
       "      <td>screening_htn</td>\n",
       "      <td>2021-05-31</td>\n",
       "      <td>1</td>\n",
       "      <td>30859.0</td>\n",
       "    </tr>\n",
       "    <tr>\n",
       "      <th>5</th>\n",
       "      <td>6</td>\n",
       "      <td>P002</td>\n",
       "      <td>obat_htn</td>\n",
       "      <td>2021-06-30</td>\n",
       "      <td>1</td>\n",
       "      <td>51860.0</td>\n",
       "    </tr>\n",
       "    <tr>\n",
       "      <th>6</th>\n",
       "      <td>7</td>\n",
       "      <td>P002</td>\n",
       "      <td>kontrol_htn</td>\n",
       "      <td>2021-06-30</td>\n",
       "      <td>1</td>\n",
       "      <td>75312.0</td>\n",
       "    </tr>\n",
       "    <tr>\n",
       "      <th>7</th>\n",
       "      <td>8</td>\n",
       "      <td>P002</td>\n",
       "      <td>transport_htn</td>\n",
       "      <td>2021-06-30</td>\n",
       "      <td>1</td>\n",
       "      <td>10397.0</td>\n",
       "    </tr>\n",
       "    <tr>\n",
       "      <th>8</th>\n",
       "      <td>9</td>\n",
       "      <td>P002</td>\n",
       "      <td>obat_htn</td>\n",
       "      <td>2021-07-30</td>\n",
       "      <td>1</td>\n",
       "      <td>51322.0</td>\n",
       "    </tr>\n",
       "    <tr>\n",
       "      <th>9</th>\n",
       "      <td>10</td>\n",
       "      <td>P002</td>\n",
       "      <td>transport_htn</td>\n",
       "      <td>2021-07-30</td>\n",
       "      <td>1</td>\n",
       "      <td>9009.0</td>\n",
       "    </tr>\n",
       "  </tbody>\n",
       "</table>\n",
       "</div>"
      ],
      "text/plain": [
       "   id target_id        program    tanggal  unit_terkirim  biaya_riil\n",
       "0   1      P002       obat_htn 2021-05-01              1     52375.0\n",
       "1   2      P002  transport_htn 2021-05-01              1      9836.0\n",
       "2   3      P002       obat_htn 2021-05-31              1     50057.0\n",
       "3   4      P002  transport_htn 2021-05-31              1     10096.0\n",
       "4   5      P002  screening_htn 2021-05-31              1     30859.0\n",
       "5   6      P002       obat_htn 2021-06-30              1     51860.0\n",
       "6   7      P002    kontrol_htn 2021-06-30              1     75312.0\n",
       "7   8      P002  transport_htn 2021-06-30              1     10397.0\n",
       "8   9      P002       obat_htn 2021-07-30              1     51322.0\n",
       "9  10      P002  transport_htn 2021-07-30              1      9009.0"
      ]
     },
     "metadata": {},
     "output_type": "display_data"
    },
    {
     "name": "stdout",
     "output_type": "stream",
     "text": [
      "\n",
      "💾 Datasets exported:\n",
      "   - adults_htn_longitudinal.csv\n",
      "   - children_stunting_longitudinal.csv\n",
      "   - program_log_longitudinal_corrected.csv\n",
      "\n",
      "🎯 WHAT THIS ENABLES:\n",
      "1. 📈 Time-series forecasting models\n",
      "2. 🔮 Predictive health outcome modeling\n",
      "3. 📊 Treatment response prediction\n",
      "4. 💊 Intervention timing optimization\n",
      "5. 🎯 Risk stratification algorithms\n",
      "6. 💰 Cost-effectiveness over time\n",
      "\n",
      "📋 DATA CHARACTERISTICS:\n",
      "✅ Realistic clinical progressions\n",
      "✅ Seasonal and environmental effects\n",
      "✅ Treatment adherence decay\n",
      "✅ Individual variation patterns\n",
      "✅ Intervention timing effects\n",
      "✅ Catch-up growth for children\n",
      "✅ Age-appropriate development\n",
      "✅ EXACT cost catalog alignment\n"
     ]
    }
   ],
   "source": [
    "# Complete WHO Standards-Based Data Generation Notebook - Realistic Health Data\n",
    "\n",
    "import pandas as pd\n",
    "import numpy as np\n",
    "from datetime import datetime, timedelta\n",
    "import random\n",
    "from scipy import stats\n",
    "\n",
    "## WHO Growth Standards and Medical Guidelines\n",
    "\n",
    "# WHO Growth Standards for HAZ (Height-for-Age Z-scores)\n",
    "WHO_HAZ_STANDARDS = {\n",
    "    'normal': {'mean': 0, 'std': 1},                    # Normal growth (HAZ >= -1)\n",
    "    'mild_stunting': {'mean': -1.5, 'std': 0.3},       # Mild stunting (-2 < HAZ < -1)\n",
    "    'moderate_stunting': {'mean': -2.5, 'std': 0.3},   # Moderate stunting (-3 < HAZ <= -2)\n",
    "    'severe_stunting': {'mean': -3.5, 'std': 0.5}      # Severe stunting (HAZ <= -3)\n",
    "}\n",
    "\n",
    "# WHO Blood Pressure Classification (Adults) - mmHg\n",
    "WHO_BP_STANDARDS = {\n",
    "    'optimal': {'systolic': (90, 120), 'diastolic': (60, 80)},       # Optimal BP\n",
    "    'normal': {'systolic': (120, 130), 'diastolic': (80, 85)},       # Normal BP\n",
    "    'high_normal': {'systolic': (130, 140), 'diastolic': (85, 90)},  # High normal\n",
    "    'stage1_htn': {'systolic': (140, 160), 'diastolic': (90, 100)},  # Stage 1 HTN\n",
    "    'stage2_htn': {'systolic': (160, 180), 'diastolic': (100, 110)}, # Stage 2 HTN\n",
    "    'stage3_htn': {'systolic': (180, 220), 'diastolic': (110, 130)}  # Stage 3 HTN (severe)\n",
    "}\n",
    "\n",
    "# WHO BMI Classification (Adults)\n",
    "WHO_BMI_STANDARDS = {\n",
    "    'severe_underweight': (12, 16),   # Severe underweight\n",
    "    'underweight': (16, 18.5),        # Underweight\n",
    "    'normal': (18.5, 25),             # Normal weight\n",
    "    'overweight': (25, 30),           # Overweight\n",
    "    'obese_class1': (30, 35),         # Obesity class I\n",
    "    'obese_class2': (35, 40),         # Obesity class II\n",
    "    'obese_class3': (40, 50)          # Obesity class III (morbid)\n",
    "}\n",
    "\n",
    "# WHO Hemoglobin Standards (children 6-59 months) - g/dL\n",
    "WHO_HB_STANDARDS = {\n",
    "    'severe_anemia': (7.0, 10.0),     # Severe anemia\n",
    "    'moderate_anemia': (10.0, 11.0),  # Moderate anemia\n",
    "    'mild_anemia': (11.0, 11.5),      # Mild anemia\n",
    "    'normal': (11.5, 15.0)            # Normal hemoglobin\n",
    "}\n",
    "\n",
    "# WHO Weight-for-Height Standards (children)\n",
    "WHO_WFH_STANDARDS = {\n",
    "    'severe_wasting': {'mean': -3.0, 'std': 0.5},    # Severe acute malnutrition\n",
    "    'moderate_wasting': {'mean': -2.5, 'std': 0.3},  # Moderate acute malnutrition\n",
    "    'normal': {'mean': 0, 'std': 1},                 # Normal weight-for-height\n",
    "    'overweight': {'mean': 2.0, 'std': 0.5}          # Overweight\n",
    "}\n",
    "\n",
    "# WHO Child Growth Velocity Standards (cm/month by age)\n",
    "WHO_GROWTH_VELOCITY = {\n",
    "    '0-6_months': {'height': 2.5, 'weight': 0.7},    # Rapid growth\n",
    "    '6-12_months': {'height': 1.5, 'weight': 0.3},   # Moderate growth\n",
    "    '12-24_months': {'height': 1.0, 'weight': 0.2},  # Steady growth\n",
    "    '24-60_months': {'height': 0.6, 'weight': 0.15}  # Slower growth\n",
    "}\n",
    "\n",
    "# Indonesian Population Health Statistics (for realistic baseline)\n",
    "INDONESIA_HEALTH_STATS = {\n",
    "    'stunting_prevalence': 0.24,      # 24% stunting rate\n",
    "    'hypertension_prevalence': 0.34,  # 34% hypertension rate (adults)\n",
    "    'diabetes_prevalence': 0.06,      # 6% diabetes rate\n",
    "    'smoking_prevalence': 0.28,       # 28% smoking rate (adults)\n",
    "    'exclusive_breastfeeding': 0.52,  # 52% exclusive breastfeeding\n",
    "    'clean_water_access': 0.73,       # 73% clean water access\n",
    "    'sanitation_access': 0.68         # 68% sanitation access\n",
    "}\n",
    "\n",
    "print(\"🌍 Initializing WHO Standards-Based Data Generation with Realistic Indonesian Health Patterns...\")\n",
    "\n",
    "## Step 1: WHO Standards-Based Data Generation Functions\n",
    "\n",
    "def generate_baseline_adults_who_standards(num_adults=50):\n",
    "    \"\"\"\n",
    "    Generate realistic adult HTN data based on WHO standards and Indonesian epidemiology\n",
    "    \"\"\"\n",
    "    adults_data = []\n",
    "    \n",
    "    for i in range(num_adults):\n",
    "        person_id = f\"P{i+1:03d}\"\n",
    "        household_id = f\"HH{(i // 2) + 1:03d}\"  # 2 adults per household on average\n",
    "        \n",
    "        # Age distribution (Indonesian adults with HTN - peaks at 45-65)\n",
    "        age = np.random.choice(\n",
    "            [35, 40, 45, 50, 55, 60, 65, 70, 75],\n",
    "            p=[0.05, 0.10, 0.15, 0.20, 0.20, 0.15, 0.10, 0.03, 0.02]\n",
    "        )\n",
    "        \n",
    "        # Sex distribution (slightly more females in Indonesian HTN population)\n",
    "        sex = np.random.choice(['M', 'F'], p=[0.45, 0.55])\n",
    "        \n",
    "        # Age-adjusted BMI based on WHO standards\n",
    "        if age < 45:\n",
    "            bmi_category = np.random.choice(\n",
    "                ['normal', 'overweight', 'obese_class1'], \n",
    "                p=[0.4, 0.4, 0.2]\n",
    "            )\n",
    "        else:\n",
    "            bmi_category = np.random.choice(\n",
    "                ['normal', 'overweight', 'obese_class1', 'obese_class2'], \n",
    "                p=[0.3, 0.4, 0.25, 0.05]\n",
    "            )\n",
    "        \n",
    "        bmi_range = WHO_BMI_STANDARDS[bmi_category]\n",
    "        bmi = np.random.uniform(bmi_range[0], bmi_range[1])\n",
    "        \n",
    "        # Blood pressure based on WHO classification and Indonesian prevalence\n",
    "        # 34% hypertension prevalence means 66% normal/elevated\n",
    "        bp_category = np.random.choice(\n",
    "            ['optimal', 'normal', 'high_normal', 'stage1_htn', 'stage2_htn', 'stage3_htn'],\n",
    "            p=[0.2, 0.25, 0.21, 0.20, 0.12, 0.02]  # Realistic Indonesian distribution\n",
    "        )\n",
    "        \n",
    "        bp_ranges = WHO_BP_STANDARDS[bp_category]\n",
    "        sistol = np.random.uniform(bp_ranges['systolic'][0], bp_ranges['systolic'][1])\n",
    "        diastol = np.random.uniform(bp_ranges['diastolic'][0], bp_ranges['diastolic'][1])\n",
    "        \n",
    "        # Ensure diastolic is physiologically consistent with systolic\n",
    "        if sistol > 160:\n",
    "            diastol = max(diastol, 95)  # Severe HTN usually has elevated diastolic\n",
    "        elif sistol < 120:\n",
    "            diastol = min(diastol, 85)  # Normal systolic usually has normal diastolic\n",
    "        \n",
    "        # Comorbidities based on age and BMI\n",
    "        diabetes_risk = 0.03 + (age - 35) * 0.002 + max(0, bmi - 25) * 0.01\n",
    "        diabetes_koin = 1 if np.random.random() < diabetes_risk else 0\n",
    "        \n",
    "        smoking_risk = 0.4 if sex == 'M' else 0.1  # Higher male smoking rate\n",
    "        perokok = 1 if np.random.random() < smoking_risk else 0\n",
    "        \n",
    "        # HTN diagnosis based on BP thresholds\n",
    "        diagnosis_htn = 1 if sistol >= 140 or diastol >= 90 else 0\n",
    "        \n",
    "        # Program participation influenced by severity and age\n",
    "        severe_htn = sistol >= 160 or diastol >= 100\n",
    "        program_risk = 0.3 + (0.4 if severe_htn else 0) + (age - 35) * 0.01\n",
    "        uptake_htn_program = 1 if np.random.random() < program_risk else 0\n",
    "        \n",
    "        # Adherence and medication\n",
    "        if uptake_htn_program:\n",
    "            adherence_htn = np.random.beta(8, 2)  # Skewed towards higher adherence\n",
    "            \n",
    "            # Medication choice based on age and comorbidities\n",
    "            if diabetes_koin:\n",
    "                jenis_obat = np.random.choice(['ACEi', 'ACEi+Diuretik'], p=[0.6, 0.4])\n",
    "            elif age > 60:\n",
    "                jenis_obat = np.random.choice(['Diuretik', 'CCB', 'ACEi'], p=[0.4, 0.35, 0.25])\n",
    "            else:\n",
    "                jenis_obat = np.random.choice(['ACEi', 'CCB', 'Diuretik'], p=[0.5, 0.3, 0.2])\n",
    "        else:\n",
    "            adherence_htn = 0\n",
    "            jenis_obat = '-'\n",
    "        \n",
    "        adults_data.append({\n",
    "            'person_id': person_id,\n",
    "            'household_id': household_id,\n",
    "            'usia': age,\n",
    "            'sex': sex,\n",
    "            'sistol': round(sistol, 1),\n",
    "            'diastol': round(diastol, 1),\n",
    "            'diagnosis_htn': diagnosis_htn,\n",
    "            'diabetes_koin': diabetes_koin,\n",
    "            'perokok': perokok,\n",
    "            'BMI': round(bmi, 1),\n",
    "            'uptake_htn_program': uptake_htn_program,\n",
    "            'adherence_htn': round(adherence_htn, 2),\n",
    "            'jenis_obat': jenis_obat\n",
    "        })\n",
    "    \n",
    "    return pd.DataFrame(adults_data)\n",
    "\n",
    "def generate_baseline_children_who_standards(num_children=40):\n",
    "    \"\"\"\n",
    "    Generate realistic children stunting data based on WHO growth standards\n",
    "    \"\"\"\n",
    "    children_data = []\n",
    "    \n",
    "    for i in range(num_children):\n",
    "        child_id = f\"C{i+1:03d}\"\n",
    "        household_id = f\"HH{(i // 2) + 1:03d}\"  # ~2 children per household\n",
    "        \n",
    "        # Age distribution (6-59 months, peak vulnerability at 12-24 months)\n",
    "        usia_bulan = np.random.choice(\n",
    "            [6, 9, 12, 15, 18, 21, 24, 30, 36, 42, 48, 54],\n",
    "            p=[0.08, 0.08, 0.12, 0.15, 0.15, 0.12, 0.10, 0.08, 0.06, 0.03, 0.02, 0.01]\n",
    "        )\n",
    "        \n",
    "        sex = np.random.choice(['M', 'F'], p=[0.52, 0.48])  # Slight male preference\n",
    "        \n",
    "        # HAZ based on WHO standards and Indonesian stunting prevalence (24%)\n",
    "        haz_category = np.random.choice(\n",
    "            ['normal', 'mild_stunting', 'moderate_stunting', 'severe_stunting'],\n",
    "            p=[0.76, 0.12, 0.08, 0.04]  # 24% total stunting\n",
    "        )\n",
    "        \n",
    "        haz_params = WHO_HAZ_STANDARDS[haz_category]\n",
    "        HAZ = np.random.normal(haz_params['mean'], haz_params['std'])\n",
    "        \n",
    "        # Height and weight calculations based on HAZ and age\n",
    "        # Using simplified growth charts approximations\n",
    "        if sex == 'M':\n",
    "            expected_height = 50 + (usia_bulan * 1.8)  # Rough male growth\n",
    "            expected_weight = 3.5 + (usia_bulan * 0.25)\n",
    "        else:\n",
    "            expected_height = 49 + (usia_bulan * 1.7)  # Rough female growth\n",
    "            expected_weight = 3.3 + (usia_bulan * 0.23)\n",
    "        \n",
    "        # Adjust for HAZ\n",
    "        height_adjustment = HAZ * 2  # Each SD is ~2cm in early childhood\n",
    "        TB = expected_height + height_adjustment\n",
    "        \n",
    "        # Weight adjusted for height\n",
    "        weight_adjustment = HAZ * 0.3  # Weight follows height but less strictly\n",
    "        BB = expected_weight + weight_adjustment + np.random.normal(0, 0.3)\n",
    "        \n",
    "        # Ensure physiological bounds\n",
    "        TB = max(40, TB)  # Minimum height\n",
    "        BB = max(2, BB)   # Minimum weight\n",
    "        \n",
    "        # WAZ and WHZ calculated from HAZ with correlation\n",
    "        WAZ = HAZ + np.random.normal(0, 0.5)  # Correlated but not identical\n",
    "        WHZ = np.random.normal(-0.2, 0.8)     # Independent wasting indicator\n",
    "        \n",
    "        # Hemoglobin based on WHO standards and nutritional status\n",
    "        # Poorer HAZ correlates with lower Hb\n",
    "        if HAZ < -2:  # Stunted children\n",
    "            hb_category = np.random.choice(\n",
    "                ['severe_anemia', 'moderate_anemia', 'mild_anemia', 'normal'],\n",
    "                p=[0.15, 0.25, 0.35, 0.25]\n",
    "            )\n",
    "        else:  # Normal children\n",
    "            hb_category = np.random.choice(\n",
    "                ['moderate_anemia', 'mild_anemia', 'normal'],\n",
    "                p=[0.1, 0.2, 0.7]\n",
    "            )\n",
    "        \n",
    "        hb_range = WHO_HB_STANDARDS[hb_category]\n",
    "        anemia_hb_gdl = np.random.uniform(hb_range[0], hb_range[1])\n",
    "        \n",
    "        # Environmental factors affecting growth\n",
    "        # Access to clean water (73% in Indonesia)\n",
    "        air_bersih = 1 if np.random.random() < INDONESIA_HEALTH_STATS['clean_water_access'] else 0\n",
    "        \n",
    "        # Sanitation access (68% in Indonesia)\n",
    "        jamban_sehat = 1 if np.random.random() < INDONESIA_HEALTH_STATS['sanitation_access'] else 0\n",
    "        \n",
    "        # Exclusive breastfeeding (52% in Indonesia, higher for younger infants)\n",
    "        if usia_bulan <= 6:\n",
    "            bf_prob = INDONESIA_HEALTH_STATS['exclusive_breastfeeding']\n",
    "        else:\n",
    "            bf_prob = 0  # No longer exclusively breastfeeding\n",
    "        ASI_eksklusif = 1 if np.random.random() < bf_prob else 0\n",
    "        \n",
    "        # Adequate complementary feeding (correlated with household education/income)\n",
    "        mp_asi_memadai = 1 if np.random.random() < 0.6 else 0\n",
    "        \n",
    "        # Program participation (higher for stunted children)\n",
    "        if HAZ < -2:\n",
    "            program_prob = 0.6  # Higher participation for stunted\n",
    "        elif HAZ < -1:\n",
    "            program_prob = 0.4  # Moderate for at-risk\n",
    "        else:\n",
    "            program_prob = 0.2  # Lower for normal\n",
    "        \n",
    "        uptake_stunting_program = 1 if np.random.random() < program_prob else 0\n",
    "        \n",
    "        # PMT intensity and WASH costs if in program\n",
    "        if uptake_stunting_program:\n",
    "            intensitas_PMT_bln = np.random.choice([1, 2, 3], p=[0.3, 0.5, 0.2])\n",
    "            biaya_WASH_bln = np.random.choice([0, 50000, 100000], p=[0.3, 0.5, 0.2])\n",
    "        else:\n",
    "            intensitas_PMT_bln = 0\n",
    "            biaya_WASH_bln = 0\n",
    "        \n",
    "        children_data.append({\n",
    "            'child_id': child_id,\n",
    "            'household_id': household_id,\n",
    "            'usia_bulan': usia_bulan,\n",
    "            'sex': sex,\n",
    "            'BB': round(BB, 1),\n",
    "            'TB': round(TB, 1),\n",
    "            'HAZ': round(HAZ, 2),\n",
    "            'WAZ': round(WAZ, 2),\n",
    "            'WHZ': round(WHZ, 2),\n",
    "            'anemia_hb_gdl': round(anemia_hb_gdl, 1),\n",
    "            'ASI_eksklusif': ASI_eksklusif,\n",
    "            'mp_asi_memadai': mp_asi_memadai,\n",
    "            'air_bersih': air_bersih,\n",
    "            'jamban_sehat': jamban_sehat,\n",
    "            'uptake_stunting_program': uptake_stunting_program,\n",
    "            'intensitas_PMT_bln': intensitas_PMT_bln,\n",
    "            'biaya_WASH_bln': biaya_WASH_bln\n",
    "        })\n",
    "    \n",
    "    return pd.DataFrame(children_data)\n",
    "\n",
    "def generate_realistic_households(num_households=25):\n",
    "    \"\"\"\n",
    "    Generate realistic household data based on Indonesian demographics\n",
    "    \"\"\"\n",
    "    households_data = []\n",
    "    \n",
    "    for i in range(num_households):\n",
    "        household_id = f\"HH{i+1:03d}\"\n",
    "        \n",
    "        # Dusun (village area) assignment\n",
    "        dusun = np.random.choice(['Dusun A', 'Dusun B', 'Dusun C', 'Dusun D'], \n",
    "                                p=[0.3, 0.25, 0.25, 0.2])\n",
    "        \n",
    "        # Household income (Indonesian rural distribution - log-normal)\n",
    "        # Median around 3.5M, with realistic spread\n",
    "        log_income = np.random.normal(np.log(3500000), 0.4)\n",
    "        pendapatan_bulanan = np.exp(log_income)\n",
    "        \n",
    "        # Annual household income\n",
    "        pendapatan_rt = pendapatan_bulanan * 12\n",
    "        \n",
    "        # Family size (2-7 members, modal at 4)\n",
    "        jumlah_anggota = np.random.choice([2, 3, 4, 5, 6, 7], p=[0.1, 0.2, 0.35, 0.25, 0.08, 0.02])\n",
    "        \n",
    "        # Distance to health facility (0.5-10 km, most within 5 km)\n",
    "        jarak_ke_puskesmas_km = np.random.exponential(2.5)\n",
    "        jarak_ke_puskesmas_km = min(jarak_ke_puskesmas_km, 10)  # Cap at 10km\n",
    "        \n",
    "        # Infrastructure access based on income and location\n",
    "        # House ownership (higher for higher income)\n",
    "        income_quartile = 1 if pendapatan_rt < 30000000 else 2 if pendapatan_rt < 50000000 else 3\n",
    "        own_house_prob = 0.5 + (income_quartile * 0.15)\n",
    "        kepemilikan_rumah = 1 if np.random.random() < own_house_prob else 0\n",
    "        \n",
    "        # Electricity access (95% in rural Indonesia)\n",
    "        akses_listrik = 1 if np.random.random() < 0.95 else 0\n",
    "        \n",
    "        # Internet access (correlated with income and education)\n",
    "        internet_prob = min(0.8, 0.3 + (income_quartile * 0.2))\n",
    "        akses_internet = 1 if np.random.random() < internet_prob else 0\n",
    "        \n",
    "        # Program participation tendency (household-level factor)\n",
    "        # Influenced by income, education, distance\n",
    "        distance_factor = max(0.2, 1 - jarak_ke_puskesmas_km * 0.05)\n",
    "        income_factor = min(1, pendapatan_rt / 60000000)  # Normalize to 0-1\n",
    "        program_tendency = (distance_factor * 0.4 + income_factor * 0.4 + 0.2) * np.random.uniform(0.7, 1.3)\n",
    "        program_tendency = max(0.1, min(0.9, program_tendency))\n",
    "        \n",
    "        households_data.append({\n",
    "            'household_id': household_id,\n",
    "            'dusun': dusun,\n",
    "            'pendapatan_bulanan': int(pendapatan_bulanan),\n",
    "            'air_bersih': 1 if np.random.random() < INDONESIA_HEALTH_STATS['clean_water_access'] else 0,\n",
    "            'jamban_sehat': 1 if np.random.random() < INDONESIA_HEALTH_STATS['sanitation_access'] else 0,\n",
    "            'jarak_ke_puskesmas_km': round(jarak_ke_puskesmas_km, 1),\n",
    "            'pendapatan_rt': int(pendapatan_rt),\n",
    "            'jumlah_anggota': jumlah_anggota,\n",
    "            'kepemilikan_rumah': kepemilikan_rumah,\n",
    "            'akses_listrik': akses_listrik,\n",
    "            'akses_internet': akses_internet,\n",
    "            'program_tendency': round(program_tendency, 3)\n",
    "        })\n",
    "    \n",
    "    return pd.DataFrame(households_data)\n",
    "\n",
    "## Step 2: Load Original Datasets (as templates) or Generate New WHO-Based Data\n",
    "\n",
    "print(\"📂 Loading Original Datasets as Templates or Creating New WHO-Based Data...\")\n",
    "\n",
    "# Set random seed for reproducibility\n",
    "np.random.seed(42)\n",
    "random.seed(42)\n",
    "\n",
    "# Try to load existing template datasets, otherwise create new ones\n",
    "try:\n",
    "    costs_catalog = pd.read_csv('COSTS_CATALOG.csv')\n",
    "    print(\"✅ Costs catalog loaded successfully\")\n",
    "except FileNotFoundError:\n",
    "    # Create a basic costs catalog if it doesn't exist\n",
    "    costs_catalog = pd.DataFrame({\n",
    "        'program': ['obat_htn', 'kontrol_htn', 'transport_htn', 'screening_htn', \n",
    "                   'PMT', 'mikronutrien', 'posyandu', 'WASH'],\n",
    "        'biaya_unit': [50000, 300000, 120000, 30000, 45000, 20000, 10000, 15000]\n",
    "    })\n",
    "    costs_catalog.to_csv('COSTS_CATALOG.csv', index=False)\n",
    "    print(\"✅ Created new costs catalog\")\n",
    "\n",
    "print(f\"💰 Costs Catalog:\")\n",
    "display(costs_catalog)\n",
    "\n",
    "# Generate completely new WHO-based datasets\n",
    "print(f\"\\n🏗️ Generating New WHO Standards-Based Data...\")\n",
    "\n",
    "# Generate baseline datasets using WHO standards\n",
    "households = generate_realistic_households(num_households=25)\n",
    "adults_htn = generate_baseline_adults_who_standards(num_adults=50)\n",
    "children_stunting = generate_baseline_children_who_standards(num_children=40)\n",
    "\n",
    "print(f\"✅ Generated New Data:\")\n",
    "print(f\"   Households: {households.shape[0]} records\")\n",
    "print(f\"   Adults HTN: {adults_htn.shape[0]} records\")\n",
    "print(f\"   Children Stunting: {children_stunting.shape[0]} records\")\n",
    "\n",
    "# Display new data structure\n",
    "print(f\"\\n📊 New Adults HTN Data (WHO Standards):\")\n",
    "display(adults_htn.head())\n",
    "\n",
    "print(f\"\\n📊 New Children Stunting Data (WHO Standards):\")\n",
    "display(children_stunting.head())\n",
    "\n",
    "print(f\"\\n🏠 New Households Data:\")\n",
    "display(households.head())\n",
    "\n",
    "# Generate the final WHO-based datasets directly (no expansion needed)\n",
    "print(f\"\\n✅ WHO Standards-Based Datasets:\")\n",
    "print(f\"   Households: {len(households)} households\")\n",
    "print(f\"   Adults HTN: {len(adults_htn)} participants\")\n",
    "print(f\"   Children Stunting: {len(children_stunting)} participants\")\n",
    "\n",
    "# Export the WHO-based datasets with original filenames (replacing previous data)\n",
    "households.to_csv('HOUSEHOLDS.csv', index=False)\n",
    "adults_htn.to_csv('ADULTS_HTN.csv', index=False)\n",
    "children_stunting.to_csv('CHILDREN_STUNTING.csv', index=False)\n",
    "households.to_csv('households_expanded.csv', index=False)  # Also save as expanded for compatibility\n",
    "\n",
    "print(f\"\\n💾 WHO-based datasets exported (replacing originals):\")\n",
    "print(f\"   - HOUSEHOLDS.csv\")\n",
    "print(f\"   - ADULTS_HTN.csv\") \n",
    "print(f\"   - CHILDREN_STUNTING.csv\")\n",
    "print(f\"   - households_expanded.csv (compatibility)\")\n",
    "\n",
    "print(f\"\\n🎯 WHO STANDARDS COMPLIANCE:\")\n",
    "print(f\"✅ Blood pressure based on WHO classifications\")\n",
    "print(f\"✅ HAZ scores following WHO growth standards\")\n",
    "print(f\"✅ BMI categories per WHO guidelines\")\n",
    "print(f\"✅ Hemoglobin levels per WHO anemia thresholds\")\n",
    "print(f\"✅ Indonesian epidemiological patterns\")\n",
    "print(f\"✅ Realistic age-adjusted health outcomes\")\n",
    "print(f\"✅ Evidence-based program participation rates\")\n",
    "\n",
    "## Step 3: Longitudinal Data Generation Functions\n",
    "\n",
    "def generate_longitudinal_adults_htn(baseline_adults, n_months=36):\n",
    "    \"\"\"\n",
    "    Generate realistic monthly HTN data for 3 years\n",
    "    Based on clinical progression patterns and intervention effects\n",
    "    \"\"\"\n",
    "    \n",
    "    longitudinal_data = []\n",
    "    base_date = datetime(2021, 1, 1)  # Start 3 years ago\n",
    "    \n",
    "    for _, person in baseline_adults.iterrows():\n",
    "        person_id = person['person_id']\n",
    "        \n",
    "        # Extract baseline characteristics\n",
    "        baseline_sbp = person['sistol']\n",
    "        baseline_dbp = person['diastol']\n",
    "        age = person['usia']\n",
    "        sex = person['sex']\n",
    "        has_diabetes = person['diabetes_koin']\n",
    "        is_smoker = person['perokok']\n",
    "        bmi = person['BMI']\n",
    "        \n",
    "        # Determine intervention timing (some start immediately, others delayed)\n",
    "        intervention_start = random.randint(0, 6) if person['uptake_htn_program'] == 1 else 999\n",
    "        \n",
    "        # Individual progression parameters\n",
    "        natural_progression = np.random.normal(0.3, 0.1)  # Natural BP increase per month\n",
    "        seasonal_amplitude = np.random.normal(2, 0.5)     # Seasonal variation\n",
    "        stress_factor = np.random.normal(1, 0.2)          # Individual stress response\n",
    "        \n",
    "        # Risk factors effect\n",
    "        diabetes_effect = 1.2 if has_diabetes else 1.0\n",
    "        smoking_effect = 1.15 if is_smoker else 1.0\n",
    "        age_effect = 1 + (age - 45) * 0.01                # Older = worse control\n",
    "        bmi_effect = 1 + max(0, bmi - 25) * 0.02          # Obesity effect\n",
    "        \n",
    "        combined_risk = diabetes_effect * smoking_effect * age_effect * bmi_effect\n",
    "        \n",
    "        for month in range(n_months + 1):  # Include baseline (month 0)\n",
    "            current_date = base_date + timedelta(days=30 * month)\n",
    "            \n",
    "            # Seasonal effects (winter = higher BP)\n",
    "            seasonal_effect = seasonal_amplitude * np.sin(2 * np.pi * (month - 3) / 12)\n",
    "            \n",
    "            # Natural progression without intervention\n",
    "            natural_sbp = baseline_sbp + (natural_progression * month * combined_risk) + seasonal_effect\n",
    "            natural_dbp = baseline_dbp + (natural_progression * 0.6 * month * combined_risk) + seasonal_effect * 0.5\n",
    "            \n",
    "            # Intervention effects\n",
    "            if month >= intervention_start and person['uptake_htn_program'] == 1:\n",
    "                months_on_treatment = month - intervention_start\n",
    "                \n",
    "                # Adherence varies over time (starts high, may decline)\n",
    "                base_adherence = person['adherence_htn']\n",
    "                adherence_decay = np.random.normal(0.95, 0.05)  # Monthly decay factor\n",
    "                current_adherence = base_adherence * (adherence_decay ** months_on_treatment)\n",
    "                current_adherence = max(0.1, min(1.0, current_adherence))  # Keep in bounds\n",
    "                \n",
    "                # Treatment efficacy (diminishing returns)\n",
    "                treatment_efficacy = current_adherence * (1 - 0.5 * np.exp(-months_on_treatment / 6))\n",
    "                \n",
    "                # Drug-specific effects\n",
    "                if person['jenis_obat'] == 'ACEi':\n",
    "                    sbp_reduction = 12 * treatment_efficacy\n",
    "                    dbp_reduction = 8 * treatment_efficacy\n",
    "                elif person['jenis_obat'] == 'CCB':\n",
    "                    sbp_reduction = 10 * treatment_efficacy  \n",
    "                    dbp_reduction = 6 * treatment_efficacy\n",
    "                elif person['jenis_obat'] == 'Diuretik':\n",
    "                    sbp_reduction = 8 * treatment_efficacy\n",
    "                    dbp_reduction = 5 * treatment_efficacy\n",
    "                elif person['jenis_obat'] == 'ACEi+Diuretik':\n",
    "                    sbp_reduction = 18 * treatment_efficacy\n",
    "                    dbp_reduction = 12 * treatment_efficacy\n",
    "                else:\n",
    "                    sbp_reduction = 0\n",
    "                    dbp_reduction = 0\n",
    "                \n",
    "                # Apply treatment effect\n",
    "                current_sbp = natural_sbp - sbp_reduction\n",
    "                current_dbp = natural_dbp - dbp_reduction\n",
    "                \n",
    "                # Add medication side effects (rare but realistic)\n",
    "                if random.random() < 0.02:  # 2% chance per month\n",
    "                    medication_side_effect = np.random.normal(5, 2)  # Temporary BP increase\n",
    "                    current_sbp += medication_side_effect\n",
    "                    current_dbp += medication_side_effect * 0.6\n",
    "            else:\n",
    "                current_sbp = natural_sbp\n",
    "                current_dbp = natural_dbp\n",
    "                current_adherence = 0\n",
    "            \n",
    "            # Add random noise (measurement error, daily variation)\n",
    "            noise_sbp = np.random.normal(0, 3)\n",
    "            noise_dbp = np.random.normal(0, 2)\n",
    "            \n",
    "            final_sbp = max(90, current_sbp + noise_sbp)  # Physiological bounds\n",
    "            final_dbp = max(60, min(120, current_dbp + noise_dbp))\n",
    "            \n",
    "            # Calculate cardiovascular events (rare but realistic)\n",
    "            # Higher risk with higher BP, age, diabetes, smoking\n",
    "            cv_risk_score = (\n",
    "                (final_sbp - 120) * 0.001 +\n",
    "                (age - 40) * 0.0005 +\n",
    "                has_diabetes * 0.002 +\n",
    "                is_smoker * 0.001\n",
    "            )\n",
    "            cv_event = 1 if random.random() < cv_risk_score * 0.01 else 0  # Very low probability\n",
    "            \n",
    "            longitudinal_data.append({\n",
    "                'person_id': person_id,\n",
    "                'household_id': person['household_id'],\n",
    "                'date': current_date,\n",
    "                'month': month,\n",
    "                'age': age + month/12,\n",
    "                'sex': sex,\n",
    "                'sistol': round(final_sbp, 1),\n",
    "                'diastol': round(final_dbp, 1),\n",
    "                'diagnosis_htn': 1 if final_sbp >= 140 or final_dbp >= 90 else 0,\n",
    "                'diabetes_koin': has_diabetes,\n",
    "                'perokok': is_smoker,\n",
    "                'BMI': bmi + np.random.normal(0, 0.1),  # Small BMI changes\n",
    "                'on_treatment': 1 if month >= intervention_start and person['uptake_htn_program'] == 1 else 0,\n",
    "                'adherence_current': round(current_adherence, 2) if month >= intervention_start else 0,\n",
    "                'jenis_obat': person['jenis_obat'] if month >= intervention_start and person['uptake_htn_program'] == 1 else '-',\n",
    "                'cv_event': cv_event,\n",
    "                'seasonal_factor': round(seasonal_effect, 1),\n",
    "                'treatment_months': max(0, month - intervention_start) if intervention_start < 999 else 0\n",
    "            })\n",
    "    \n",
    "    return pd.DataFrame(longitudinal_data)\n",
    "\n",
    "def generate_longitudinal_children_stunting(baseline_children, max_age_months=50):\n",
    "    \"\"\"\n",
    "    Generate realistic monthly growth data until 50 months\n",
    "    Based on child growth patterns and intervention effects\n",
    "    \"\"\"\n",
    "    \n",
    "    longitudinal_data = []\n",
    "    base_date = datetime(2021, 1, 1)\n",
    "    \n",
    "    for _, child in baseline_children.iterrows():\n",
    "        child_id = child['child_id']\n",
    "        baseline_age = child['usia_bulan']\n",
    "        baseline_haz = child['HAZ']\n",
    "        baseline_weight = child['BB']\n",
    "        baseline_height = child['TB']\n",
    "        \n",
    "        # Stop when child reaches max_age_months\n",
    "        months_to_generate = min(max_age_months - baseline_age, 36)\n",
    "        if months_to_generate <= 0:\n",
    "            continue\n",
    "            \n",
    "        # Growth parameters\n",
    "        sex = child['sex']\n",
    "        has_exclusive_bf = child['ASI_eksklusif']\n",
    "        adequate_complementary = child['mp_asi_memadai']\n",
    "        baseline_hb = child['anemia_hb_gdl']\n",
    "        has_clean_water = child['air_bersih']\n",
    "        has_sanitation = child['jamban_sehat']\n",
    "        \n",
    "        # Determine intervention timing\n",
    "        intervention_start = random.randint(0, 3) if child['uptake_stunting_program'] == 1 else 999\n",
    "        \n",
    "        # Individual growth parameters\n",
    "        genetic_potential = np.random.normal(0, 0.2)  # Individual genetic variation\n",
    "        catch_up_potential = max(0, -baseline_haz * 0.3)  # Stunted children can catch up\n",
    "        \n",
    "        # Environmental risk factors\n",
    "        water_sanitation_effect = 1.2 if (has_clean_water and has_sanitation) else 0.8\n",
    "        breastfeeding_effect = 1.3 if has_exclusive_bf else 1.0\n",
    "        complementary_effect = 1.1 if adequate_complementary else 0.9\n",
    "        \n",
    "        environmental_multiplier = water_sanitation_effect * breastfeeding_effect * complementary_effect\n",
    "        \n",
    "        for month in range(int(months_to_generate) + 1):\n",
    "            current_date = base_date + timedelta(days=30 * month)\n",
    "            current_age_months = baseline_age + month\n",
    "            \n",
    "            # Age-specific growth velocity (faster in early months)\n",
    "            if current_age_months < 6:\n",
    "                base_growth_velocity = 0.15  # Rapid early growth\n",
    "            elif current_age_months < 12:\n",
    "                base_growth_velocity = 0.08\n",
    "            elif current_age_months < 24:\n",
    "                base_growth_velocity = 0.05\n",
    "            else:\n",
    "                base_growth_velocity = 0.03  # Slower after 2 years\n",
    "            \n",
    "            # Seasonal effects (malnutrition seasons)\n",
    "            seasonal_nutrition = 0.1 * np.sin(2 * np.pi * (month - 9) / 12)  # Worse during dry season\n",
    "            \n",
    "            # Natural growth without intervention\n",
    "            natural_haz_change = (\n",
    "                base_growth_velocity * environmental_multiplier + \n",
    "                genetic_potential * 0.1 + \n",
    "                catch_up_potential * 0.1 +\n",
    "                seasonal_nutrition\n",
    "            )\n",
    "            \n",
    "            # Intervention effects\n",
    "            if month >= intervention_start and child['uptake_stunting_program'] == 1:\n",
    "                months_on_program = month - intervention_start\n",
    "                \n",
    "                # Program effectiveness (builds up over time)\n",
    "                program_effectiveness = 1 - np.exp(-months_on_program / 6)  # Asymptotic improvement\n",
    "                \n",
    "                # PMT effectiveness\n",
    "                pmt_intensity = child['intensitas_PMT_bln'] / 2  # Scale 0-1\n",
    "                pmt_effect = 0.2 * pmt_intensity * program_effectiveness\n",
    "                \n",
    "                # Micronutrient effect  \n",
    "                micronutrient_effect = 0.1 * program_effectiveness\n",
    "                \n",
    "                # WASH intervention effect\n",
    "                wash_effect = 0.05 * program_effectiveness if child['biaya_WASH_bln'] > 0 else 0\n",
    "                \n",
    "                total_intervention_effect = pmt_effect + micronutrient_effect + wash_effect\n",
    "                \n",
    "                haz_change_this_month = natural_haz_change + total_intervention_effect\n",
    "            else:\n",
    "                haz_change_this_month = natural_haz_change\n",
    "            \n",
    "            # Add random noise and illness effects\n",
    "            illness_effect = -0.1 if random.random() < 0.05 else 0  # 5% chance of illness setback\n",
    "            noise = np.random.normal(0, 0.05)\n",
    "            \n",
    "            total_haz_change = haz_change_this_month + illness_effect + noise\n",
    "            \n",
    "            # Calculate cumulative HAZ\n",
    "            if month == 0:\n",
    "                current_haz = baseline_haz\n",
    "                current_weight = baseline_weight  \n",
    "                current_height = baseline_height\n",
    "            else:\n",
    "                current_haz = previous_haz + total_haz_change\n",
    "                # Approximate weight and height based on HAZ changes\n",
    "                current_height = previous_height + np.random.normal(1.2, 0.3)  # Monthly height gain\n",
    "                current_weight = previous_weight + np.random.normal(0.3, 0.1)  # Monthly weight gain\n",
    "            \n",
    "            # Calculate other anthropometric indices\n",
    "            # Simplified WAZ and WHZ based on HAZ changes  \n",
    "            current_waz = current_haz + np.random.normal(0, 0.3)\n",
    "            current_whz = np.random.normal(-0.5, 0.5)\n",
    "            \n",
    "            # Hemoglobin changes with nutrition status\n",
    "            hb_change = total_haz_change * 2  # HAZ improvement often correlates with Hb\n",
    "            current_hb = max(7, min(15, baseline_hb + hb_change * month + np.random.normal(0, 0.2)))\n",
    "            \n",
    "            # Diarrhea risk (higher with poor HAZ)\n",
    "            diarrhea_risk = max(0.01, 0.1 + current_haz * -0.05)  # Worse HAZ = more diarrhea\n",
    "            diarrhea_this_month = 1 if random.random() < diarrhea_risk else 0\n",
    "            \n",
    "            longitudinal_data.append({\n",
    "                'child_id': child_id,\n",
    "                'household_id': child['household_id'],\n",
    "                'date': current_date,\n",
    "                'month': month,\n",
    "                'usia_bulan': current_age_months,\n",
    "                'sex': sex,\n",
    "                'BB': round(current_weight, 1),\n",
    "                'TB': round(current_height, 1),\n",
    "                'HAZ': round(current_haz, 2),\n",
    "                'WAZ': round(current_waz, 2),\n",
    "                'WHZ': round(current_whz, 2),\n",
    "                'anemia_hb_gdl': round(current_hb, 1),\n",
    "                'ASI_eksklusif': has_exclusive_bf if current_age_months < 6 else 0,\n",
    "                'mp_asi_memadai': adequate_complementary,\n",
    "                'air_bersih': has_clean_water,\n",
    "                'jamban_sehat': has_sanitation,\n",
    "                'diare_bulan_ini': diarrhea_this_month,\n",
    "                'on_program': 1 if month >= intervention_start and child['uptake_stunting_program'] == 1 else 0,\n",
    "                'program_months': max(0, month - intervention_start) if intervention_start < 999 else 0,\n",
    "                'seasonal_nutrition': round(seasonal_nutrition, 2),\n",
    "                'haz_change_this_month': round(total_haz_change, 3)\n",
    "            })\n",
    "            \n",
    "            # Store for next iteration\n",
    "            previous_haz = current_haz\n",
    "            previous_weight = current_weight\n",
    "            previous_height = current_height\n",
    "    \n",
    "    return pd.DataFrame(longitudinal_data)\n",
    "\n",
    "def generate_program_log_longitudinal_corrected(adults_longitudinal, children_longitudinal, costs_catalog):\n",
    "    \"\"\"\n",
    "    Generate realistic program delivery log based on longitudinal data\n",
    "    Uses actual costs from COSTS_CATALOG.csv\n",
    "    \"\"\"\n",
    "    \n",
    "    print(\"🔄 Generating program log with EXACT costs from catalog...\")\n",
    "    \n",
    "    # Load cost catalog into dictionary for easy lookup\n",
    "    cost_dict = costs_catalog.set_index('program')['biaya_unit'].to_dict()\n",
    "    print(f\"📋 Using costs: {cost_dict}\")\n",
    "    \n",
    "    program_log = []\n",
    "    log_id = 1\n",
    "    \n",
    "    # HTN program logs\n",
    "    print(\"💊 Processing HTN program costs...\")\n",
    "    for _, row in adults_longitudinal.iterrows():\n",
    "        if row['on_treatment'] == 1:\n",
    "            date = row['date']\n",
    "            person_id = row['person_id']\n",
    "            \n",
    "            # Monthly medication costs (EXACT catalog cost: 50,000)\n",
    "            medication_cost = cost_dict.get('obat_htn', 50000)\n",
    "            program_log.append({\n",
    "                'id': log_id,\n",
    "                'target_id': person_id,\n",
    "                'program': 'obat_htn',\n",
    "                'tanggal': date,\n",
    "                'unit_terkirim': 1,\n",
    "                'biaya_riil': medication_cost + np.random.randint(-2500, 2500)  # Small realistic variation\n",
    "            })\n",
    "            log_id += 1\n",
    "            \n",
    "            # Quarterly control visits (300,000/year = 75,000/quarter)\n",
    "            if row['month'] % 3 == 0 and row['treatment_months'] > 0:\n",
    "                control_cost = cost_dict.get('kontrol_htn', 300000) / 4  # Quarterly portion\n",
    "                program_log.append({\n",
    "                    'id': log_id,\n",
    "                    'target_id': person_id,\n",
    "                    'program': 'kontrol_htn',\n",
    "                    'tanggal': date,\n",
    "                    'unit_terkirim': 1,\n",
    "                    'biaya_riil': control_cost + np.random.randint(-5000, 5000)\n",
    "                })\n",
    "                log_id += 1\n",
    "            \n",
    "            # Monthly transport costs (120,000/year = 10,000/month)\n",
    "            transport_cost = cost_dict.get('transport_htn', 120000) / 12  # Monthly portion\n",
    "            program_log.append({\n",
    "                'id': log_id,\n",
    "                'target_id': person_id,\n",
    "                'program': 'transport_htn',\n",
    "                'tanggal': date,\n",
    "                'unit_terkirim': 1,\n",
    "                'biaya_riil': transport_cost + np.random.randint(-1000, 1000)\n",
    "            })\n",
    "            log_id += 1\n",
    "            \n",
    "            # Initial screening (only once, at start of treatment)\n",
    "            if row['treatment_months'] == 1:  # First month of treatment\n",
    "                screening_cost = cost_dict.get('screening_htn', 30000)\n",
    "                program_log.append({\n",
    "                    'id': log_id,\n",
    "                    'target_id': person_id,\n",
    "                    'program': 'screening_htn',\n",
    "                    'tanggal': date,\n",
    "                    'unit_terkirim': 1,\n",
    "                    'biaya_riil': screening_cost + np.random.randint(-2000, 2000)\n",
    "                })\n",
    "                log_id += 1\n",
    "    \n",
    "    # Stunting program logs\n",
    "    print(\"👶 Processing Stunting program costs...\")\n",
    "    for _, row in children_longitudinal.iterrows():\n",
    "        if row['on_program'] == 1:\n",
    "            date = row['date']\n",
    "            child_id = row['child_id']\n",
    "            household_id = row['household_id']\n",
    "            \n",
    "            # Monthly PMT (EXACT: 45,000 per packet, 2 packets per month = 90,000)\n",
    "            pmt_cost = cost_dict.get('PMT', 45000)\n",
    "            program_log.append({\n",
    "                'id': log_id,\n",
    "                'target_id': child_id,\n",
    "                'program': 'PMT',\n",
    "                'tanggal': date,\n",
    "                'unit_terkirim': 2,  # 2 packets per month\n",
    "                'biaya_riil': pmt_cost * 2 + np.random.randint(-2000, 2000)\n",
    "            })\n",
    "            log_id += 1\n",
    "            \n",
    "            # Monthly micronutrients (EXACT: 20,000)\n",
    "            micronutrient_cost = cost_dict.get('mikronutrien', 20000)\n",
    "            program_log.append({\n",
    "                'id': log_id,\n",
    "                'target_id': child_id,\n",
    "                'program': 'mikronutrien',\n",
    "                'tanggal': date,\n",
    "                'unit_terkirim': 1,\n",
    "                'biaya_riil': micronutrient_cost + np.random.randint(-1000, 1000)\n",
    "            })\n",
    "            log_id += 1\n",
    "            \n",
    "            # Monthly posyandu visits (EXACT: 10,000)\n",
    "            posyandu_cost = cost_dict.get('posyandu', 10000)\n",
    "            program_log.append({\n",
    "                'id': log_id,\n",
    "                'target_id': child_id,\n",
    "                'program': 'posyandu',\n",
    "                'tanggal': date,\n",
    "                'unit_terkirim': 1,\n",
    "                'biaya_riil': posyandu_cost + np.random.randint(-500, 500)\n",
    "            })\n",
    "            log_id += 1\n",
    "    \n",
    "    # WASH program (household-level, monthly) (EXACT: 15,000)\n",
    "    print(\"🚿 Processing WASH program costs...\")\n",
    "    participating_households = children_longitudinal[\n",
    "        children_longitudinal['on_program'] == 1\n",
    "    ]['household_id'].unique()\n",
    "    \n",
    "    for household_id in participating_households:\n",
    "        household_children = children_longitudinal[\n",
    "            (children_longitudinal['household_id'] == household_id) & \n",
    "            (children_longitudinal['on_program'] == 1)\n",
    "        ]\n",
    "        \n",
    "        unique_months = household_children[['date', 'month']].drop_duplicates()\n",
    "        \n",
    "        for _, month_data in unique_months.iterrows():\n",
    "            wash_cost = cost_dict.get('WASH', 15000)  # EXACT catalog cost\n",
    "            program_log.append({\n",
    "                'id': log_id,\n",
    "                'target_id': household_id,\n",
    "                'program': 'WASH',\n",
    "                'tanggal': month_data['date'],\n",
    "                'unit_terkirim': 1,  # Per household per month\n",
    "                'biaya_riil': wash_cost + np.random.randint(-1000, 1000)\n",
    "            })\n",
    "            log_id += 1\n",
    "    \n",
    "    result_df = pd.DataFrame(program_log)\n",
    "    \n",
    "    print(f\"✅ Program log generated with {len(result_df):,} records\")\n",
    "    return result_df\n",
    "\n",
    "## Step 4: Generate Longitudinal Data\n",
    "\n",
    "# Set random seed for reproducibility\n",
    "np.random.seed(42)\n",
    "random.seed(42)\n",
    "\n",
    "print(\"🔄 Generating Longitudinal Data for Predictive Modeling...\")\n",
    "\n",
    "# Generate longitudinal data using baseline datasets\n",
    "adults_longitudinal = generate_longitudinal_adults_htn(adults_htn, n_months=36)\n",
    "children_longitudinal = generate_longitudinal_children_stunting(children_stunting, max_age_months=50)\n",
    "\n",
    "# Generate program log with corrected costs using the cost catalog\n",
    "program_log_corrected = generate_program_log_longitudinal_corrected(\n",
    "    adults_longitudinal, children_longitudinal, costs_catalog\n",
    ")\n",
    "\n",
    "print(f\"✅ Generated Datasets:\")\n",
    "print(f\"   Adults HTN Longitudinal: {adults_longitudinal.shape[0]:,} records\")\n",
    "print(f\"   Children Stunting Longitudinal: {children_longitudinal.shape[0]:,} records\")\n",
    "print(f\"   Program Log Corrected: {program_log_corrected.shape[0]:,} records\")\n",
    "\n",
    "print(f\"\\n💰 FINAL COST VERIFICATION:\")\n",
    "cost_breakdown = program_log_corrected.groupby('program').agg({\n",
    "    'biaya_riil': ['sum', 'mean', 'count']\n",
    "}).round(0)\n",
    "\n",
    "print(f\"\\nCOST BREAKDOWN BY PROGRAM:\")\n",
    "for program in cost_breakdown.index:\n",
    "    total_cost = cost_breakdown.loc[program, ('biaya_riil', 'sum')]\n",
    "    avg_cost = cost_breakdown.loc[program, ('biaya_riil', 'mean')]\n",
    "    count = cost_breakdown.loc[program, ('biaya_riil', 'count')]\n",
    "    catalog_cost = costs_catalog[costs_catalog['program'] == program]['biaya_unit'].iloc[0] if program in costs_catalog['program'].values else 'N/A'\n",
    "    print(f\"   {program}: Avg Rp {avg_cost:,.0f} (Catalog: Rp {catalog_cost:,}), Total: Rp {total_cost:,.0f}, Records: {count:,.0f}\")\n",
    "\n",
    "# Display sample data\n",
    "print(f\"\\n📊 SAMPLE LONGITUDINAL DATA:\")\n",
    "print(f\"\\nAdults HTN (First 10 records for Person P001):\")\n",
    "display(adults_longitudinal[adults_longitudinal['person_id'] == 'P001'].head(10))\n",
    "\n",
    "print(f\"\\nChildren Stunting (First 10 records for Child C001):\")\n",
    "display(children_longitudinal[children_longitudinal['child_id'] == 'C001'].head(10))\n",
    "\n",
    "print(f\"\\nProgram Log Sample:\")\n",
    "display(program_log_corrected.head(10))\n",
    "\n",
    "# Export the longitudinal datasets\n",
    "adults_longitudinal.to_csv('adults_htn_longitudinal.csv', index=False)\n",
    "children_longitudinal.to_csv('children_stunting_longitudinal.csv', index=False)\n",
    "program_log_corrected.to_csv('program_log_longitudinal_corrected.csv', index=False)\n",
    "\n",
    "print(f\"\\n💾 Datasets exported:\")\n",
    "print(f\"   - adults_htn_longitudinal.csv\")\n",
    "print(f\"   - children_stunting_longitudinal.csv\") \n",
    "print(f\"   - program_log_longitudinal_corrected.csv\")\n",
    "\n",
    "print(f\"\\n🎯 WHAT THIS ENABLES:\")\n",
    "print(f\"1. 📈 Time-series forecasting models\")\n",
    "print(f\"2. 🔮 Predictive health outcome modeling\")\n",
    "print(f\"3. 📊 Treatment response prediction\")\n",
    "print(f\"4. 💊 Intervention timing optimization\")\n",
    "print(f\"5. 🎯 Risk stratification algorithms\")\n",
    "print(f\"6. 💰 Cost-effectiveness over time\")\n",
    "\n",
    "print(f\"\\n📋 DATA CHARACTERISTICS:\")\n",
    "print(f\"✅ Realistic clinical progressions\")\n",
    "print(f\"✅ Seasonal and environmental effects\")\n",
    "print(f\"✅ Treatment adherence decay\")\n",
    "print(f\"✅ Individual variation patterns\")\n",
    "print(f\"✅ Intervention timing effects\")\n",
    "print(f\"✅ Catch-up growth for children\")\n",
    "print(f\"✅ Age-appropriate development\")\n",
    "print(f\"✅ EXACT cost catalog alignment\")"
   ]
  },
  {
   "cell_type": "code",
   "execution_count": null,
   "id": "a55c319b",
   "metadata": {},
   "outputs": [
    {
     "name": "stdout",
     "output_type": "stream",
     "text": [
      "📊 Creating Comprehensive Visualizations for Longitudinal Data...\n"
     ]
    },
    {
     "name": "stderr",
     "output_type": "stream",
     "text": [
      "/tmp/ipykernel_19405/1766392905.py:171: MatplotlibDeprecationWarning:\n",
      "\n",
      "The 'labels' parameter of boxplot() has been renamed 'tick_labels' since Matplotlib 3.9; support for the old name will be dropped in 3.11.\n",
      "\n"
     ]
    },
    {
     "data": {
      "image/png": "[encoded data removed]",
      "text/plain": [
       "<Figure size 2400x2000 with 10 Axes>"
      ]
     },
     "metadata": {},
     "output_type": "display_data"
    },
    {
     "name": "stdout",
     "output_type": "stream",
     "text": [
      "\n",
      "🎯 Creating Interactive Plotly Dashboards...\n"
     ]
    },
    {
     "data": {
      "application/vnd.plotly.v1+json": {
       "config": {
        "plotlyServerURL": "https://plot.ly"
       },
       "data": [
        {
         "line": {
          "color": "#e74c3c",
          "width": 2
         },
         "mode": "lines+markers",
         "name": "P001 SBP",
         "type": "scatter",
         "x": {
          "bdata": "AAECAwQFBgcICQoLDA0ODxAREhMUFRYXGBkaGxwdHh8gISIjJA==",
          "dtype": "i1"
         },
         "xaxis": "x",
         "y": {
          "bdata": "MzMzMzOzY0AAAAAAANBjQDMzMzMzk2NAZmZmZmamY0BmZmZmZoZjQJqZmZmZyWJAMzMzMzPTYkAAAAAAAJBjQAAAAAAAEGRAZmZmZmamYkAzMzMzM3NjQAAAAAAAEGNAAAAAAACwY0DNzMzMzAxjQM3MzMzMbGNAmpmZmZnpY0AzMzMzM7NjQAAAAAAAcGRAMzMzMzOTZEAzMzMzM+NkQGZmZmZmZmNAzczMzMz8YkDNzMzMzKxjQM3MzMzMbGRAzczMzMy8Y0DNzMzMzCxkQAAAAAAAQGRAMzMzMzOTY0AzMzMzMwNlQM3MzMzMLGVAmpmZmZlZZECamZmZmWljQJqZmZmZCWVAmpmZmZk5ZUBmZmZmZrZlQDMzMzMz82NAMzMzMzMzZUA=",
          "dtype": "f8"
         },
         "yaxis": "y"
        },
        {
         "line": {
          "color": "#3498db",
          "width": 2
         },
         "mode": "lines+markers",
         "name": "P002 SBP",
         "type": "scatter",
         "x": {
          "bdata": "AAECAwQFBgcICQoLDA0ODxAREhMUFRYXGBkaGxwdHh8gISIjJA==",
          "dtype": "i1"
         },
         "xaxis": "x",
         "y": {
          "bdata": "ZmZmZmamY0BmZmZmZqZjQAAAAAAAIGNAzczMzMwMZEDNzMzMzAxkQM3MzMzMrGNAzczMzMz8Y0AzMzMzM3NjQM3MzMzMvGNAmpmZmZnZY0BmZmZmZgZkQGZmZmZmNmRAmpmZmZnZY0AAAAAAACBkQDMzMzMzg2RAmpmZmZmpZECamZmZmblkQAAAAAAAoGRAmpmZmZmJY0DNzMzMzBxkQAAAAAAA0GRAmpmZmZnZY0AzMzMzM/NkQM3MzMzMfGRAmpmZmZlZZEBmZmZmZgZlQJqZmZmZmWRAzczMzMz8ZEBmZmZmZhZlQDMzMzMzI2VAZmZmZmYGZEAAAAAAAMBkQM3MzMzMPGVAMzMzMzMzY0BmZmZmZpZkQJqZmZmZSWVAMzMzMzNTZEA=",
          "dtype": "f8"
         },
         "yaxis": "y"
        },
        {
         "line": {
          "color": "#2ecc71",
          "width": 2
         },
         "mode": "lines+markers",
         "name": "P003 SBP",
         "type": "scatter",
         "x": {
          "bdata": "AAECAwQFBgcICQoLDA0ODxAREhMUFRYXGBkaGxwdHh8gISIjJA==",
          "dtype": "i1"
         },
         "xaxis": "x",
         "y": {
          "bdata": "MzMzMzNDYUAzMzMzM5NhQDMzMzMzI2FAmpmZmZmpYUAAAAAAAIBhQJqZmZmZuWFAMzMzMzPjYUCamZmZmUlhQM3MzMzM7GFAzczMzMyMYUCamZmZmTlhQAAAAAAAIGFAmpmZmZk5YUBmZmZmZpZhQDMzMzMzs2FAmpmZmZl5YUAAAAAAAHBiQM3MzMzM/GFAMzMzMzPzYUAzMzMzM0NiQM3MzMzMLGJAZmZmZmYGYkBmZmZmZpZhQAAAAAAAYGJAmpmZmZmJYUBmZmZmZrZiQGZmZmZmxmFAzczMzMzcYUDNzMzMzPxiQAAAAAAAEGJAZmZmZmYmY0AzMzMzM9NhQDMzMzMz42JAmpmZmZlZYkAAAAAAAIBiQGZmZmZmRmJAAAAAAADQYUA=",
          "dtype": "f8"
         },
         "yaxis": "y"
        },
        {
         "marker": {
          "color": "skyblue"
         },
         "name": "BP Reduction",
         "nbinsx": 15,
         "opacity": 0.7,
         "type": "histogram",
         "x": [
          -12,
          -5.400000000000006,
          -17.80000000000001,
          -13.200000000000017,
          -6.600000000000023,
          -14.900000000000006,
          -6.299999999999983,
          -15.700000000000017,
          -0.6999999999999886,
          -8.400000000000006,
          -4.300000000000011,
          -21.69999999999999,
          -14.400000000000006,
          -20.099999999999994,
          -10.299999999999983,
          -0.09999999999999432,
          -3.9000000000000057,
          -10.300000000000011,
          -10.099999999999994,
          -19,
          -17.5,
          -11.300000000000011,
          -13.799999999999983,
          -6.299999999999983,
          -12.100000000000023,
          -25.400000000000006,
          -6.400000000000006,
          -8.900000000000006,
          -3.1999999999999886,
          1.8000000000000114,
          -6.400000000000006,
          -15.800000000000011,
          -22.80000000000001,
          -5.599999999999994,
          1.200000000000017,
          -14.799999999999983,
          -19.299999999999983
         ],
         "xaxis": "x2",
         "yaxis": "y2"
        },
        {
         "line": {
          "color": "green",
          "width": 3
         },
         "marker": {
          "size": 8
         },
         "mode": "lines+markers",
         "name": "Mean Adherence",
         "type": "scatter",
         "x": {
          "bdata": "AAECAwQFBgcICQoLDA0ODxAREhMUFRYXGBkaGxwdHh8gISIjJA==",
          "dtype": "i1"
         },
         "xaxis": "x3",
         "y": {
          "bdata": "kRog/OV15j991g2myGflP3K0BPu54OQ/Y5dBb8YP4z+xFgZytATjP6P5QubAM+E/g96MH2Yb4T8KIgmrDofgP1IDhL+8zuE/EcBSmU403z/rcIhvEXXdPyCxgDv9Eds/GooxcdPU2z9z4Jnk/tPaPw4Q/vI6Z9c/QK1mscug1z/VS0ZqgPDXP7blKmlUW94/c+CZ5P7T2j/4gIZiTNzUP36YbQSwVNY/FnCnP2IB1z/4gIZiTNzUP1gq04nmC8k/RYlQQSRh1T8WcKc/YgHXP38uOHlSTtk/3WCKfNYN1j9WaHMr/x7QP1/IHHgmuc8/kO6KEqGC2D8W2c73U+PVP7Kd76fGS9M/JvK+i1gl4j9JVBHi7arLPwHlDlDuANU/LyA2lYacyz8=",
          "dtype": "f8"
         },
         "yaxis": "y3"
        },
        {
         "marker": {
          "color": "orange"
         },
         "name": "Drug Effectiveness",
         "type": "bar",
         "x": [
          "ACEi",
          "CCB",
          "Diuretik",
          "ACEi+Diuretik"
         ],
         "xaxis": "x4",
         "y": [
          -8.681249999999999,
          -12.863636363636362,
          -12.75555555555556,
          -6.600000000000023
         ],
         "yaxis": "y4"
        }
       ],
       "layout": {
        "annotations": [
         {
          "font": {
           "size": 16
          },
          "showarrow": false,
          "text": "Blood Pressure Trends",
          "x": 0.225,
          "xanchor": "center",
          "xref": "paper",
          "y": 1,
          "yanchor": "bottom",
          "yref": "paper"
         },
         {
          "font": {
           "size": 16
          },
          "showarrow": false,
          "text": "Treatment Response Distribution",
          "x": 0.775,
          "xanchor": "center",
          "xref": "paper",
          "y": 1,
          "yanchor": "bottom",
          "yref": "paper"
         },
         {
          "font": {
           "size": 16
          },
          "showarrow": false,
          "text": "Adherence Over Time",
          "x": 0.225,
          "xanchor": "center",
          "xref": "paper",
          "y": 0.375,
          "yanchor": "bottom",
          "yref": "paper"
         },
         {
          "font": {
           "size": 16
          },
          "showarrow": false,
          "text": "Drug Effectiveness Comparison",
          "x": 0.775,
          "xanchor": "center",
          "xref": "paper",
          "y": 0.375,
          "yanchor": "bottom",
          "yref": "paper"
         }
        ],
        "height": 800,
        "template": {
         "data": {
          "bar": [
           {
            "error_x": {
             "color": "#2a3f5f"
            },
            "error_y": {
             "color": "#2a3f5f"
            },
            "marker": {
             "line": {
              "color": "#E5ECF6",
              "width": 0.5
             },
             "pattern": {
              "fillmode": "overlay",
              "size": 10,
              "solidity": 0.2
             }
            },
            "type": "bar"
           }
          ],
          "barpolar": [
           {
            "marker": {
             "line": {
              "color": "#E5ECF6",
              "width": 0.5
             },
             "pattern": {
              "fillmode": "overlay",
              "size": 10,
              "solidity": 0.2
             }
            },
            "type": "barpolar"
           }
          ],
          "carpet": [
           {
            "aaxis": {
             "endlinecolor": "#2a3f5f",
             "gridcolor": "white",
             "linecolor": "white",
             "minorgridcolor": "white",
             "startlinecolor": "#2a3f5f"
            },
            "baxis": {
             "endlinecolor": "#2a3f5f",
             "gridcolor": "white",
             "linecolor": "white",
             "minorgridcolor": "white",
             "startlinecolor": "#2a3f5f"
            },
            "type": "carpet"
           }
          ],
          "choropleth": [
           {
            "colorbar": {
             "outlinewidth": 0,
             "ticks": ""
            },
            "type": "choropleth"
           }
          ],
          "contour": [
           {
            "colorbar": {
             "outlinewidth": 0,
             "ticks": ""
            },
            "colorscale": [
             [
              0,
              "#0d0887"
             ],
             [
              0.1111111111111111,
              "#46039f"
             ],
             [
              0.2222222222222222,
              "#7201a8"
             ],
             [
              0.3333333333333333,
              "#9c179e"
             ],
             [
              0.4444444444444444,
              "#bd3786"
             ],
             [
              0.5555555555555556,
              "#d8576b"
             ],
             [
              0.6666666666666666,
              "#ed7953"
             ],
             [
              0.7777777777777778,
              "#fb9f3a"
             ],
             [
              0.8888888888888888,
              "#fdca26"
             ],
             [
              1,
              "#f0f921"
             ]
            ],
            "type": "contour"
           }
          ],
          "contourcarpet": [
           {
            "colorbar": {
             "outlinewidth": 0,
             "ticks": ""
            },
            "type": "contourcarpet"
           }
          ],
          "heatmap": [
           {
            "colorbar": {
             "outlinewidth": 0,
             "ticks": ""
            },
            "colorscale": [
             [
              0,
              "#0d0887"
             ],
             [
              0.1111111111111111,
              "#46039f"
             ],
             [
              0.2222222222222222,
              "#7201a8"
             ],
             [
              0.3333333333333333,
              "#9c179e"
             ],
             [
              0.4444444444444444,
              "#bd3786"
             ],
             [
              0.5555555555555556,
              "#d8576b"
             ],
             [
              0.6666666666666666,
              "#ed7953"
             ],
             [
              0.7777777777777778,
              "#fb9f3a"
             ],
             [
              0.8888888888888888,
              "#fdca26"
             ],
             [
              1,
              "#f0f921"
             ]
            ],
            "type": "heatmap"
           }
          ],
          "histogram": [
           {
            "marker": {
             "pattern": {
              "fillmode": "overlay",
              "size": 10,
              "solidity": 0.2
             }
            },
            "type": "histogram"
           }
          ],
          "histogram2d": [
           {
            "colorbar": {
             "outlinewidth": 0,
             "ticks": ""
            },
            "colorscale": [
             [
              0,
              "#0d0887"
             ],
             [
              0.1111111111111111,
              "#46039f"
             ],
             [
              0.2222222222222222,
              "#7201a8"
             ],
             [
              0.3333333333333333,
              "#9c179e"
             ],
             [
              0.4444444444444444,
              "#bd3786"
             ],
             [
              0.5555555555555556,
              "#d8576b"
             ],
             [
              0.6666666666666666,
              "#ed7953"
             ],
             [
              0.7777777777777778,
              "#fb9f3a"
             ],
             [
              0.8888888888888888,
              "#fdca26"
             ],
             [
              1,
              "#f0f921"
             ]
            ],
            "type": "histogram2d"
           }
          ],
          "histogram2dcontour": [
           {
            "colorbar": {
             "outlinewidth": 0,
             "ticks": ""
            },
            "colorscale": [
             [
              0,
              "#0d0887"
             ],
             [
              0.1111111111111111,
              "#46039f"
             ],
             [
              0.2222222222222222,
              "#7201a8"
             ],
             [
              0.3333333333333333,
              "#9c179e"
             ],
             [
              0.4444444444444444,
              "#bd3786"
             ],
             [
              0.5555555555555556,
              "#d8576b"
             ],
             [
              0.6666666666666666,
              "#ed7953"
             ],
             [
              0.7777777777777778,
              "#fb9f3a"
             ],
             [
              0.8888888888888888,
              "#fdca26"
             ],
             [
              1,
              "#f0f921"
             ]
            ],
            "type": "histogram2dcontour"
           }
          ],
          "mesh3d": [
           {
            "colorbar": {
             "outlinewidth": 0,
             "ticks": ""
            },
            "type": "mesh3d"
           }
          ],
          "parcoords": [
           {
            "line": {
             "colorbar": {
              "outlinewidth": 0,
              "ticks": ""
             }
            },
            "type": "parcoords"
           }
          ],
          "pie": [
           {
            "automargin": true,
            "type": "pie"
           }
          ],
          "scatter": [
           {
            "fillpattern": {
             "fillmode": "overlay",
             "size": 10,
             "solidity": 0.2
            },
            "type": "scatter"
           }
          ],
          "scatter3d": [
           {
            "line": {
             "colorbar": {
              "outlinewidth": 0,
              "ticks": ""
             }
            },
            "marker": {
             "colorbar": {
              "outlinewidth": 0,
              "ticks": ""
             }
            },
            "type": "scatter3d"
           }
          ],
          "scattercarpet": [
           {
            "marker": {
             "colorbar": {
              "outlinewidth": 0,
              "ticks": ""
             }
            },
            "type": "scattercarpet"
           }
          ],
          "scattergeo": [
           {
            "marker": {
             "colorbar": {
              "outlinewidth": 0,
              "ticks": ""
             }
            },
            "type": "scattergeo"
           }
          ],
          "scattergl": [
           {
            "marker": {
             "colorbar": {
              "outlinewidth": 0,
              "ticks": ""
             }
            },
            "type": "scattergl"
           }
          ],
          "scattermap": [
           {
            "marker": {
             "colorbar": {
              "outlinewidth": 0,
              "ticks": ""
             }
            },
            "type": "scattermap"
           }
          ],
          "scattermapbox": [
           {
            "marker": {
             "colorbar": {
              "outlinewidth": 0,
              "ticks": ""
             }
            },
            "type": "scattermapbox"
           }
          ],
          "scatterpolar": [
           {
            "marker": {
             "colorbar": {
              "outlinewidth": 0,
              "ticks": ""
             }
            },
            "type": "scatterpolar"
           }
          ],
          "scatterpolargl": [
           {
            "marker": {
             "colorbar": {
              "outlinewidth": 0,
              "ticks": ""
             }
            },
            "type": "scatterpolargl"
           }
          ],
          "scatterternary": [
           {
            "marker": {
             "colorbar": {
              "outlinewidth": 0,
              "ticks": ""
             }
            },
            "type": "scatterternary"
           }
          ],
          "surface": [
           {
            "colorbar": {
             "outlinewidth": 0,
             "ticks": ""
            },
            "colorscale": [
             [
              0,
              "#0d0887"
             ],
             [
              0.1111111111111111,
              "#46039f"
             ],
             [
              0.2222222222222222,
              "#7201a8"
             ],
             [
              0.3333333333333333,
              "#9c179e"
             ],
             [
              0.4444444444444444,
              "#bd3786"
             ],
             [
              0.5555555555555556,
              "#d8576b"
             ],
             [
              0.6666666666666666,
              "#ed7953"
             ],
             [
              0.7777777777777778,
              "#fb9f3a"
             ],
             [
              0.8888888888888888,
              "#fdca26"
             ],
             [
              1,
              "#f0f921"
             ]
            ],
            "type": "surface"
           }
          ],
          "table": [
           {
            "cells": {
             "fill": {
              "color": "#EBF0F8"
             },
             "line": {
              "color": "white"
             }
            },
            "header": {
             "fill": {
              "color": "#C8D4E3"
             },
             "line": {
              "color": "white"
             }
            },
            "type": "table"
           }
          ]
         },
         "layout": {
          "annotationdefaults": {
           "arrowcolor": "#2a3f5f",
           "arrowhead": 0,
           "arrowwidth": 1
          },
          "autotypenumbers": "strict",
          "coloraxis": {
           "colorbar": {
            "outlinewidth": 0,
            "ticks": ""
           }
          },
          "colorscale": {
           "diverging": [
            [
             0,
             "#8e0152"
            ],
            [
             0.1,
             "#c51b7d"
            ],
            [
             0.2,
             "#de77ae"
            ],
            [
             0.3,
             "#f1b6da"
            ],
            [
             0.4,
             "#fde0ef"
            ],
            [
             0.5,
             "#f7f7f7"
            ],
            [
             0.6,
             "#e6f5d0"
            ],
            [
             0.7,
             "#b8e186"
            ],
            [
             0.8,
             "#7fbc41"
            ],
            [
             0.9,
             "#4d9221"
            ],
            [
             1,
             "#276419"
            ]
           ],
           "sequential": [
            [
             0,
             "#0d0887"
            ],
            [
             0.1111111111111111,
             "#46039f"
            ],
            [
             0.2222222222222222,
             "#7201a8"
            ],
            [
             0.3333333333333333,
             "#9c179e"
            ],
            [
             0.4444444444444444,
             "#bd3786"
            ],
            [
             0.5555555555555556,
             "#d8576b"
            ],
            [
             0.6666666666666666,
             "#ed7953"
            ],
            [
             0.7777777777777778,
             "#fb9f3a"
            ],
            [
             0.8888888888888888,
             "#fdca26"
            ],
            [
             1,
             "#f0f921"
            ]
           ],
           "sequentialminus": [
            [
             0,
             "#0d0887"
            ],
            [
             0.1111111111111111,
             "#46039f"
            ],
            [
             0.2222222222222222,
             "#7201a8"
            ],
            [
             0.3333333333333333,
             "#9c179e"
            ],
            [
             0.4444444444444444,
             "#bd3786"
            ],
            [
             0.5555555555555556,
             "#d8576b"
            ],
            [
             0.6666666666666666,
             "#ed7953"
            ],
            [
             0.7777777777777778,
             "#fb9f3a"
            ],
            [
             0.8888888888888888,
             "#fdca26"
            ],
            [
             1,
             "#f0f921"
            ]
           ]
          },
          "colorway": [
           "#636efa",
           "#EF553B",
           "#00cc96",
           "#ab63fa",
           "#FFA15A",
           "#19d3f3",
           "#FF6692",
           "#B6E880",
           "#FF97FF",
           "#FECB52"
          ],
          "font": {
           "color": "#2a3f5f"
          },
          "geo": {
           "bgcolor": "white",
           "lakecolor": "white",
           "landcolor": "#E5ECF6",
           "showlakes": true,
           "showland": true,
           "subunitcolor": "white"
          },
          "hoverlabel": {
           "align": "left"
          },
          "hovermode": "closest",
          "mapbox": {
           "style": "light"
          },
          "paper_bgcolor": "white",
          "plot_bgcolor": "#E5ECF6",
          "polar": {
           "angularaxis": {
            "gridcolor": "white",
            "linecolor": "white",
            "ticks": ""
           },
           "bgcolor": "#E5ECF6",
           "radialaxis": {
            "gridcolor": "white",
            "linecolor": "white",
            "ticks": ""
           }
          },
          "scene": {
           "xaxis": {
            "backgroundcolor": "#E5ECF6",
            "gridcolor": "white",
            "gridwidth": 2,
            "linecolor": "white",
            "showbackground": true,
            "ticks": "",
            "zerolinecolor": "white"
           },
           "yaxis": {
            "backgroundcolor": "#E5ECF6",
            "gridcolor": "white",
            "gridwidth": 2,
            "linecolor": "white",
            "showbackground": true,
            "ticks": "",
            "zerolinecolor": "white"
           },
           "zaxis": {
            "backgroundcolor": "#E5ECF6",
            "gridcolor": "white",
            "gridwidth": 2,
            "linecolor": "white",
            "showbackground": true,
            "ticks": "",
            "zerolinecolor": "white"
           }
          },
          "shapedefaults": {
           "line": {
            "color": "#2a3f5f"
           }
          },
          "ternary": {
           "aaxis": {
            "gridcolor": "white",
            "linecolor": "white",
            "ticks": ""
           },
           "baxis": {
            "gridcolor": "white",
            "linecolor": "white",
            "ticks": ""
           },
           "bgcolor": "#E5ECF6",
           "caxis": {
            "gridcolor": "white",
            "linecolor": "white",
            "ticks": ""
           }
          },
          "title": {
           "x": 0.05
          },
          "xaxis": {
           "automargin": true,
           "gridcolor": "white",
           "linecolor": "white",
           "ticks": "",
           "title": {
            "standoff": 15
           },
           "zerolinecolor": "white",
           "zerolinewidth": 2
          },
          "yaxis": {
           "automargin": true,
           "gridcolor": "white",
           "linecolor": "white",
           "ticks": "",
           "title": {
            "standoff": 15
           },
           "zerolinecolor": "white",
           "zerolinewidth": 2
          }
         }
        },
        "title": {
         "text": "Interactive Adults HTN Analysis Dashboard"
        },
        "xaxis": {
         "anchor": "y",
         "domain": [
          0,
          0.45
         ]
        },
        "xaxis2": {
         "anchor": "y2",
         "domain": [
          0.55,
          1
         ]
        },
        "xaxis3": {
         "anchor": "y3",
         "domain": [
          0,
          0.45
         ]
        },
        "xaxis4": {
         "anchor": "y4",
         "domain": [
          0.55,
          1
         ]
        },
        "yaxis": {
         "anchor": "x",
         "domain": [
          0.625,
          1
         ]
        },
        "yaxis2": {
         "anchor": "x2",
         "domain": [
          0.625,
          1
         ]
        },
        "yaxis3": {
         "anchor": "x3",
         "domain": [
          0,
          0.375
         ]
        },
        "yaxis4": {
         "anchor": "x4",
         "domain": [
          0,
          0.375
         ]
        }
       }
      }
     },
     "metadata": {},
     "output_type": "display_data"
    },
    {
     "data": {
      "application/vnd.plotly.v1+json": {
       "config": {
        "plotlyServerURL": "https://plot.ly"
       },
       "data": [
        {
         "line": {
          "color": "#e74c3c",
          "width": 2
         },
         "mode": "lines+markers",
         "name": "C001",
         "type": "scatter",
         "x": {
          "bdata": "EBESExQVFhcYGRobHB0eHyAhIiMkJSYnKCkqKywtLi8wMTI=",
          "dtype": "i1"
         },
         "xaxis": "x",
         "y": {
          "bdata": "ZmZmZmZmAsB7FK5H4XoAwAAAAAAAAPy/rkfhehSu97+PwvUoXI/yv5qZmZmZmem/uB6F61G43r8zMzMzMzPDv3E9CtejcM0/exSuR+F65D8fhetRuB7xP9ejcD0K1/c/ZmZmZmZmAEAzMzMzMzMFQB+F61G4HglAzczMzMzMDEApXI/C9SgQQNejcD0K1xFAMzMzMzMzE0CamZmZmZkUQLgehetRuBZAj8L1KFyPGEDhehSuR+EaQOF6FK5H4RxAMzMzMzMzH0A9CtejcL0gQD0K16NwvSFAzczMzMzMIkAAAAAAAIAjQM3MzMzMTCRACtejcD0KJUAzMzMzM7MlQIXrUbgehSZAzczMzMxMJ0BmZmZmZmYoQA==",
          "dtype": "f8"
         },
         "yaxis": "y"
        },
        {
         "line": {
          "color": "#3498db",
          "width": 2
         },
         "mode": "lines+markers",
         "name": "C002",
         "type": "scatter",
         "x": {
          "bdata": "FhcYGRobHB0eHyAhIiMkJSYnKCkqKywtLi8wMTI=",
          "dtype": "i1"
         },
         "xaxis": "x",
         "y": {
          "bdata": "ZmZmZmZm/r9cj8L1KFz7v3E9CtejcPm/AAAAAAAA+L+PwvUoXI/2v83MzMzMzPS/ZmZmZmZm8r/2KFyPwvXwv4XrUbgeheu/16NwPQrX47/sUbgehevRv6RwPQrXo8A/UrgehetR4D+4HoXrUbjuP+xRuB6F6/U/XI/C9Shc+z9SuB6F61EAQI/C9ShcjwJAMzMzMzMzBUAzMzMzMzMHQClcj8L1KApA9ihcj8L1DEAK16NwPQoQQPYoXI/C9RFAzczMzMzME0B7FK5H4XoVQB+F61G4HhdAZmZmZmZmGEDD9Shcj8IZQA==",
          "dtype": "f8"
         },
         "yaxis": "y"
        },
        {
         "line": {
          "color": "#2ecc71",
          "width": 2
         },
         "mode": "lines+markers",
         "name": "C003",
         "type": "scatter",
         "x": {
          "bdata": "CgsMDQ4PEBESExQVFhcYGRobHB0eHyAhIiMkJSYnKCkqKywtLg==",
          "dtype": "i1"
         },
         "xaxis": "x",
         "y": {
          "bdata": "ZmZmZmZmBsDhehSuR+EEwFyPwvUoXAPAexSuR+F6AsAUrkfhehQCwAAAAAAAAALAw/UoXI/CAcBI4XoUrkcBwI/C9ShcjwDAXI/C9Shc/7+F61G4HoX7v7gehetRuPa/CtejcD0K879SuB6F61Hwvz0K16NwPeq/SOF6FK5H6b8K16NwPQrnvz0K16NwPeK/4XoUrkfh4r+kcD0K16Pgv/YoXI/C9eC/FK5H4XoU3r8fhetRuB7Vv6RwPQrXo8C/uB6F61G4rj+PwvUoXI/SP+F6FK5H4do/9ihcj8L14D+amZmZmZnhP0jhehSuR+E/j8L1KFyP4j/sUbgehevhP3sUrkfheuQ/exSuR+F65D+F61G4HoXrPz0K16NwPfI/w/UoXI/C9T8=",
          "dtype": "f8"
         },
         "yaxis": "y"
        },
        {
         "marker": {
          "color": "lightgreen"
         },
         "name": "Program Participants",
         "type": "box",
         "xaxis": "x2",
         "y": {
          "bdata": "qMZLN4kBLUBSuB6F6xEgQCcxCKwcWhpAyXa+nxovJEDwp8ZLN8kqQMUgsHJoESpA/tR46SZxKUDP91PjpRsnQFYOLbKd7xVAdZMYBFYOHUCkcD0K1yMZQMQgsHJokQ5AYhBYObRIEECPwvUoXA8oQD0K16NwvSdAmpmZmZkZF0C0yHa+n1ooQJHtfD81XiZA3SQGgZXDF0AK16NwPcokQDEIrBxa5CdAL90kBoHVIUAUrkfhepQcQBbZzvdTYyBAZDvfT42XGkArhxbZzvcbQM3MzMzMTBdA5/up8dKNJ0CHFtnO99MfQA==",
          "dtype": "f8"
         },
         "yaxis": "y2"
        },
        {
         "marker": {
          "color": "lightcoral"
         },
         "name": "Non-Participants",
         "type": "box",
         "xaxis": "x2",
         "y": {
          "bdata": "8KfGSzeJ0T+S7Xw/NV7iPyPb+X5qvBFAexSuR+F6+D+sHFpkO9/XPwIrhxbZzsc/hetRuB6F+T99PzVeuknMP0oMAiuHFgJAbhKDwMqhAEAlBoGVQ4sNQFYOLbKd79c/UI2XbhKD6D8dWmQ730/NP57vp8ZLN9k/gZVDi2znBkDNzMzMzMz8P65H4XoUrsc/rkfhehSu4z9zaJHtfD8AQM3MzMzMzOg/aZHtfD813j9eukkMAivHP3sUrkfhetQ/xSCwcmiR1T/6fmq8dJPgP1TjpZvEINg/9ihcj8L14D9QjZduEoPQP8h2vp8aL9U/x0s3iUFg1T/NzMzMzMzgP6RwPQrXo/w/hxbZzvdT4z8=",
          "dtype": "f8"
         },
         "yaxis": "y2"
        },
        {
         "line": {
          "color": "#FF6B6B",
          "width": 2
         },
         "mode": "lines+markers",
         "name": "6-12 months",
         "type": "scatter",
         "x": {
          "bdata": "AAECAwQF",
          "dtype": "i1"
         },
         "xaxis": "x3",
         "y": {
          "bdata": "lkOLbOf797/QaQOdNtD1vx+F61G4HvC/YCz5xZJf6L93vp8aL93kv65H4XoUruu/",
          "dtype": "f8"
         },
         "yaxis": "y3"
        },
        {
         "line": {
          "color": "#4ECDC4",
          "width": 2
         },
         "mode": "lines+markers",
         "name": "12-24 months",
         "type": "scatter",
         "x": {
          "bdata": "AAECAwQFBgcICQoLDA0ODxAR",
          "dtype": "i1"
         },
         "xaxis": "x3",
         "y": {
          "bdata": "9EIv9EIv/L8UO7ETO7H3v0BjmgwwZ/W/mwtJUyrO8r/77AJiU2nwv+xRuB6Fa+q/JUmSJEmS5L9ltbwxgonev4XrUbgehde/s4FOG+i0sb9wWPuGtW/YP+8A5Q5Q7ug/lkOLbOf78z/l9gcZKjv4P9ejcD0KlwFAQacNdNpABEAdWmQ7308FQArXo3A9Cvc/",
          "dtype": "f8"
         },
         "yaxis": "y3"
        },
        {
         "line": {
          "color": "#45B7D1",
          "width": 2
         },
         "mode": "lines+markers",
         "name": "24-36 months",
         "type": "scatter",
         "x": {
          "bdata": "AAECAwQFBgcICQoLDA0ODxAREhMUFRYXGBkaGxwd",
          "dtype": "i1"
         },
         "xaxis": "x3",
         "y": {
          "bdata": "d0MQ3al2+78QMlR2mLr4v33FV3zFV/i/btu2bdu29b9++Ay7AuTyv3sUrkfhevC/SOF6FK7H7L/NzMzMzEzov+tRuB6F696/wQ/8wA/80L/etm3btm2rv0WIt6vuHdI/FSHerrp36D8+CtejcD32P4R4u+reIfk/7cNn2BUg/z+d++wCYlMDQDMzMzMzUwdAJUmSJEmSB0DmjRFM9HcJQEjhehSuxwlA84slv1hyDEA9CtejcD0QQModoNwByhFAqMZLN4lBE0DZYepy+4MUQIXrUbgehRhA20CnDXTaGEDKoUW28/0YQAAAAAAAABBA",
          "dtype": "f8"
         },
         "yaxis": "y3"
        },
        {
         "line": {
          "color": "#96CEB4",
          "width": 2
         },
         "mode": "lines+markers",
         "name": "36+ months",
         "type": "scatter",
         "x": {
          "bdata": "AgMEBQYHCAkKCwwNDg8QERITFBUWFxgZGhscHR4fICEiIyQ=",
          "dtype": "i1"
         },
         "xaxis": "x3",
         "y": {
          "bdata": "cmiR7Xw/8b+1yHa+nxrvv5b8YskvlvC/zn12AbGp8L8VrkfhehTwvxbZzvdT4+2/16NwPQrX57/zRP0boYzev6dUnH34DMu/4XoUrkfhwD/QaAKcNc/YPylcj8L1KOQ/6krvDDhI7j9jWNRCzB/zP/nFkl8s+fU/XsQqkfdd/D8YS36x5BcBQDvfT42X7gJADyWEdYvqBUCSgG9eTTwJQODNJqjYqgtAhB23UOqDDUCZ4ME8Uf8QQB+F61G4/hJACtejcD06E0BQHOm1gk8WQAs+caTXChlAeFkuHtj9GkDyiyW/WPIaQHaldwYcJB1APCsaCfhmHkCw+Iqv+AofQCLnPruAWCBAPQrXo3B9IEB3d3d3d1chQA==",
          "dtype": "f8"
         },
         "yaxis": "y3"
        },
        {
         "fill": "tonexty",
         "line": {
          "color": "orange",
          "width": 3
         },
         "mode": "lines+markers",
         "name": "Seasonal Nutrition",
         "type": "scatter",
         "x": {
          "bdata": "AAECAwQFBgcICQoLDA0ODxAREhMUFRYXGBkaGxwdHh8gISIjJA==",
          "dtype": "i1"
         },
         "xaxis": "x4",
         "y": {
          "bdata": "mpmZmZmZuT8K16NwPQq3P5qZmZmZmak/AAAAAAAAAACamZmZmZmpvwrXo3A9Cre/mpmZmZmZub8K16NwPQq3v5qZmZmZmam/AAAAAAAAAACamZmZmZmpPwrXo3A9Crc/mpmZmZmZuT8K16NwPQq3P5qZmZmZmak/AAAAAAAAAACamZmZmZmpvwrXo3A9Cre/mpmZmZmZub8K16NwPQq3v5qZmZmZmam/AAAAAAAAAACamZmZmZmpPwrXo3A9Crc/mpmZmZmZuT8K16NwPQq3P5uZmZmZmak/AAAAAAAAAACamZmZmZmpvwrXo3A9Cre/mpmZmZmZub8K16NwPQq3v5qZmZmZmam/AAAAAAAAAACamZmZmZmpPwvXo3A9Crc/m5mZmZmZuT8=",
          "dtype": "f8"
         },
         "yaxis": "y4"
        }
       ],
       "layout": {
        "annotations": [
         {
          "font": {
           "size": 16
          },
          "showarrow": false,
          "text": "HAZ Growth Trajectories",
          "x": 0.225,
          "xanchor": "center",
          "xref": "paper",
          "y": 1,
          "yanchor": "bottom",
          "yref": "paper"
         },
         {
          "font": {
           "size": 16
          },
          "showarrow": false,
          "text": "Program Impact Comparison",
          "x": 0.775,
          "xanchor": "center",
          "xref": "paper",
          "y": 1,
          "yanchor": "bottom",
          "yref": "paper"
         },
         {
          "font": {
           "size": 16
          },
          "showarrow": false,
          "text": "Age Group Patterns",
          "x": 0.225,
          "xanchor": "center",
          "xref": "paper",
          "y": 0.375,
          "yanchor": "bottom",
          "yref": "paper"
         },
         {
          "font": {
           "size": 16
          },
          "showarrow": false,
          "text": "Seasonal Effects",
          "x": 0.775,
          "xanchor": "center",
          "xref": "paper",
          "y": 0.375,
          "yanchor": "bottom",
          "yref": "paper"
         }
        ],
        "height": 800,
        "template": {
         "data": {
          "bar": [
           {
            "error_x": {
             "color": "#2a3f5f"
            },
            "error_y": {
             "color": "#2a3f5f"
            },
            "marker": {
             "line": {
              "color": "#E5ECF6",
              "width": 0.5
             },
             "pattern": {
              "fillmode": "overlay",
              "size": 10,
              "solidity": 0.2
             }
            },
            "type": "bar"
           }
          ],
          "barpolar": [
           {
            "marker": {
             "line": {
              "color": "#E5ECF6",
              "width": 0.5
             },
             "pattern": {
              "fillmode": "overlay",
              "size": 10,
              "solidity": 0.2
             }
            },
            "type": "barpolar"
           }
          ],
          "carpet": [
           {
            "aaxis": {
             "endlinecolor": "#2a3f5f",
             "gridcolor": "white",
             "linecolor": "white",
             "minorgridcolor": "white",
             "startlinecolor": "#2a3f5f"
            },
            "baxis": {
             "endlinecolor": "#2a3f5f",
             "gridcolor": "white",
             "linecolor": "white",
             "minorgridcolor": "white",
             "startlinecolor": "#2a3f5f"
            },
            "type": "carpet"
           }
          ],
          "choropleth": [
           {
            "colorbar": {
             "outlinewidth": 0,
             "ticks": ""
            },
            "type": "choropleth"
           }
          ],
          "contour": [
           {
            "colorbar": {
             "outlinewidth": 0,
             "ticks": ""
            },
            "colorscale": [
             [
              0,
              "#0d0887"
             ],
             [
              0.1111111111111111,
              "#46039f"
             ],
             [
              0.2222222222222222,
              "#7201a8"
             ],
             [
              0.3333333333333333,
              "#9c179e"
             ],
             [
              0.4444444444444444,
              "#bd3786"
             ],
             [
              0.5555555555555556,
              "#d8576b"
             ],
             [
              0.6666666666666666,
              "#ed7953"
             ],
             [
              0.7777777777777778,
              "#fb9f3a"
             ],
             [
              0.8888888888888888,
              "#fdca26"
             ],
             [
              1,
              "#f0f921"
             ]
            ],
            "type": "contour"
           }
          ],
          "contourcarpet": [
           {
            "colorbar": {
             "outlinewidth": 0,
             "ticks": ""
            },
            "type": "contourcarpet"
           }
          ],
          "heatmap": [
           {
            "colorbar": {
             "outlinewidth": 0,
             "ticks": ""
            },
            "colorscale": [
             [
              0,
              "#0d0887"
             ],
             [
              0.1111111111111111,
              "#46039f"
             ],
             [
              0.2222222222222222,
              "#7201a8"
             ],
             [
              0.3333333333333333,
              "#9c179e"
             ],
             [
              0.4444444444444444,
              "#bd3786"
             ],
             [
              0.5555555555555556,
              "#d8576b"
             ],
             [
              0.6666666666666666,
              "#ed7953"
             ],
             [
              0.7777777777777778,
              "#fb9f3a"
             ],
             [
              0.8888888888888888,
              "#fdca26"
             ],
             [
              1,
              "#f0f921"
             ]
            ],
            "type": "heatmap"
           }
          ],
          "histogram": [
           {
            "marker": {
             "pattern": {
              "fillmode": "overlay",
              "size": 10,
              "solidity": 0.2
             }
            },
            "type": "histogram"
           }
          ],
          "histogram2d": [
           {
            "colorbar": {
             "outlinewidth": 0,
             "ticks": ""
            },
            "colorscale": [
             [
              0,
              "#0d0887"
             ],
             [
              0.1111111111111111,
              "#46039f"
             ],
             [
              0.2222222222222222,
              "#7201a8"
             ],
             [
              0.3333333333333333,
              "#9c179e"
             ],
             [
              0.4444444444444444,
              "#bd3786"
             ],
             [
              0.5555555555555556,
              "#d8576b"
             ],
             [
              0.6666666666666666,
              "#ed7953"
             ],
             [
              0.7777777777777778,
              "#fb9f3a"
             ],
             [
              0.8888888888888888,
              "#fdca26"
             ],
             [
              1,
              "#f0f921"
             ]
            ],
            "type": "histogram2d"
           }
          ],
          "histogram2dcontour": [
           {
            "colorbar": {
             "outlinewidth": 0,
             "ticks": ""
            },
            "colorscale": [
             [
              0,
              "#0d0887"
             ],
             [
              0.1111111111111111,
              "#46039f"
             ],
             [
              0.2222222222222222,
              "#7201a8"
             ],
             [
              0.3333333333333333,
              "#9c179e"
             ],
             [
              0.4444444444444444,
              "#bd3786"
             ],
             [
              0.5555555555555556,
              "#d8576b"
             ],
             [
              0.6666666666666666,
              "#ed7953"
             ],
             [
              0.7777777777777778,
              "#fb9f3a"
             ],
             [
              0.8888888888888888,
              "#fdca26"
             ],
             [
              1,
              "#f0f921"
             ]
            ],
            "type": "histogram2dcontour"
           }
          ],
          "mesh3d": [
           {
            "colorbar": {
             "outlinewidth": 0,
             "ticks": ""
            },
            "type": "mesh3d"
           }
          ],
          "parcoords": [
           {
            "line": {
             "colorbar": {
              "outlinewidth": 0,
              "ticks": ""
             }
            },
            "type": "parcoords"
           }
          ],
          "pie": [
           {
            "automargin": true,
            "type": "pie"
           }
          ],
          "scatter": [
           {
            "fillpattern": {
             "fillmode": "overlay",
             "size": 10,
             "solidity": 0.2
            },
            "type": "scatter"
           }
          ],
          "scatter3d": [
           {
            "line": {
             "colorbar": {
              "outlinewidth": 0,
              "ticks": ""
             }
            },
            "marker": {
             "colorbar": {
              "outlinewidth": 0,
              "ticks": ""
             }
            },
            "type": "scatter3d"
           }
          ],
          "scattercarpet": [
           {
            "marker": {
             "colorbar": {
              "outlinewidth": 0,
              "ticks": ""
             }
            },
            "type": "scattercarpet"
           }
          ],
          "scattergeo": [
           {
            "marker": {
             "colorbar": {
              "outlinewidth": 0,
              "ticks": ""
             }
            },
            "type": "scattergeo"
           }
          ],
          "scattergl": [
           {
            "marker": {
             "colorbar": {
              "outlinewidth": 0,
              "ticks": ""
             }
            },
            "type": "scattergl"
           }
          ],
          "scattermap": [
           {
            "marker": {
             "colorbar": {
              "outlinewidth": 0,
              "ticks": ""
             }
            },
            "type": "scattermap"
           }
          ],
          "scattermapbox": [
           {
            "marker": {
             "colorbar": {
              "outlinewidth": 0,
              "ticks": ""
             }
            },
            "type": "scattermapbox"
           }
          ],
          "scatterpolar": [
           {
            "marker": {
             "colorbar": {
              "outlinewidth": 0,
              "ticks": ""
             }
            },
            "type": "scatterpolar"
           }
          ],
          "scatterpolargl": [
           {
            "marker": {
             "colorbar": {
              "outlinewidth": 0,
              "ticks": ""
             }
            },
            "type": "scatterpolargl"
           }
          ],
          "scatterternary": [
           {
            "marker": {
             "colorbar": {
              "outlinewidth": 0,
              "ticks": ""
             }
            },
            "type": "scatterternary"
           }
          ],
          "surface": [
           {
            "colorbar": {
             "outlinewidth": 0,
             "ticks": ""
            },
            "colorscale": [
             [
              0,
              "#0d0887"
             ],
             [
              0.1111111111111111,
              "#46039f"
             ],
             [
              0.2222222222222222,
              "#7201a8"
             ],
             [
              0.3333333333333333,
              "#9c179e"
             ],
             [
              0.4444444444444444,
              "#bd3786"
             ],
             [
              0.5555555555555556,
              "#d8576b"
             ],
             [
              0.6666666666666666,
              "#ed7953"
             ],
             [
              0.7777777777777778,
              "#fb9f3a"
             ],
             [
              0.8888888888888888,
              "#fdca26"
             ],
             [
              1,
              "#f0f921"
             ]
            ],
            "type": "surface"
           }
          ],
          "table": [
           {
            "cells": {
             "fill": {
              "color": "#EBF0F8"
             },
             "line": {
              "color": "white"
             }
            },
            "header": {
             "fill": {
              "color": "#C8D4E3"
             },
             "line": {
              "color": "white"
             }
            },
            "type": "table"
           }
          ]
         },
         "layout": {
          "annotationdefaults": {
           "arrowcolor": "#2a3f5f",
           "arrowhead": 0,
           "arrowwidth": 1
          },
          "autotypenumbers": "strict",
          "coloraxis": {
           "colorbar": {
            "outlinewidth": 0,
            "ticks": ""
           }
          },
          "colorscale": {
           "diverging": [
            [
             0,
             "#8e0152"
            ],
            [
             0.1,
             "#c51b7d"
            ],
            [
             0.2,
             "#de77ae"
            ],
            [
             0.3,
             "#f1b6da"
            ],
            [
             0.4,
             "#fde0ef"
            ],
            [
             0.5,
             "#f7f7f7"
            ],
            [
             0.6,
             "#e6f5d0"
            ],
            [
             0.7,
             "#b8e186"
            ],
            [
             0.8,
             "#7fbc41"
            ],
            [
             0.9,
             "#4d9221"
            ],
            [
             1,
             "#276419"
            ]
           ],
           "sequential": [
            [
             0,
             "#0d0887"
            ],
            [
             0.1111111111111111,
             "#46039f"
            ],
            [
             0.2222222222222222,
             "#7201a8"
            ],
            [
             0.3333333333333333,
             "#9c179e"
            ],
            [
             0.4444444444444444,
             "#bd3786"
            ],
            [
             0.5555555555555556,
             "#d8576b"
            ],
            [
             0.6666666666666666,
             "#ed7953"
            ],
            [
             0.7777777777777778,
             "#fb9f3a"
            ],
            [
             0.8888888888888888,
             "#fdca26"
            ],
            [
             1,
             "#f0f921"
            ]
           ],
           "sequentialminus": [
            [
             0,
             "#0d0887"
            ],
            [
             0.1111111111111111,
             "#46039f"
            ],
            [
             0.2222222222222222,
             "#7201a8"
            ],
            [
             0.3333333333333333,
             "#9c179e"
            ],
            [
             0.4444444444444444,
             "#bd3786"
            ],
            [
             0.5555555555555556,
             "#d8576b"
            ],
            [
             0.6666666666666666,
             "#ed7953"
            ],
            [
             0.7777777777777778,
             "#fb9f3a"
            ],
            [
             0.8888888888888888,
             "#fdca26"
            ],
            [
             1,
             "#f0f921"
            ]
           ]
          },
          "colorway": [
           "#636efa",
           "#EF553B",
           "#00cc96",
           "#ab63fa",
           "#FFA15A",
           "#19d3f3",
           "#FF6692",
           "#B6E880",
           "#FF97FF",
           "#FECB52"
          ],
          "font": {
           "color": "#2a3f5f"
          },
          "geo": {
           "bgcolor": "white",
           "lakecolor": "white",
           "landcolor": "#E5ECF6",
           "showlakes": true,
           "showland": true,
           "subunitcolor": "white"
          },
          "hoverlabel": {
           "align": "left"
          },
          "hovermode": "closest",
          "mapbox": {
           "style": "light"
          },
          "paper_bgcolor": "white",
          "plot_bgcolor": "#E5ECF6",
          "polar": {
           "angularaxis": {
            "gridcolor": "white",
            "linecolor": "white",
            "ticks": ""
           },
           "bgcolor": "#E5ECF6",
           "radialaxis": {
            "gridcolor": "white",
            "linecolor": "white",
            "ticks": ""
           }
          },
          "scene": {
           "xaxis": {
            "backgroundcolor": "#E5ECF6",
            "gridcolor": "white",
            "gridwidth": 2,
            "linecolor": "white",
            "showbackground": true,
            "ticks": "",
            "zerolinecolor": "white"
           },
           "yaxis": {
            "backgroundcolor": "#E5ECF6",
            "gridcolor": "white",
            "gridwidth": 2,
            "linecolor": "white",
            "showbackground": true,
            "ticks": "",
            "zerolinecolor": "white"
           },
           "zaxis": {
            "backgroundcolor": "#E5ECF6",
            "gridcolor": "white",
            "gridwidth": 2,
            "linecolor": "white",
            "showbackground": true,
            "ticks": "",
            "zerolinecolor": "white"
           }
          },
          "shapedefaults": {
           "line": {
            "color": "#2a3f5f"
           }
          },
          "ternary": {
           "aaxis": {
            "gridcolor": "white",
            "linecolor": "white",
            "ticks": ""
           },
           "baxis": {
            "gridcolor": "white",
            "linecolor": "white",
            "ticks": ""
           },
           "bgcolor": "#E5ECF6",
           "caxis": {
            "gridcolor": "white",
            "linecolor": "white",
            "ticks": ""
           }
          },
          "title": {
           "x": 0.05
          },
          "xaxis": {
           "automargin": true,
           "gridcolor": "white",
           "linecolor": "white",
           "ticks": "",
           "title": {
            "standoff": 15
           },
           "zerolinecolor": "white",
           "zerolinewidth": 2
          },
          "yaxis": {
           "automargin": true,
           "gridcolor": "white",
           "linecolor": "white",
           "ticks": "",
           "title": {
            "standoff": 15
           },
           "zerolinecolor": "white",
           "zerolinewidth": 2
          }
         }
        },
        "title": {
         "text": "Interactive Children Stunting Analysis Dashboard"
        },
        "xaxis": {
         "anchor": "y",
         "domain": [
          0,
          0.45
         ]
        },
        "xaxis2": {
         "anchor": "y2",
         "domain": [
          0.55,
          1
         ]
        },
        "xaxis3": {
         "anchor": "y3",
         "domain": [
          0,
          0.45
         ]
        },
        "xaxis4": {
         "anchor": "y4",
         "domain": [
          0.55,
          1
         ]
        },
        "yaxis": {
         "anchor": "x",
         "domain": [
          0.625,
          1
         ]
        },
        "yaxis2": {
         "anchor": "x2",
         "domain": [
          0.625,
          1
         ]
        },
        "yaxis3": {
         "anchor": "x3",
         "domain": [
          0,
          0.375
         ]
        },
        "yaxis4": {
         "anchor": "x4",
         "domain": [
          0,
          0.375
         ]
        }
       }
      }
     },
     "metadata": {},
     "output_type": "display_data"
    },
    {
     "data": {
      "application/vnd.plotly.v1+json": {
       "config": {
        "plotlyServerURL": "https://plot.ly"
       },
       "data": [
        {
         "mode": "lines",
         "name": "PMT",
         "stackgroup": "one",
         "type": "scatter",
         "x": [
          "2021-01",
          "2021-03",
          "2021-04",
          "2021-05",
          "2021-06",
          "2021-07",
          "2021-08",
          "2021-09",
          "2021-10",
          "2021-11",
          "2021-12",
          "2022-01",
          "2022-02",
          "2022-03",
          "2022-04",
          "2022-05",
          "2022-06",
          "2022-07",
          "2022-08",
          "2022-09",
          "2022-10",
          "2022-11",
          "2022-12",
          "2023-01",
          "2023-02",
          "2023-03",
          "2023-04",
          "2023-05",
          "2023-06",
          "2023-07",
          "2023-08",
          "2023-09",
          "2023-10",
          "2023-11",
          "2023-12"
         ],
         "xaxis": "x",
         "y": {
          "bdata": "+6IiAIgGGgCS2iAA3nlCACP/IADFBiEAiWUhANYoIQAnDCEA2eggAPIAIQCG2iAAGt0gABG5IAD8qR8Aee8cAKV0GwAAVBoAFQYaAPw1GgDMYxcAhLgUAKlBFADZgBQAuIIUAH4MEwDaXxMAssQRADfUEQA0jxAADYoQANgxDwBYQAwA7K4JADS9CQA=",
          "dtype": "i4"
         },
         "yaxis": "y"
        },
        {
         "mode": "lines",
         "name": "kontrol_htn",
         "stackgroup": "one",
         "type": "scatter",
         "x": [
          "2021-01",
          "2021-03",
          "2021-04",
          "2021-05",
          "2021-06",
          "2021-07",
          "2021-08",
          "2021-09",
          "2021-10",
          "2021-11",
          "2021-12",
          "2022-01",
          "2022-02",
          "2022-03",
          "2022-04",
          "2022-05",
          "2022-06",
          "2022-07",
          "2022-08",
          "2022-09",
          "2022-10",
          "2022-11",
          "2022-12",
          "2023-01",
          "2023-02",
          "2023-03",
          "2023-04",
          "2023-05",
          "2023-06",
          "2023-07",
          "2023-08",
          "2023-09",
          "2023-10",
          "2023-11",
          "2023-12"
         ],
         "xaxis": "x",
         "y": {
          "bdata": "AAAAAAAAAAA2NBAAAAAAANcOIQAAAAAAAAAAADQXJQAAAAAAAAAAANXsJAAAAAAAAAAAACNsJAAAAAAAAAAAABRAJQAAAAAAAAAAAIDyJAAAAAAAAAAAAEQUJQAAAAAAAAAAAJ/PJAAAAAAAAAAAAM4cJAAAAAAAAAAAANe8JAAAAAAAAAAAADDgIwA=",
          "dtype": "i4"
         },
         "yaxis": "y"
        },
        {
         "mode": "lines",
         "name": "mikronutrien",
         "stackgroup": "one",
         "type": "scatter",
         "x": [
          "2021-01",
          "2021-03",
          "2021-04",
          "2021-05",
          "2021-06",
          "2021-07",
          "2021-08",
          "2021-09",
          "2021-10",
          "2021-11",
          "2021-12",
          "2022-01",
          "2022-02",
          "2022-03",
          "2022-04",
          "2022-05",
          "2022-06",
          "2022-07",
          "2022-08",
          "2022-09",
          "2022-10",
          "2022-11",
          "2022-12",
          "2023-01",
          "2023-02",
          "2023-03",
          "2023-04",
          "2023-05",
          "2023-06",
          "2023-07",
          "2023-08",
          "2023-09",
          "2023-10",
          "2023-11",
          "2023-12"
         ],
         "xaxis": "x",
         "y": {
          "bdata": "B44HAJffBQCmQQcADKwOAL5MBwBsPQcA5VEHAJFLBwCBLQcA/XQHAOlTBwCyWgcAW1kHAIFGBwDf7QYANGMGAEYVBgBbxQUAl8IFAArABQCmRQUAGZ0EAN2QBAAsnwQAD4kEAJlHBADzPAQAGOADAOb0AwCemwMAkKEDAARfAwAwtQIAKx0CANUnAgA=",
          "dtype": "i4"
         },
         "yaxis": "y"
        },
        {
         "mode": "lines",
         "name": "obat_htn",
         "stackgroup": "one",
         "type": "scatter",
         "x": [
          "2021-01",
          "2021-03",
          "2021-04",
          "2021-05",
          "2021-06",
          "2021-07",
          "2021-08",
          "2021-09",
          "2021-10",
          "2021-11",
          "2021-12",
          "2022-01",
          "2022-02",
          "2022-03",
          "2022-04",
          "2022-05",
          "2022-06",
          "2022-07",
          "2022-08",
          "2022-09",
          "2022-10",
          "2022-11",
          "2022-12",
          "2023-01",
          "2023-02",
          "2023-03",
          "2023-04",
          "2023-05",
          "2023-06",
          "2023-07",
          "2023-08",
          "2023-09",
          "2023-10",
          "2023-11",
          "2023-12"
         ],
         "xaxis": "x",
         "y": {
          "bdata": "fUkNAOlnCgA0lg4Aif4kAAeEFQA65xUAWpgVAEHzFQD+URYAhTwWAIwnFgC2pxUAFFQWACPAFQA5NhYAoXkVAM/9FQAA8RUANbYVALIxFgDHAhYAJAkWAFyYFQA6eBUAiJwVAKamFQAdAhYA8vAVAJRHFgD3sBUAbcYVAMZeFQDW9RUAJwEWAHNKFQA=",
          "dtype": "i4"
         },
         "yaxis": "y"
        },
        {
         "mode": "lines",
         "name": "posyandu",
         "stackgroup": "one",
         "type": "scatter",
         "x": [
          "2021-01",
          "2021-03",
          "2021-04",
          "2021-05",
          "2021-06",
          "2021-07",
          "2021-08",
          "2021-09",
          "2021-10",
          "2021-11",
          "2021-12",
          "2022-01",
          "2022-02",
          "2022-03",
          "2022-04",
          "2022-05",
          "2022-06",
          "2022-07",
          "2022-08",
          "2022-09",
          "2022-10",
          "2022-11",
          "2022-12",
          "2023-01",
          "2023-02",
          "2023-03",
          "2023-04",
          "2023-05",
          "2023-06",
          "2023-07",
          "2023-08",
          "2023-09",
          "2023-10",
          "2023-11",
          "2023-12"
         ],
         "xaxis": "x",
         "y": {
          "bdata": "6scDAEjtAgCvugMAgUUHAOKqAwBTxQMAtagDAB6oAwAJtgMA6aYDAJCjAwDTrAMASawDAJKwAwAEfwMASTQDABj4AgCz7QIAR+gCAFPsAgAIpQIAzUsCAD9QAgDSUQIAyz4CAGkbAgDjKgIAfvgBACQCAgDo2wEA6NoBAGutAQAKYAEAaQ4BAO8JAQA=",
          "dtype": "i4"
         },
         "yaxis": "y"
        },
        {
         "marker": {
          "color": "steelblue"
         },
         "name": "Cost per Unit",
         "type": "bar",
         "x": [
          "PMT",
          "kontrol_htn",
          "mikronutrien",
          "obat_htn",
          "posyandu"
         ],
         "xaxis": "x2",
         "y": {
          "bdata": "m5NAXEgB5kBSpAXo1VvyQL8od3kKetNAH7m3vkvx5UCe+qLc5ZPDQA==",
          "dtype": "f8"
         },
         "yaxis": "y2"
        }
       ],
       "layout": {
        "annotations": [
         {
          "font": {
           "size": 16
          },
          "showarrow": false,
          "text": "Monthly Program Costs",
          "x": 0.225,
          "xanchor": "center",
          "xref": "paper",
          "y": 1,
          "yanchor": "bottom",
          "yref": "paper"
         },
         {
          "font": {
           "size": 16
          },
          "showarrow": false,
          "text": "Cost Efficiency by Program",
          "x": 0.775,
          "xanchor": "center",
          "xref": "paper",
          "y": 1,
          "yanchor": "bottom",
          "yref": "paper"
         }
        ],
        "height": 600,
        "template": {
         "data": {
          "bar": [
           {
            "error_x": {
             "color": "#2a3f5f"
            },
            "error_y": {
             "color": "#2a3f5f"
            },
            "marker": {
             "line": {
              "color": "#E5ECF6",
              "width": 0.5
             },
             "pattern": {
              "fillmode": "overlay",
              "size": 10,
              "solidity": 0.2
             }
            },
            "type": "bar"
           }
          ],
          "barpolar": [
           {
            "marker": {
             "line": {
              "color": "#E5ECF6",
              "width": 0.5
             },
             "pattern": {
              "fillmode": "overlay",
              "size": 10,
              "solidity": 0.2
             }
            },
            "type": "barpolar"
           }
          ],
          "carpet": [
           {
            "aaxis": {
             "endlinecolor": "#2a3f5f",
             "gridcolor": "white",
             "linecolor": "white",
             "minorgridcolor": "white",
             "startlinecolor": "#2a3f5f"
            },
            "baxis": {
             "endlinecolor": "#2a3f5f",
             "gridcolor": "white",
             "linecolor": "white",
             "minorgridcolor": "white",
             "startlinecolor": "#2a3f5f"
            },
            "type": "carpet"
           }
          ],
          "choropleth": [
           {
            "colorbar": {
             "outlinewidth": 0,
             "ticks": ""
            },
            "type": "choropleth"
           }
          ],
          "contour": [
           {
            "colorbar": {
             "outlinewidth": 0,
             "ticks": ""
            },
            "colorscale": [
             [
              0,
              "#0d0887"
             ],
             [
              0.1111111111111111,
              "#46039f"
             ],
             [
              0.2222222222222222,
              "#7201a8"
             ],
             [
              0.3333333333333333,
              "#9c179e"
             ],
             [
              0.4444444444444444,
              "#bd3786"
             ],
             [
              0.5555555555555556,
              "#d8576b"
             ],
             [
              0.6666666666666666,
              "#ed7953"
             ],
             [
              0.7777777777777778,
              "#fb9f3a"
             ],
             [
              0.8888888888888888,
              "#fdca26"
             ],
             [
              1,
              "#f0f921"
             ]
            ],
            "type": "contour"
           }
          ],
          "contourcarpet": [
           {
            "colorbar": {
             "outlinewidth": 0,
             "ticks": ""
            },
            "type": "contourcarpet"
           }
          ],
          "heatmap": [
           {
            "colorbar": {
             "outlinewidth": 0,
             "ticks": ""
            },
            "colorscale": [
             [
              0,
              "#0d0887"
             ],
             [
              0.1111111111111111,
              "#46039f"
             ],
             [
              0.2222222222222222,
              "#7201a8"
             ],
             [
              0.3333333333333333,
              "#9c179e"
             ],
             [
              0.4444444444444444,
              "#bd3786"
             ],
             [
              0.5555555555555556,
              "#d8576b"
             ],
             [
              0.6666666666666666,
              "#ed7953"
             ],
             [
              0.7777777777777778,
              "#fb9f3a"
             ],
             [
              0.8888888888888888,
              "#fdca26"
             ],
             [
              1,
              "#f0f921"
             ]
            ],
            "type": "heatmap"
           }
          ],
          "histogram": [
           {
            "marker": {
             "pattern": {
              "fillmode": "overlay",
              "size": 10,
              "solidity": 0.2
             }
            },
            "type": "histogram"
           }
          ],
          "histogram2d": [
           {
            "colorbar": {
             "outlinewidth": 0,
             "ticks": ""
            },
            "colorscale": [
             [
              0,
              "#0d0887"
             ],
             [
              0.1111111111111111,
              "#46039f"
             ],
             [
              0.2222222222222222,
              "#7201a8"
             ],
             [
              0.3333333333333333,
              "#9c179e"
             ],
             [
              0.4444444444444444,
              "#bd3786"
             ],
             [
              0.5555555555555556,
              "#d8576b"
             ],
             [
              0.6666666666666666,
              "#ed7953"
             ],
             [
              0.7777777777777778,
              "#fb9f3a"
             ],
             [
              0.8888888888888888,
              "#fdca26"
             ],
             [
              1,
              "#f0f921"
             ]
            ],
            "type": "histogram2d"
           }
          ],
          "histogram2dcontour": [
           {
            "colorbar": {
             "outlinewidth": 0,
             "ticks": ""
            },
            "colorscale": [
             [
              0,
              "#0d0887"
             ],
             [
              0.1111111111111111,
              "#46039f"
             ],
             [
              0.2222222222222222,
              "#7201a8"
             ],
             [
              0.3333333333333333,
              "#9c179e"
             ],
             [
              0.4444444444444444,
              "#bd3786"
             ],
             [
              0.5555555555555556,
              "#d8576b"
             ],
             [
              0.6666666666666666,
              "#ed7953"
             ],
             [
              0.7777777777777778,
              "#fb9f3a"
             ],
             [
              0.8888888888888888,
              "#fdca26"
             ],
             [
              1,
              "#f0f921"
             ]
            ],
            "type": "histogram2dcontour"
           }
          ],
          "mesh3d": [
           {
            "colorbar": {
             "outlinewidth": 0,
             "ticks": ""
            },
            "type": "mesh3d"
           }
          ],
          "parcoords": [
           {
            "line": {
             "colorbar": {
              "outlinewidth": 0,
              "ticks": ""
             }
            },
            "type": "parcoords"
           }
          ],
          "pie": [
           {
            "automargin": true,
            "type": "pie"
           }
          ],
          "scatter": [
           {
            "fillpattern": {
             "fillmode": "overlay",
             "size": 10,
             "solidity": 0.2
            },
            "type": "scatter"
           }
          ],
          "scatter3d": [
           {
            "line": {
             "colorbar": {
              "outlinewidth": 0,
              "ticks": ""
             }
            },
            "marker": {
             "colorbar": {
              "outlinewidth": 0,
              "ticks": ""
             }
            },
            "type": "scatter3d"
           }
          ],
          "scattercarpet": [
           {
            "marker": {
             "colorbar": {
              "outlinewidth": 0,
              "ticks": ""
             }
            },
            "type": "scattercarpet"
           }
          ],
          "scattergeo": [
           {
            "marker": {
             "colorbar": {
              "outlinewidth": 0,
              "ticks": ""
             }
            },
            "type": "scattergeo"
           }
          ],
          "scattergl": [
           {
            "marker": {
             "colorbar": {
              "outlinewidth": 0,
              "ticks": ""
             }
            },
            "type": "scattergl"
           }
          ],
          "scattermap": [
           {
            "marker": {
             "colorbar": {
              "outlinewidth": 0,
              "ticks": ""
             }
            },
            "type": "scattermap"
           }
          ],
          "scattermapbox": [
           {
            "marker": {
             "colorbar": {
              "outlinewidth": 0,
              "ticks": ""
             }
            },
            "type": "scattermapbox"
           }
          ],
          "scatterpolar": [
           {
            "marker": {
             "colorbar": {
              "outlinewidth": 0,
              "ticks": ""
             }
            },
            "type": "scatterpolar"
           }
          ],
          "scatterpolargl": [
           {
            "marker": {
             "colorbar": {
              "outlinewidth": 0,
              "ticks": ""
             }
            },
            "type": "scatterpolargl"
           }
          ],
          "scatterternary": [
           {
            "marker": {
             "colorbar": {
              "outlinewidth": 0,
              "ticks": ""
             }
            },
            "type": "scatterternary"
           }
          ],
          "surface": [
           {
            "colorbar": {
             "outlinewidth": 0,
             "ticks": ""
            },
            "colorscale": [
             [
              0,
              "#0d0887"
             ],
             [
              0.1111111111111111,
              "#46039f"
             ],
             [
              0.2222222222222222,
              "#7201a8"
             ],
             [
              0.3333333333333333,
              "#9c179e"
             ],
             [
              0.4444444444444444,
              "#bd3786"
             ],
             [
              0.5555555555555556,
              "#d8576b"
             ],
             [
              0.6666666666666666,
              "#ed7953"
             ],
             [
              0.7777777777777778,
              "#fb9f3a"
             ],
             [
              0.8888888888888888,
              "#fdca26"
             ],
             [
              1,
              "#f0f921"
             ]
            ],
            "type": "surface"
           }
          ],
          "table": [
           {
            "cells": {
             "fill": {
              "color": "#EBF0F8"
             },
             "line": {
              "color": "white"
             }
            },
            "header": {
             "fill": {
              "color": "#C8D4E3"
             },
             "line": {
              "color": "white"
             }
            },
            "type": "table"
           }
          ]
         },
         "layout": {
          "annotationdefaults": {
           "arrowcolor": "#2a3f5f",
           "arrowhead": 0,
           "arrowwidth": 1
          },
          "autotypenumbers": "strict",
          "coloraxis": {
           "colorbar": {
            "outlinewidth": 0,
            "ticks": ""
           }
          },
          "colorscale": {
           "diverging": [
            [
             0,
             "#8e0152"
            ],
            [
             0.1,
             "#c51b7d"
            ],
            [
             0.2,
             "#de77ae"
            ],
            [
             0.3,
             "#f1b6da"
            ],
            [
             0.4,
             "#fde0ef"
            ],
            [
             0.5,
             "#f7f7f7"
            ],
            [
             0.6,
             "#e6f5d0"
            ],
            [
             0.7,
             "#b8e186"
            ],
            [
             0.8,
             "#7fbc41"
            ],
            [
             0.9,
             "#4d9221"
            ],
            [
             1,
             "#276419"
            ]
           ],
           "sequential": [
            [
             0,
             "#0d0887"
            ],
            [
             0.1111111111111111,
             "#46039f"
            ],
            [
             0.2222222222222222,
             "#7201a8"
            ],
            [
             0.3333333333333333,
             "#9c179e"
            ],
            [
             0.4444444444444444,
             "#bd3786"
            ],
            [
             0.5555555555555556,
             "#d8576b"
            ],
            [
             0.6666666666666666,
             "#ed7953"
            ],
            [
             0.7777777777777778,
             "#fb9f3a"
            ],
            [
             0.8888888888888888,
             "#fdca26"
            ],
            [
             1,
             "#f0f921"
            ]
           ],
           "sequentialminus": [
            [
             0,
             "#0d0887"
            ],
            [
             0.1111111111111111,
             "#46039f"
            ],
            [
             0.2222222222222222,
             "#7201a8"
            ],
            [
             0.3333333333333333,
             "#9c179e"
            ],
            [
             0.4444444444444444,
             "#bd3786"
            ],
            [
             0.5555555555555556,
             "#d8576b"
            ],
            [
             0.6666666666666666,
             "#ed7953"
            ],
            [
             0.7777777777777778,
             "#fb9f3a"
            ],
            [
             0.8888888888888888,
             "#fdca26"
            ],
            [
             1,
             "#f0f921"
            ]
           ]
          },
          "colorway": [
           "#636efa",
           "#EF553B",
           "#00cc96",
           "#ab63fa",
           "#FFA15A",
           "#19d3f3",
           "#FF6692",
           "#B6E880",
           "#FF97FF",
           "#FECB52"
          ],
          "font": {
           "color": "#2a3f5f"
          },
          "geo": {
           "bgcolor": "white",
           "lakecolor": "white",
           "landcolor": "#E5ECF6",
           "showlakes": true,
           "showland": true,
           "subunitcolor": "white"
          },
          "hoverlabel": {
           "align": "left"
          },
          "hovermode": "closest",
          "mapbox": {
           "style": "light"
          },
          "paper_bgcolor": "white",
          "plot_bgcolor": "#E5ECF6",
          "polar": {
           "angularaxis": {
            "gridcolor": "white",
            "linecolor": "white",
            "ticks": ""
           },
           "bgcolor": "#E5ECF6",
           "radialaxis": {
            "gridcolor": "white",
            "linecolor": "white",
            "ticks": ""
           }
          },
          "scene": {
           "xaxis": {
            "backgroundcolor": "#E5ECF6",
            "gridcolor": "white",
            "gridwidth": 2,
            "linecolor": "white",
            "showbackground": true,
            "ticks": "",
            "zerolinecolor": "white"
           },
           "yaxis": {
            "backgroundcolor": "#E5ECF6",
            "gridcolor": "white",
            "gridwidth": 2,
            "linecolor": "white",
            "showbackground": true,
            "ticks": "",
            "zerolinecolor": "white"
           },
           "zaxis": {
            "backgroundcolor": "#E5ECF6",
            "gridcolor": "white",
            "gridwidth": 2,
            "linecolor": "white",
            "showbackground": true,
            "ticks": "",
            "zerolinecolor": "white"
           }
          },
          "shapedefaults": {
           "line": {
            "color": "#2a3f5f"
           }
          },
          "ternary": {
           "aaxis": {
            "gridcolor": "white",
            "linecolor": "white",
            "ticks": ""
           },
           "baxis": {
            "gridcolor": "white",
            "linecolor": "white",
            "ticks": ""
           },
           "bgcolor": "#E5ECF6",
           "caxis": {
            "gridcolor": "white",
            "linecolor": "white",
            "ticks": ""
           }
          },
          "title": {
           "x": 0.05
          },
          "xaxis": {
           "automargin": true,
           "gridcolor": "white",
           "linecolor": "white",
           "ticks": "",
           "title": {
            "standoff": 15
           },
           "zerolinecolor": "white",
           "zerolinewidth": 2
          },
          "yaxis": {
           "automargin": true,
           "gridcolor": "white",
           "linecolor": "white",
           "ticks": "",
           "title": {
            "standoff": 15
           },
           "zerolinecolor": "white",
           "zerolinewidth": 2
          }
         }
        },
        "title": {
         "text": "Program Cost Analysis Dashboard"
        },
        "xaxis": {
         "anchor": "y",
         "domain": [
          0,
          0.45
         ]
        },
        "xaxis2": {
         "anchor": "y2",
         "domain": [
          0.55,
          1
         ]
        },
        "yaxis": {
         "anchor": "x",
         "domain": [
          0,
          1
         ]
        },
        "yaxis2": {
         "anchor": "x2",
         "domain": [
          0,
          1
         ]
        }
       }
      }
     },
     "metadata": {},
     "output_type": "display_data"
    },
    {
     "name": "stdout",
     "output_type": "stream",
     "text": [
      "\n",
      "📈 LONGITUDINAL DATA SUMMARY:\n",
      "📊 Adults HTN Dataset:\n",
      "   Total records: 1,850\n",
      "   Unique patients: 50\n",
      "   Time span: 0-36 months\n",
      "   Patients on treatment: 37\n",
      "\n",
      "👶 Children Stunting Dataset:\n",
      "   Total records: 1,155\n",
      "   Unique children: 40\n",
      "   Age range: 6-50 months\n",
      "   Children in program: 29\n",
      "\n",
      "💰 Program Log Dataset:\n",
      "   Total delivery records: 3,459\n",
      "   Total program cost: Rp 156,625,893\n",
      "   Average monthly cost: Rp 4,233,132\n",
      "\n",
      "✅ All visualizations completed successfully!\n"
     ]
    }
   ],
   "source": [
    "# Add this as a new cell - Comprehensive Longitudinal Data Visualizations\n",
    "\n",
    "import matplotlib.pyplot as plt\n",
    "import seaborn as sns\n",
    "import plotly.graph_objects as go\n",
    "from plotly.subplots import make_subplots\n",
    "import plotly.express as px\n",
    "from datetime import datetime\n",
    "\n",
    "## Comprehensive Longitudinal Data Visualizations\n",
    "\n",
    "print(\"📊 Creating Comprehensive Visualizations for Longitudinal Data...\")\n",
    "\n",
    "# Set up visualization style\n",
    "plt.style.use('seaborn-v0_8')\n",
    "sns.set_palette(\"husl\")\n",
    "\n",
    "# Create a comprehensive dashboard\n",
    "fig = plt.figure(figsize=(24, 20))\n",
    "gs = fig.add_gridspec(5, 4, height_ratios=[1, 1, 1, 1, 1], width_ratios=[1, 1, 1, 1])\n",
    "\n",
    "# =============================================================================\n",
    "# ADULTS HTN VISUALIZATIONS\n",
    "# =============================================================================\n",
    "\n",
    "# 1. Blood Pressure Trends Over Time (Top Row)\n",
    "ax1 = fig.add_subplot(gs[0, :2])\n",
    "\n",
    "# Sample 5 patients for clear visualization\n",
    "sample_patients = adults_longitudinal['person_id'].unique()[:5]\n",
    "colors = ['#e74c3c', '#3498db', '#2ecc71', '#f39c12', '#9b59b6']\n",
    "\n",
    "for i, patient in enumerate(sample_patients):\n",
    "    patient_data = adults_longitudinal[adults_longitudinal['person_id'] == patient]\n",
    "    ax1.plot(patient_data['month'], patient_data['sistol'], \n",
    "             label=f'{patient} - SBP', color=colors[i], linewidth=2)\n",
    "    ax1.plot(patient_data['month'], patient_data['diastol'], \n",
    "             label=f'{patient} - DBP', color=colors[i], linestyle='--', alpha=0.7)\n",
    "\n",
    "ax1.axhline(y=140, color='red', linestyle=':', alpha=0.7, label='HTN Threshold (SBP)')\n",
    "ax1.axhline(y=90, color='orange', linestyle=':', alpha=0.7, label='HTN Threshold (DBP)')\n",
    "ax1.set_title('Blood Pressure Trends Over Time (Sample Patients)', fontsize=14, fontweight='bold')\n",
    "ax1.set_xlabel('Months from Baseline')\n",
    "ax1.set_ylabel('Blood Pressure (mmHg)')\n",
    "ax1.legend(bbox_to_anchor=(1.05, 1), loc='upper left', fontsize=8)\n",
    "ax1.grid(True, alpha=0.3)\n",
    "\n",
    "# 2. Treatment Response Distribution\n",
    "ax2 = fig.add_subplot(gs[0, 2:])\n",
    "\n",
    "# Calculate BP reduction for treated patients\n",
    "treated_patients = adults_longitudinal[adults_longitudinal['on_treatment'] == 1]\n",
    "if len(treated_patients) > 0:\n",
    "    # Get latest BP for each treated patient\n",
    "    latest_treated = treated_patients.groupby('person_id').last()\n",
    "    baseline_treated = adults_longitudinal[adults_longitudinal['month'] == 0]\n",
    "    baseline_treated = baseline_treated.set_index('person_id')\n",
    "    \n",
    "    bp_reductions = []\n",
    "    for patient_id in latest_treated.index:\n",
    "        if patient_id in baseline_treated.index:\n",
    "            baseline_sbp = baseline_treated.loc[patient_id, 'sistol']\n",
    "            latest_sbp = latest_treated.loc[patient_id, 'sistol']\n",
    "            reduction = baseline_sbp - latest_sbp\n",
    "            bp_reductions.append(reduction)\n",
    "    \n",
    "    if bp_reductions:\n",
    "        ax2.hist(bp_reductions, bins=15, alpha=0.7, color='skyblue', edgecolor='black')\n",
    "        ax2.axvline(x=np.mean(bp_reductions), color='red', linestyle='--', \n",
    "                   label=f'Mean: {np.mean(bp_reductions):.1f} mmHg')\n",
    "        ax2.set_title('SBP Reduction Distribution (Treated Patients)', fontsize=14, fontweight='bold')\n",
    "        ax2.set_xlabel('SBP Reduction (mmHg)')\n",
    "        ax2.set_ylabel('Number of Patients')\n",
    "        ax2.legend()\n",
    "        ax2.grid(True, alpha=0.3)\n",
    "\n",
    "# 3. Adherence Decay Over Time\n",
    "ax3 = fig.add_subplot(gs[1, :2])\n",
    "\n",
    "adherence_data = adults_longitudinal[adults_longitudinal['on_treatment'] == 1]\n",
    "if len(adherence_data) > 0:\n",
    "    # Calculate mean adherence by treatment month\n",
    "    adherence_by_month = adherence_data.groupby('treatment_months')['adherence_current'].mean()\n",
    "    \n",
    "    ax3.plot(adherence_by_month.index, adherence_by_month.values, \n",
    "             marker='o', linewidth=3, markersize=6, color='green')\n",
    "    ax3.fill_between(adherence_by_month.index, adherence_by_month.values, \n",
    "                     alpha=0.3, color='green')\n",
    "    ax3.set_title('Average Medication Adherence Over Treatment Duration', fontsize=14, fontweight='bold')\n",
    "    ax3.set_xlabel('Months on Treatment')\n",
    "    ax3.set_ylabel('Average Adherence')\n",
    "    ax3.grid(True, alpha=0.3)\n",
    "    ax3.set_ylim([0, 1])\n",
    "\n",
    "# 4. Treatment Effectiveness by Drug Type\n",
    "ax4 = fig.add_subplot(gs[1, 2:])\n",
    "\n",
    "drug_effectiveness = {}\n",
    "for drug in adults_longitudinal['jenis_obat'].unique():\n",
    "    if drug != '-':\n",
    "        drug_patients = adults_longitudinal[adults_longitudinal['jenis_obat'] == drug]\n",
    "        if len(drug_patients) > 0:\n",
    "            # Calculate mean BP reduction for this drug\n",
    "            latest_drug = drug_patients.groupby('person_id').last()\n",
    "            baseline_drug = adults_longitudinal[adults_longitudinal['month'] == 0]\n",
    "            baseline_drug = baseline_drug.set_index('person_id')\n",
    "            \n",
    "            reductions = []\n",
    "            for patient_id in latest_drug.index:\n",
    "                if patient_id in baseline_drug.index:\n",
    "                    baseline_sbp = baseline_drug.loc[patient_id, 'sistol']\n",
    "                    latest_sbp = latest_drug.loc[patient_id, 'sistol']\n",
    "                    reduction = baseline_sbp - latest_sbp\n",
    "                    reductions.append(reduction)\n",
    "            \n",
    "            if reductions:\n",
    "                drug_effectiveness[drug] = np.mean(reductions)\n",
    "\n",
    "if drug_effectiveness:\n",
    "    drugs = list(drug_effectiveness.keys())\n",
    "    effectiveness = list(drug_effectiveness.values())\n",
    "    \n",
    "    bars = ax4.bar(drugs, effectiveness, color=['#ff7f7f', '#7fbfff', '#7fff7f', '#ffbf7f'])\n",
    "    ax4.set_title('Average SBP Reduction by Drug Type', fontsize=14, fontweight='bold')\n",
    "    ax4.set_ylabel('Mean SBP Reduction (mmHg)')\n",
    "    ax4.tick_params(axis='x', rotation=45)\n",
    "    \n",
    "    # Add value labels on bars\n",
    "    for bar, value in zip(bars, effectiveness):\n",
    "        height = bar.get_height()\n",
    "        ax4.text(bar.get_x() + bar.get_width()/2., height + 0.5,\n",
    "                f'{value:.1f}', ha='center', va='bottom', fontweight='bold')\n",
    "\n",
    "# =============================================================================\n",
    "# CHILDREN STUNTING VISUALIZATIONS\n",
    "# =============================================================================\n",
    "\n",
    "# 5. HAZ Growth Trajectories\n",
    "ax5 = fig.add_subplot(gs[2, :2])\n",
    "\n",
    "# Sample 5 children for clear visualization\n",
    "sample_children = children_longitudinal['child_id'].unique()[:5]\n",
    "\n",
    "for i, child in enumerate(sample_children):\n",
    "    child_data = children_longitudinal[children_longitudinal['child_id'] == child]\n",
    "    ax5.plot(child_data['usia_bulan'], child_data['HAZ'], \n",
    "             label=f'{child}', color=colors[i], linewidth=2, marker='o', markersize=4)\n",
    "\n",
    "ax5.axhline(y=-2, color='red', linestyle=':', alpha=0.7, label='Stunting Threshold')\n",
    "ax5.axhline(y=-3, color='darkred', linestyle=':', alpha=0.7, label='Severe Stunting')\n",
    "ax5.set_title('Height-for-Age Z-Score Trajectories (Sample Children)', fontsize=14, fontweight='bold')\n",
    "ax5.set_xlabel('Age (Months)')\n",
    "ax5.set_ylabel('HAZ Score')\n",
    "ax5.legend(bbox_to_anchor=(1.05, 1), loc='upper left', fontsize=8)\n",
    "ax5.grid(True, alpha=0.3)\n",
    "\n",
    "# 6. Program Impact on HAZ\n",
    "ax6 = fig.add_subplot(gs[2, 2:])\n",
    "\n",
    "# Compare HAZ improvement between program participants and non-participants\n",
    "program_children = children_longitudinal[children_longitudinal['on_program'] == 1]\n",
    "non_program_children = children_longitudinal[children_longitudinal['on_program'] == 0]\n",
    "\n",
    "if len(program_children) > 0 and len(non_program_children) > 0:\n",
    "    # Calculate HAZ change for each group\n",
    "    program_haz_change = program_children.groupby('child_id')['haz_change_this_month'].sum()\n",
    "    non_program_haz_change = non_program_children.groupby('child_id')['haz_change_this_month'].sum()\n",
    "    \n",
    "    # Create box plot\n",
    "    data_to_plot = [program_haz_change.values, non_program_haz_change.values]\n",
    "    box_plot = ax6.boxplot(data_to_plot, labels=['Program\\nParticipants', 'Non-\\nParticipants'], \n",
    "                          patch_artist=True)\n",
    "    \n",
    "    # Color the boxes\n",
    "    box_plot['boxes'][0].set_facecolor('lightgreen')\n",
    "    box_plot['boxes'][1].set_facecolor('lightcoral')\n",
    "    \n",
    "    ax6.set_title('HAZ Change Distribution: Program vs Non-Program', fontsize=14, fontweight='bold')\n",
    "    ax6.set_ylabel('Total HAZ Change')\n",
    "    ax6.grid(True, alpha=0.3)\n",
    "\n",
    "# 7. Age-specific Growth Patterns\n",
    "ax7 = fig.add_subplot(gs[3, :2])\n",
    "\n",
    "# Group children by age categories\n",
    "age_groups = {\n",
    "    '6-12 months': children_longitudinal[(children_longitudinal['usia_bulan'] >= 6) & \n",
    "                                        (children_longitudinal['usia_bulan'] < 12)],\n",
    "    '12-24 months': children_longitudinal[(children_longitudinal['usia_bulan'] >= 12) & \n",
    "                                         (children_longitudinal['usia_bulan'] < 24)],\n",
    "    '24-36 months': children_longitudinal[(children_longitudinal['usia_bulan'] >= 24) & \n",
    "                                         (children_longitudinal['usia_bulan'] < 36)],\n",
    "    '36+ months': children_longitudinal[children_longitudinal['usia_bulan'] >= 36]\n",
    "}\n",
    "\n",
    "age_group_colors = ['#FF6B6B', '#4ECDC4', '#45B7D1', '#96CEB4']\n",
    "\n",
    "for i, (age_group, data) in enumerate(age_groups.items()):\n",
    "    if len(data) > 0:\n",
    "        monthly_haz = data.groupby('month')['HAZ'].mean()\n",
    "        ax7.plot(monthly_haz.index, monthly_haz.values, \n",
    "                label=age_group, color=age_group_colors[i], linewidth=2, marker='o')\n",
    "\n",
    "ax7.set_title('Average HAZ by Age Group Over Time', fontsize=14, fontweight='bold')\n",
    "ax7.set_xlabel('Months from Baseline')\n",
    "ax7.set_ylabel('Average HAZ')\n",
    "ax7.legend()\n",
    "ax7.grid(True, alpha=0.3)\n",
    "\n",
    "# 8. Seasonal Nutrition Effects\n",
    "ax8 = fig.add_subplot(gs[3, 2:])\n",
    "\n",
    "# Plot seasonal nutrition factor over time\n",
    "seasonal_data = children_longitudinal.groupby('month')['seasonal_nutrition'].mean()\n",
    "\n",
    "ax8.plot(seasonal_data.index, seasonal_data.values, \n",
    "         color='orange', linewidth=3, marker='s', markersize=6)\n",
    "ax8.fill_between(seasonal_data.index, seasonal_data.values, \n",
    "                 alpha=0.3, color='orange')\n",
    "ax8.set_title('Seasonal Nutrition Effects Over Time', fontsize=14, fontweight='bold')\n",
    "ax8.set_xlabel('Months from Baseline')\n",
    "ax8.set_ylabel('Seasonal Nutrition Factor')\n",
    "ax8.grid(True, alpha=0.3)\n",
    "ax8.axhline(y=0, color='black', linestyle='-', alpha=0.5)\n",
    "\n",
    "# =============================================================================\n",
    "# PROGRAM LOG VISUALIZATIONS\n",
    "# =============================================================================\n",
    "\n",
    "# 9. Program Costs Over Time\n",
    "ax9 = fig.add_subplot(gs[4, :2])\n",
    "\n",
    "# Convert date column to datetime\n",
    "program_log_corrected['tanggal'] = pd.to_datetime(program_log_corrected['tanggal'])\n",
    "\n",
    "# Group costs by month and program type\n",
    "program_log_corrected['year_month'] = program_log_corrected['tanggal'].dt.to_period('M')\n",
    "monthly_costs = program_log_corrected.groupby(['year_month', 'program'])['biaya_riil'].sum().unstack(fill_value=0)\n",
    "\n",
    "# Plot stacked area chart\n",
    "if len(monthly_costs) > 0:\n",
    "    monthly_costs.plot(kind='area', ax=ax9, alpha=0.7, stacked=True)\n",
    "    ax9.set_title('Monthly Program Costs by Type', fontsize=14, fontweight='bold')\n",
    "    ax9.set_xlabel('Time Period')\n",
    "    ax9.set_ylabel('Cost (IDR)')\n",
    "    ax9.legend(title='Program Type', bbox_to_anchor=(1.05, 1), loc='upper left')\n",
    "    ax9.tick_params(axis='x', rotation=45)\n",
    "\n",
    "# 10. Program Delivery Efficiency\n",
    "ax10 = fig.add_subplot(gs[4, 2:])\n",
    "\n",
    "# Calculate cost per unit by program type\n",
    "program_efficiency = program_log_corrected.groupby('program').agg({\n",
    "    'biaya_riil': 'sum',\n",
    "    'unit_terkirim': 'sum'\n",
    "}).reset_index()\n",
    "\n",
    "program_efficiency['cost_per_unit'] = program_efficiency['biaya_riil'] / program_efficiency['unit_terkirim']\n",
    "\n",
    "bars = ax10.bar(program_efficiency['program'], program_efficiency['cost_per_unit'], \n",
    "                color=['#FF9999', '#66B2FF', '#99FF99', '#FFCC99', '#FF99CC'])\n",
    "ax10.set_title('Average Cost per Unit Delivered by Program', fontsize=14, fontweight='bold')\n",
    "ax10.set_ylabel('Cost per Unit (IDR)')\n",
    "ax10.tick_params(axis='x', rotation=45)\n",
    "\n",
    "# Add value labels on bars\n",
    "for bar, value in zip(bars, program_efficiency['cost_per_unit']):\n",
    "    height = bar.get_height()\n",
    "    ax10.text(bar.get_x() + bar.get_width()/2., height + height*0.01,\n",
    "             f'{value:,.0f}', ha='center', va='bottom', fontsize=10, fontweight='bold')\n",
    "\n",
    "plt.tight_layout()\n",
    "plt.show()\n",
    "\n",
    "# =============================================================================\n",
    "# INTERACTIVE PLOTLY VISUALIZATIONS\n",
    "# =============================================================================\n",
    "\n",
    "print(\"\\n🎯 Creating Interactive Plotly Dashboards...\")\n",
    "\n",
    "# Interactive Adults HTN Dashboard\n",
    "fig_adults = make_subplots(\n",
    "    rows=2, cols=2,\n",
    "    subplot_titles=('Blood Pressure Trends', 'Treatment Response Distribution',\n",
    "                   'Adherence Over Time', 'Drug Effectiveness Comparison'),\n",
    "    specs=[[{\"secondary_y\": False}, {\"secondary_y\": False}],\n",
    "           [{\"secondary_y\": False}, {\"secondary_y\": False}]]\n",
    ")\n",
    "\n",
    "# BP Trends (Interactive)\n",
    "for i, patient in enumerate(sample_patients[:3]):  # Limit to 3 for clarity\n",
    "    patient_data = adults_longitudinal[adults_longitudinal['person_id'] == patient]\n",
    "    fig_adults.add_trace(\n",
    "        go.Scatter(x=patient_data['month'], y=patient_data['sistol'],\n",
    "                  mode='lines+markers', name=f'{patient} SBP',\n",
    "                  line=dict(color=colors[i], width=2)),\n",
    "        row=1, col=1\n",
    "    )\n",
    "\n",
    "# Treatment Response Histogram\n",
    "if bp_reductions:\n",
    "    fig_adults.add_trace(\n",
    "        go.Histogram(x=bp_reductions, nbinsx=15, name='BP Reduction',\n",
    "                    marker_color='skyblue', opacity=0.7),\n",
    "        row=1, col=2\n",
    "    )\n",
    "\n",
    "# Adherence Over Time\n",
    "if len(adherence_data) > 0:\n",
    "    fig_adults.add_trace(\n",
    "        go.Scatter(x=adherence_by_month.index, y=adherence_by_month.values,\n",
    "                  mode='lines+markers', name='Mean Adherence',\n",
    "                  line=dict(color='green', width=3), marker=dict(size=8)),\n",
    "        row=2, col=1\n",
    "    )\n",
    "\n",
    "# Drug Effectiveness\n",
    "if drug_effectiveness:\n",
    "    fig_adults.add_trace(\n",
    "        go.Bar(x=list(drug_effectiveness.keys()), y=list(drug_effectiveness.values()),\n",
    "              name='Drug Effectiveness', marker_color='orange'),\n",
    "        row=2, col=2\n",
    "    )\n",
    "\n",
    "fig_adults.update_layout(height=800, title_text=\"Interactive Adults HTN Analysis Dashboard\")\n",
    "fig_adults.show()\n",
    "\n",
    "# Interactive Children Dashboard\n",
    "fig_children = make_subplots(\n",
    "    rows=2, cols=2,\n",
    "    subplot_titles=('HAZ Growth Trajectories', 'Program Impact Comparison',\n",
    "                   'Age Group Patterns', 'Seasonal Effects'),\n",
    "    specs=[[{\"secondary_y\": False}, {\"secondary_y\": False}],\n",
    "           [{\"secondary_y\": False}, {\"secondary_y\": False}]]\n",
    ")\n",
    "\n",
    "# HAZ Trajectories\n",
    "for i, child in enumerate(sample_children[:3]):\n",
    "    child_data = children_longitudinal[children_longitudinal['child_id'] == child]\n",
    "    fig_children.add_trace(\n",
    "        go.Scatter(x=child_data['usia_bulan'], y=child_data['HAZ'],\n",
    "                  mode='lines+markers', name=f'{child}',\n",
    "                  line=dict(color=colors[i], width=2)),\n",
    "        row=1, col=1\n",
    "    )\n",
    "\n",
    "# Program Impact\n",
    "if len(program_children) > 0 and len(non_program_children) > 0:\n",
    "    fig_children.add_trace(\n",
    "        go.Box(y=program_haz_change.values, name='Program Participants',\n",
    "              marker_color='lightgreen'),\n",
    "        row=1, col=2\n",
    "    )\n",
    "    fig_children.add_trace(\n",
    "        go.Box(y=non_program_haz_change.values, name='Non-Participants',\n",
    "              marker_color='lightcoral'),\n",
    "        row=1, col=2\n",
    "    )\n",
    "\n",
    "# Age Group Patterns\n",
    "for i, (age_group, data) in enumerate(age_groups.items()):\n",
    "    if len(data) > 0:\n",
    "        monthly_haz = data.groupby('month')['HAZ'].mean()\n",
    "        fig_children.add_trace(\n",
    "            go.Scatter(x=monthly_haz.index, y=monthly_haz.values,\n",
    "                      mode='lines+markers', name=age_group,\n",
    "                      line=dict(color=age_group_colors[i], width=2)),\n",
    "            row=2, col=1\n",
    "        )\n",
    "\n",
    "# Seasonal Effects\n",
    "fig_children.add_trace(\n",
    "    go.Scatter(x=seasonal_data.index, y=seasonal_data.values,\n",
    "              mode='lines+markers', name='Seasonal Nutrition',\n",
    "              line=dict(color='orange', width=3), fill='tonexty'),\n",
    "    row=2, col=2\n",
    ")\n",
    "\n",
    "fig_children.update_layout(height=800, title_text=\"Interactive Children Stunting Analysis Dashboard\")\n",
    "fig_children.show()\n",
    "\n",
    "# Program Costs Interactive Visualization\n",
    "fig_costs = make_subplots(\n",
    "    rows=1, cols=2,\n",
    "    subplot_titles=('Monthly Program Costs', 'Cost Efficiency by Program')\n",
    ")\n",
    "\n",
    "# Monthly costs stacked area\n",
    "if len(monthly_costs) > 0:\n",
    "    for program in monthly_costs.columns:\n",
    "        fig_costs.add_trace(\n",
    "            go.Scatter(x=monthly_costs.index.astype(str), y=monthly_costs[program],\n",
    "                      mode='lines', name=program, stackgroup='one'),\n",
    "            row=1, col=1\n",
    "        )\n",
    "\n",
    "# Cost efficiency\n",
    "fig_costs.add_trace(\n",
    "    go.Bar(x=program_efficiency['program'], y=program_efficiency['cost_per_unit'],\n",
    "          name='Cost per Unit', marker_color='steelblue'),\n",
    "    row=1, col=2\n",
    ")\n",
    "\n",
    "fig_costs.update_layout(height=600, title_text=\"Program Cost Analysis Dashboard\")\n",
    "fig_costs.show()\n",
    "\n",
    "# Summary Statistics\n",
    "print(\"\\n📈 LONGITUDINAL DATA SUMMARY:\")\n",
    "print(f\"📊 Adults HTN Dataset:\")\n",
    "print(f\"   Total records: {len(adults_longitudinal):,}\")\n",
    "print(f\"   Unique patients: {adults_longitudinal['person_id'].nunique()}\")\n",
    "print(f\"   Time span: {adults_longitudinal['month'].min()}-{adults_longitudinal['month'].max()} months\")\n",
    "print(f\"   Patients on treatment: {adults_longitudinal[adults_longitudinal['on_treatment']==1]['person_id'].nunique()}\")\n",
    "\n",
    "print(f\"\\n👶 Children Stunting Dataset:\")\n",
    "print(f\"   Total records: {len(children_longitudinal):,}\")\n",
    "print(f\"   Unique children: {children_longitudinal['child_id'].nunique()}\")\n",
    "print(f\"   Age range: {children_longitudinal['usia_bulan'].min()}-{children_longitudinal['usia_bulan'].max()} months\")\n",
    "print(f\"   Children in program: {children_longitudinal[children_longitudinal['on_program']==1]['child_id'].nunique()}\")\n",
    "\n",
    "print(f\"\\n💰 Program Log Dataset:\")\n",
    "print(f\"   Total delivery records: {len(program_log_corrected):,}\")\n",
    "print(f\"   Total program cost: Rp {program_log_corrected['biaya_riil'].sum():,.0f}\")\n",
    "print(f\"   Average monthly cost: Rp {program_log_corrected.groupby('tanggal')['biaya_riil'].sum().mean():,.0f}\")\n",
    "\n",
    "print(f\"\\n✅ All visualizations completed successfully!\")"
   ]
  }
 ],
 "metadata": {
  "kernelspec": {
   "display_name": "venv",
   "language": "python",
   "name": "python3"
  },
  "language_info": {
   "codemirror_mode": {
    "name": "ipython",
    "version": 3
   },
   "file_extension": ".py",
   "mimetype": "text/x-python",
   "name": "python",
   "nbconvert_exporter": "python",
   "pygments_lexer": "ipython3",
   "version": "3.13.6"
  }
 },
 "nbformat": 4,
 "nbformat_minor": 5
}
