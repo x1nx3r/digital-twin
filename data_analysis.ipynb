{
 "cells": [
  {
   "cell_type": "markdown",
   "metadata": {},
   "source": [
    "# Village Health Digital Twin - Exploratory Data Analysis\n",
    "\n",
    "This notebook explores the village health dataset containing:\n",
    "- Household demographics and socioeconomic data\n",
    "- Adult hypertension cases and interventions\n",
    "- Child stunting and nutrition programs\n",
    "- Program costs and effectiveness"
   ]
  },
  {
   "cell_type": "code",
   "execution_count": 1,
   "metadata": {},
   "outputs": [],
   "source": [
    "# Import required libraries\n",
    "import pandas as pd\n",
    "import numpy as np\n",
    "import matplotlib.pyplot as plt\n",
    "import seaborn as sns\n",
    "import plotly.graph_objects as go\n",
    "import plotly.express as px\n",
    "from plotly.subplots import make_subplots\n",
    "import warnings\n",
    "warnings.filterwarnings('ignore')\n",
    "\n",
    "# Set plotting style\n",
    "plt.style.use('seaborn-v0_8')\n",
    "sns.set_palette(\"husl\")\n",
    "\n",
    "# Display options\n",
    "pd.set_option('display.max_columns', None)\n",
    "pd.set_option('display.width', 1000)"
   ]
  },
  {
   "cell_type": "markdown",
   "metadata": {},
   "source": [
    "## 1. Data Loading and Initial Exploration"
   ]
  },
  {
   "cell_type": "code",
   "execution_count": 2,
   "metadata": {},
   "outputs": [
    {
     "name": "stdout",
     "output_type": "stream",
     "text": [
      "Dataset Shapes:\n",
      "Households: (10, 6)\n",
      "Adults HTN: (10, 22)\n",
      "Children Stunting: (10, 24)\n",
      "Program Log: (6, 6)\n",
      "Parameters: (6, 3)\n",
      "Costs Catalog: (8, 3)\n"
     ]
    }
   ],
   "source": [
    "# Load all datasets\n",
    "households = pd.read_csv('HOUSEHOLDS.csv')\n",
    "adults_htn = pd.read_csv('ADULTS_HTN.csv')\n",
    "children_stunting = pd.read_csv('CHILDREN_STUNTING.csv')\n",
    "program_log = pd.read_csv('PROGRAM_LOG.csv')\n",
    "parameters = pd.read_csv('PARAMETERS.csv')\n",
    "costs_catalog = pd.read_csv('COSTS_CATALOG.csv')\n",
    "data_dictionary = pd.read_csv('DATA_DICTIONARY.csv')\n",
    "\n",
    "print(\"Dataset Shapes:\")\n",
    "print(f\"Households: {households.shape}\")\n",
    "print(f\"Adults HTN: {adults_htn.shape}\")\n",
    "print(f\"Children Stunting: {children_stunting.shape}\")\n",
    "print(f\"Program Log: {program_log.shape}\")\n",
    "print(f\"Parameters: {parameters.shape}\")\n",
    "print(f\"Costs Catalog: {costs_catalog.shape}\")"
   ]
  },
  {
   "cell_type": "code",
   "execution_count": 3,
   "metadata": {},
   "outputs": [
    {
     "name": "stdout",
     "output_type": "stream",
     "text": [
      "\n",
      "=== HOUSEHOLDS DATASET ===\n",
      "Shape: (10, 6)\n",
      "\n",
      "Columns: ['household_id', 'dusun', 'pendapatan_bulanan', 'air_bersih', 'jamban_sehat', 'jarak_ke_puskesmas_km']\n",
      "\n",
      "Data Types:\n",
      "household_id              object\n",
      "dusun                     object\n",
      "pendapatan_bulanan         int64\n",
      "air_bersih                 int64\n",
      "jamban_sehat               int64\n",
      "jarak_ke_puskesmas_km    float64\n",
      "dtype: object\n",
      "\n",
      "Missing Values:\n",
      "household_id             0\n",
      "dusun                    0\n",
      "pendapatan_bulanan       0\n",
      "air_bersih               0\n",
      "jamban_sehat             0\n",
      "jarak_ke_puskesmas_km    0\n",
      "dtype: int64\n",
      "\n",
      "First 3 rows:\n"
     ]
    },
    {
     "data": {
      "text/html": [
       "<div>\n",
       "<style scoped>\n",
       "    .dataframe tbody tr th:only-of-type {\n",
       "        vertical-align: middle;\n",
       "    }\n",
       "\n",
       "    .dataframe tbody tr th {\n",
       "        vertical-align: top;\n",
       "    }\n",
       "\n",
       "    .dataframe thead th {\n",
       "        text-align: right;\n",
       "    }\n",
       "</style>\n",
       "<table border=\"1\" class=\"dataframe\">\n",
       "  <thead>\n",
       "    <tr style=\"text-align: right;\">\n",
       "      <th></th>\n",
       "      <th>household_id</th>\n",
       "      <th>dusun</th>\n",
       "      <th>pendapatan_bulanan</th>\n",
       "      <th>air_bersih</th>\n",
       "      <th>jamban_sehat</th>\n",
       "      <th>jarak_ke_puskesmas_km</th>\n",
       "    </tr>\n",
       "  </thead>\n",
       "  <tbody>\n",
       "    <tr>\n",
       "      <th>0</th>\n",
       "      <td>HH001</td>\n",
       "      <td>Dusun A</td>\n",
       "      <td>1200000</td>\n",
       "      <td>0</td>\n",
       "      <td>0</td>\n",
       "      <td>6.5</td>\n",
       "    </tr>\n",
       "    <tr>\n",
       "      <th>1</th>\n",
       "      <td>HH002</td>\n",
       "      <td>Dusun A</td>\n",
       "      <td>900000</td>\n",
       "      <td>1</td>\n",
       "      <td>0</td>\n",
       "      <td>4.2</td>\n",
       "    </tr>\n",
       "    <tr>\n",
       "      <th>2</th>\n",
       "      <td>HH003</td>\n",
       "      <td>Dusun A</td>\n",
       "      <td>1500000</td>\n",
       "      <td>1</td>\n",
       "      <td>1</td>\n",
       "      <td>2.1</td>\n",
       "    </tr>\n",
       "  </tbody>\n",
       "</table>\n",
       "</div>"
      ],
      "text/plain": [
       "  household_id    dusun  pendapatan_bulanan  air_bersih  jamban_sehat  jarak_ke_puskesmas_km\n",
       "0        HH001  Dusun A             1200000           0             0                    6.5\n",
       "1        HH002  Dusun A              900000           1             0                    4.2\n",
       "2        HH003  Dusun A             1500000           1             1                    2.1"
      ]
     },
     "metadata": {},
     "output_type": "display_data"
    }
   ],
   "source": [
    "# Dataset overview\n",
    "def explore_dataset(df, name):\n",
    "    print(f\"\\n=== {name.upper()} DATASET ===\")\n",
    "    print(f\"Shape: {df.shape}\")\n",
    "    print(f\"\\nColumns: {list(df.columns)}\")\n",
    "    print(f\"\\nData Types:\")\n",
    "    print(df.dtypes)\n",
    "    print(f\"\\nMissing Values:\")\n",
    "    print(df.isnull().sum())\n",
    "    print(f\"\\nFirst 3 rows:\")\n",
    "    display(df.head(3))\n",
    "\n",
    "explore_dataset(households, \"Households\")"
   ]
  },
  {
   "cell_type": "code",
   "execution_count": 4,
   "metadata": {},
   "outputs": [
    {
     "name": "stdout",
     "output_type": "stream",
     "text": [
      "\n",
      "=== ADULTS HYPERTENSION DATASET ===\n",
      "Shape: (10, 22)\n",
      "\n",
      "Columns: ['person_id', 'household_id', 'sex', 'usia', 'sistol', 'diastol', 'diagnosis_htn', 'diabetes_koin', 'perokok', 'BMI', 'eligible_screening_htn', 'offered_htn_program', 'uptake_htn_program', 'adherence_htn', 'intensitas_kontrol_bln', 'jenis_obat', 'biaya_obat_bln', 'biaya_screening', 'biaya_kontrol_tahunan', 'biaya_transport_tahunan', 'penurunan_sbp_mmHg_12m', 'kejadian_stroke_MI']\n",
      "\n",
      "Data Types:\n",
      "person_id                   object\n",
      "household_id                object\n",
      "sex                         object\n",
      "usia                         int64\n",
      "sistol                       int64\n",
      "diastol                      int64\n",
      "diagnosis_htn                int64\n",
      "diabetes_koin                int64\n",
      "perokok                      int64\n",
      "BMI                        float64\n",
      "eligible_screening_htn       int64\n",
      "offered_htn_program          int64\n",
      "uptake_htn_program           int64\n",
      "adherence_htn              float64\n",
      "intensitas_kontrol_bln       int64\n",
      "jenis_obat                  object\n",
      "biaya_obat_bln               int64\n",
      "biaya_screening              int64\n",
      "biaya_kontrol_tahunan        int64\n",
      "biaya_transport_tahunan      int64\n",
      "penurunan_sbp_mmHg_12m       int64\n",
      "kejadian_stroke_MI           int64\n",
      "dtype: object\n",
      "\n",
      "Missing Values:\n",
      "person_id                  0\n",
      "household_id               0\n",
      "sex                        0\n",
      "usia                       0\n",
      "sistol                     0\n",
      "diastol                    0\n",
      "diagnosis_htn              0\n",
      "diabetes_koin              0\n",
      "perokok                    0\n",
      "BMI                        0\n",
      "eligible_screening_htn     0\n",
      "offered_htn_program        0\n",
      "uptake_htn_program         0\n",
      "adherence_htn              0\n",
      "intensitas_kontrol_bln     0\n",
      "jenis_obat                 0\n",
      "biaya_obat_bln             0\n",
      "biaya_screening            0\n",
      "biaya_kontrol_tahunan      0\n",
      "biaya_transport_tahunan    0\n",
      "penurunan_sbp_mmHg_12m     0\n",
      "kejadian_stroke_MI         0\n",
      "dtype: int64\n",
      "\n",
      "First 3 rows:\n"
     ]
    },
    {
     "data": {
      "text/html": [
       "<div>\n",
       "<style scoped>\n",
       "    .dataframe tbody tr th:only-of-type {\n",
       "        vertical-align: middle;\n",
       "    }\n",
       "\n",
       "    .dataframe tbody tr th {\n",
       "        vertical-align: top;\n",
       "    }\n",
       "\n",
       "    .dataframe thead th {\n",
       "        text-align: right;\n",
       "    }\n",
       "</style>\n",
       "<table border=\"1\" class=\"dataframe\">\n",
       "  <thead>\n",
       "    <tr style=\"text-align: right;\">\n",
       "      <th></th>\n",
       "      <th>person_id</th>\n",
       "      <th>household_id</th>\n",
       "      <th>sex</th>\n",
       "      <th>usia</th>\n",
       "      <th>sistol</th>\n",
       "      <th>diastol</th>\n",
       "      <th>diagnosis_htn</th>\n",
       "      <th>diabetes_koin</th>\n",
       "      <th>perokok</th>\n",
       "      <th>BMI</th>\n",
       "      <th>eligible_screening_htn</th>\n",
       "      <th>offered_htn_program</th>\n",
       "      <th>uptake_htn_program</th>\n",
       "      <th>adherence_htn</th>\n",
       "      <th>intensitas_kontrol_bln</th>\n",
       "      <th>jenis_obat</th>\n",
       "      <th>biaya_obat_bln</th>\n",
       "      <th>biaya_screening</th>\n",
       "      <th>biaya_kontrol_tahunan</th>\n",
       "      <th>biaya_transport_tahunan</th>\n",
       "      <th>penurunan_sbp_mmHg_12m</th>\n",
       "      <th>kejadian_stroke_MI</th>\n",
       "    </tr>\n",
       "  </thead>\n",
       "  <tbody>\n",
       "    <tr>\n",
       "      <th>0</th>\n",
       "      <td>P001</td>\n",
       "      <td>HH001</td>\n",
       "      <td>M</td>\n",
       "      <td>58</td>\n",
       "      <td>155</td>\n",
       "      <td>96</td>\n",
       "      <td>1</td>\n",
       "      <td>0</td>\n",
       "      <td>1</td>\n",
       "      <td>27.5</td>\n",
       "      <td>1</td>\n",
       "      <td>1</td>\n",
       "      <td>1</td>\n",
       "      <td>0.75</td>\n",
       "      <td>1</td>\n",
       "      <td>ACEi</td>\n",
       "      <td>45000</td>\n",
       "      <td>30000</td>\n",
       "      <td>300000</td>\n",
       "      <td>150000</td>\n",
       "      <td>12</td>\n",
       "      <td>0</td>\n",
       "    </tr>\n",
       "    <tr>\n",
       "      <th>1</th>\n",
       "      <td>P002</td>\n",
       "      <td>HH002</td>\n",
       "      <td>F</td>\n",
       "      <td>61</td>\n",
       "      <td>162</td>\n",
       "      <td>98</td>\n",
       "      <td>1</td>\n",
       "      <td>0</td>\n",
       "      <td>0</td>\n",
       "      <td>30.2</td>\n",
       "      <td>1</td>\n",
       "      <td>1</td>\n",
       "      <td>1</td>\n",
       "      <td>0.85</td>\n",
       "      <td>1</td>\n",
       "      <td>CCB</td>\n",
       "      <td>55000</td>\n",
       "      <td>30000</td>\n",
       "      <td>360000</td>\n",
       "      <td>120000</td>\n",
       "      <td>15</td>\n",
       "      <td>0</td>\n",
       "    </tr>\n",
       "    <tr>\n",
       "      <th>2</th>\n",
       "      <td>P003</td>\n",
       "      <td>HH003</td>\n",
       "      <td>M</td>\n",
       "      <td>49</td>\n",
       "      <td>138</td>\n",
       "      <td>88</td>\n",
       "      <td>0</td>\n",
       "      <td>0</td>\n",
       "      <td>1</td>\n",
       "      <td>26.1</td>\n",
       "      <td>1</td>\n",
       "      <td>1</td>\n",
       "      <td>0</td>\n",
       "      <td>0.00</td>\n",
       "      <td>0</td>\n",
       "      <td>-</td>\n",
       "      <td>0</td>\n",
       "      <td>30000</td>\n",
       "      <td>0</td>\n",
       "      <td>0</td>\n",
       "      <td>0</td>\n",
       "      <td>0</td>\n",
       "    </tr>\n",
       "  </tbody>\n",
       "</table>\n",
       "</div>"
      ],
      "text/plain": [
       "  person_id household_id sex  usia  sistol  diastol  diagnosis_htn  diabetes_koin  perokok   BMI  eligible_screening_htn  offered_htn_program  uptake_htn_program  adherence_htn  intensitas_kontrol_bln jenis_obat  biaya_obat_bln  biaya_screening  biaya_kontrol_tahunan  biaya_transport_tahunan  penurunan_sbp_mmHg_12m  kejadian_stroke_MI\n",
       "0      P001        HH001   M    58     155       96              1              0        1  27.5                       1                    1                   1           0.75                       1       ACEi           45000            30000                 300000                   150000                      12                   0\n",
       "1      P002        HH002   F    61     162       98              1              0        0  30.2                       1                    1                   1           0.85                       1        CCB           55000            30000                 360000                   120000                      15                   0\n",
       "2      P003        HH003   M    49     138       88              0              0        1  26.1                       1                    1                   0           0.00                       0          -               0            30000                      0                        0                       0                   0"
      ]
     },
     "metadata": {},
     "output_type": "display_data"
    }
   ],
   "source": [
    "explore_dataset(adults_htn, \"Adults Hypertension\")"
   ]
  },
  {
   "cell_type": "code",
   "execution_count": 5,
   "metadata": {},
   "outputs": [
    {
     "name": "stdout",
     "output_type": "stream",
     "text": [
      "\n",
      "=== CHILDREN STUNTING DATASET ===\n",
      "Shape: (10, 24)\n",
      "\n",
      "Columns: ['child_id', 'household_id', 'sex', 'usia_bulan', 'BB', 'TB', 'HAZ', 'WAZ', 'WHZ', 'ASI_eksklusif', 'mp_asi_memadai', 'anemia_hb_gdl', 'air_bersih', 'jamban_sehat', 'diare_3bln_terakhir', 'eligible_PMT_micronutrient', 'offered_stunting_program', 'uptake_stunting_program', 'intensitas_PMT_bln', 'kunjungan_posyandu_bln', 'delta_HAZ_12m', 'biaya_PMT_bln', 'biaya_mikronutrien_bln', 'biaya_WASH_bln']\n",
      "\n",
      "Data Types:\n",
      "child_id                       object\n",
      "household_id                   object\n",
      "sex                            object\n",
      "usia_bulan                      int64\n",
      "BB                            float64\n",
      "TB                            float64\n",
      "HAZ                           float64\n",
      "WAZ                           float64\n",
      "WHZ                           float64\n",
      "ASI_eksklusif                   int64\n",
      "mp_asi_memadai                  int64\n",
      "anemia_hb_gdl                 float64\n",
      "air_bersih                      int64\n",
      "jamban_sehat                    int64\n",
      "diare_3bln_terakhir             int64\n",
      "eligible_PMT_micronutrient      int64\n",
      "offered_stunting_program        int64\n",
      "uptake_stunting_program         int64\n",
      "intensitas_PMT_bln              int64\n",
      "kunjungan_posyandu_bln          int64\n",
      "delta_HAZ_12m                 float64\n",
      "biaya_PMT_bln                   int64\n",
      "biaya_mikronutrien_bln          int64\n",
      "biaya_WASH_bln                  int64\n",
      "dtype: object\n",
      "\n",
      "Missing Values:\n",
      "child_id                      0\n",
      "household_id                  0\n",
      "sex                           0\n",
      "usia_bulan                    0\n",
      "BB                            0\n",
      "TB                            0\n",
      "HAZ                           0\n",
      "WAZ                           0\n",
      "WHZ                           0\n",
      "ASI_eksklusif                 0\n",
      "mp_asi_memadai                0\n",
      "anemia_hb_gdl                 0\n",
      "air_bersih                    0\n",
      "jamban_sehat                  0\n",
      "diare_3bln_terakhir           0\n",
      "eligible_PMT_micronutrient    0\n",
      "offered_stunting_program      0\n",
      "uptake_stunting_program       0\n",
      "intensitas_PMT_bln            0\n",
      "kunjungan_posyandu_bln        0\n",
      "delta_HAZ_12m                 0\n",
      "biaya_PMT_bln                 0\n",
      "biaya_mikronutrien_bln        0\n",
      "biaya_WASH_bln                0\n",
      "dtype: int64\n",
      "\n",
      "First 3 rows:\n"
     ]
    },
    {
     "data": {
      "text/html": [
       "<div>\n",
       "<style scoped>\n",
       "    .dataframe tbody tr th:only-of-type {\n",
       "        vertical-align: middle;\n",
       "    }\n",
       "\n",
       "    .dataframe tbody tr th {\n",
       "        vertical-align: top;\n",
       "    }\n",
       "\n",
       "    .dataframe thead th {\n",
       "        text-align: right;\n",
       "    }\n",
       "</style>\n",
       "<table border=\"1\" class=\"dataframe\">\n",
       "  <thead>\n",
       "    <tr style=\"text-align: right;\">\n",
       "      <th></th>\n",
       "      <th>child_id</th>\n",
       "      <th>household_id</th>\n",
       "      <th>sex</th>\n",
       "      <th>usia_bulan</th>\n",
       "      <th>BB</th>\n",
       "      <th>TB</th>\n",
       "      <th>HAZ</th>\n",
       "      <th>WAZ</th>\n",
       "      <th>WHZ</th>\n",
       "      <th>ASI_eksklusif</th>\n",
       "      <th>mp_asi_memadai</th>\n",
       "      <th>anemia_hb_gdl</th>\n",
       "      <th>air_bersih</th>\n",
       "      <th>jamban_sehat</th>\n",
       "      <th>diare_3bln_terakhir</th>\n",
       "      <th>eligible_PMT_micronutrient</th>\n",
       "      <th>offered_stunting_program</th>\n",
       "      <th>uptake_stunting_program</th>\n",
       "      <th>intensitas_PMT_bln</th>\n",
       "      <th>kunjungan_posyandu_bln</th>\n",
       "      <th>delta_HAZ_12m</th>\n",
       "      <th>biaya_PMT_bln</th>\n",
       "      <th>biaya_mikronutrien_bln</th>\n",
       "      <th>biaya_WASH_bln</th>\n",
       "    </tr>\n",
       "  </thead>\n",
       "  <tbody>\n",
       "    <tr>\n",
       "      <th>0</th>\n",
       "      <td>C001</td>\n",
       "      <td>HH001</td>\n",
       "      <td>F</td>\n",
       "      <td>16</td>\n",
       "      <td>8.2</td>\n",
       "      <td>73.0</td>\n",
       "      <td>-2.3</td>\n",
       "      <td>-1.5</td>\n",
       "      <td>-1.1</td>\n",
       "      <td>1</td>\n",
       "      <td>0</td>\n",
       "      <td>10.2</td>\n",
       "      <td>0</td>\n",
       "      <td>0</td>\n",
       "      <td>1</td>\n",
       "      <td>1</td>\n",
       "      <td>1</td>\n",
       "      <td>1</td>\n",
       "      <td>2</td>\n",
       "      <td>1</td>\n",
       "      <td>0.4</td>\n",
       "      <td>45000</td>\n",
       "      <td>20000</td>\n",
       "      <td>15000</td>\n",
       "    </tr>\n",
       "    <tr>\n",
       "      <th>1</th>\n",
       "      <td>C002</td>\n",
       "      <td>HH002</td>\n",
       "      <td>M</td>\n",
       "      <td>22</td>\n",
       "      <td>9.0</td>\n",
       "      <td>77.5</td>\n",
       "      <td>-1.9</td>\n",
       "      <td>-1.2</td>\n",
       "      <td>-0.8</td>\n",
       "      <td>1</td>\n",
       "      <td>1</td>\n",
       "      <td>10.8</td>\n",
       "      <td>1</td>\n",
       "      <td>0</td>\n",
       "      <td>0</td>\n",
       "      <td>1</td>\n",
       "      <td>1</td>\n",
       "      <td>1</td>\n",
       "      <td>2</td>\n",
       "      <td>1</td>\n",
       "      <td>0.3</td>\n",
       "      <td>45000</td>\n",
       "      <td>20000</td>\n",
       "      <td>0</td>\n",
       "    </tr>\n",
       "    <tr>\n",
       "      <th>2</th>\n",
       "      <td>C003</td>\n",
       "      <td>HH003</td>\n",
       "      <td>F</td>\n",
       "      <td>10</td>\n",
       "      <td>6.1</td>\n",
       "      <td>67.2</td>\n",
       "      <td>-2.8</td>\n",
       "      <td>-1.9</td>\n",
       "      <td>-1.4</td>\n",
       "      <td>0</td>\n",
       "      <td>0</td>\n",
       "      <td>9.7</td>\n",
       "      <td>1</td>\n",
       "      <td>1</td>\n",
       "      <td>1</td>\n",
       "      <td>1</td>\n",
       "      <td>1</td>\n",
       "      <td>0</td>\n",
       "      <td>0</td>\n",
       "      <td>1</td>\n",
       "      <td>0.1</td>\n",
       "      <td>45000</td>\n",
       "      <td>20000</td>\n",
       "      <td>15000</td>\n",
       "    </tr>\n",
       "  </tbody>\n",
       "</table>\n",
       "</div>"
      ],
      "text/plain": [
       "  child_id household_id sex  usia_bulan   BB    TB  HAZ  WAZ  WHZ  ASI_eksklusif  mp_asi_memadai  anemia_hb_gdl  air_bersih  jamban_sehat  diare_3bln_terakhir  eligible_PMT_micronutrient  offered_stunting_program  uptake_stunting_program  intensitas_PMT_bln  kunjungan_posyandu_bln  delta_HAZ_12m  biaya_PMT_bln  biaya_mikronutrien_bln  biaya_WASH_bln\n",
       "0     C001        HH001   F          16  8.2  73.0 -2.3 -1.5 -1.1              1               0           10.2           0             0                    1                           1                         1                        1                   2                       1            0.4          45000                   20000           15000\n",
       "1     C002        HH002   M          22  9.0  77.5 -1.9 -1.2 -0.8              1               1           10.8           1             0                    0                           1                         1                        1                   2                       1            0.3          45000                   20000               0\n",
       "2     C003        HH003   F          10  6.1  67.2 -2.8 -1.9 -1.4              0               0            9.7           1             1                    1                           1                         1                        0                   0                       1            0.1          45000                   20000           15000"
      ]
     },
     "metadata": {},
     "output_type": "display_data"
    }
   ],
   "source": [
    "explore_dataset(children_stunting, \"Children Stunting\")"
   ]
  },
  {
   "cell_type": "markdown",
   "metadata": {},
   "source": [
    "## 2. Health Indicators and Thresholds Definition"
   ]
  },
  {
   "cell_type": "code",
   "execution_count": 6,
   "metadata": {},
   "outputs": [
    {
     "data": {
      "text/html": [
       "<div>\n",
       "<style scoped>\n",
       "    .dataframe tbody tr th:only-of-type {\n",
       "        vertical-align: middle;\n",
       "    }\n",
       "\n",
       "    .dataframe tbody tr th {\n",
       "        vertical-align: top;\n",
       "    }\n",
       "\n",
       "    .dataframe thead th {\n",
       "        text-align: right;\n",
       "    }\n",
       "</style>\n",
       "<table border=\"1\" class=\"dataframe\">\n",
       "  <thead>\n",
       "    <tr style=\"text-align: right;\">\n",
       "      <th></th>\n",
       "      <th>dusun</th>\n",
       "      <th>total_households</th>\n",
       "      <th>total_adults</th>\n",
       "      <th>total_children</th>\n",
       "      <th>avg_income</th>\n",
       "      <th>low_income_pct</th>\n",
       "      <th>clean_water_pct</th>\n",
       "      <th>sanitation_pct</th>\n",
       "      <th>avg_distance_puskesmas</th>\n",
       "      <th>htn_prevalence</th>\n",
       "      <th>htn_controlled</th>\n",
       "      <th>avg_systolic</th>\n",
       "      <th>stunting_prevalence</th>\n",
       "      <th>severe_stunting_prevalence</th>\n",
       "      <th>avg_HAZ</th>\n",
       "      <th>anemia_prevalence</th>\n",
       "      <th>exclusive_breastfeeding_pct</th>\n",
       "    </tr>\n",
       "  </thead>\n",
       "  <tbody>\n",
       "    <tr>\n",
       "      <th>0</th>\n",
       "      <td>Dusun A</td>\n",
       "      <td>3</td>\n",
       "      <td>3</td>\n",
       "      <td>3</td>\n",
       "      <td>1200000.0</td>\n",
       "      <td>33.333333</td>\n",
       "      <td>66.666667</td>\n",
       "      <td>33.333333</td>\n",
       "      <td>4.266667</td>\n",
       "      <td>66.666667</td>\n",
       "      <td>80.000000</td>\n",
       "      <td>151.666667</td>\n",
       "      <td>66.666667</td>\n",
       "      <td>0.0</td>\n",
       "      <td>-2.333333</td>\n",
       "      <td>100.000000</td>\n",
       "      <td>66.666667</td>\n",
       "    </tr>\n",
       "    <tr>\n",
       "      <th>1</th>\n",
       "      <td>Dusun B</td>\n",
       "      <td>3</td>\n",
       "      <td>3</td>\n",
       "      <td>3</td>\n",
       "      <td>1300000.0</td>\n",
       "      <td>33.333333</td>\n",
       "      <td>66.666667</td>\n",
       "      <td>33.333333</td>\n",
       "      <td>4.366667</td>\n",
       "      <td>100.000000</td>\n",
       "      <td>61.666667</td>\n",
       "      <td>164.666667</td>\n",
       "      <td>66.666667</td>\n",
       "      <td>0.0</td>\n",
       "      <td>-2.100000</td>\n",
       "      <td>66.666667</td>\n",
       "      <td>66.666667</td>\n",
       "    </tr>\n",
       "    <tr>\n",
       "      <th>2</th>\n",
       "      <td>Dusun C</td>\n",
       "      <td>4</td>\n",
       "      <td>4</td>\n",
       "      <td>4</td>\n",
       "      <td>1175000.0</td>\n",
       "      <td>50.000000</td>\n",
       "      <td>50.000000</td>\n",
       "      <td>25.000000</td>\n",
       "      <td>6.500000</td>\n",
       "      <td>75.000000</td>\n",
       "      <td>48.333333</td>\n",
       "      <td>156.250000</td>\n",
       "      <td>75.000000</td>\n",
       "      <td>0.0</td>\n",
       "      <td>-2.275000</td>\n",
       "      <td>75.000000</td>\n",
       "      <td>75.000000</td>\n",
       "    </tr>\n",
       "  </tbody>\n",
       "</table>\n",
       "</div>"
      ],
      "text/plain": [
       "     dusun  total_households  total_adults  total_children  avg_income  low_income_pct  clean_water_pct  sanitation_pct  avg_distance_puskesmas  htn_prevalence  htn_controlled  avg_systolic  stunting_prevalence  severe_stunting_prevalence   avg_HAZ  anemia_prevalence  exclusive_breastfeeding_pct\n",
       "0  Dusun A                 3             3               3   1200000.0       33.333333        66.666667       33.333333                4.266667       66.666667       80.000000    151.666667            66.666667                         0.0 -2.333333         100.000000                    66.666667\n",
       "1  Dusun B                 3             3               3   1300000.0       33.333333        66.666667       33.333333                4.366667      100.000000       61.666667    164.666667            66.666667                         0.0 -2.100000          66.666667                    66.666667\n",
       "2  Dusun C                 4             4               4   1175000.0       50.000000        50.000000       25.000000                6.500000       75.000000       48.333333    156.250000            75.000000                         0.0 -2.275000          75.000000                    75.000000"
      ]
     },
     "metadata": {},
     "output_type": "display_data"
    }
   ],
   "source": [
    "# Define health thresholds based on WHO/national standards\n",
    "HEALTH_THRESHOLDS = {\n",
    "    'stunting_critical': -2.0,  # HAZ < -2 indicates stunting\n",
    "    'stunting_severe': -3.0,   # HAZ < -3 indicates severe stunting\n",
    "    'htn_systolic': 140,       # SBP ≥ 140 mmHg\n",
    "    'htn_diastolic': 90,       # DBP ≥ 90 mmHg\n",
    "    'anemia_threshold': 11.0,  # Hb < 11 g/dL for children\n",
    "    'low_income': 1000000,     # Monthly income < 1M IDR\n",
    "    'distance_far': 5.0        # Distance > 5km to health facility\n",
    "}\n",
    "\n",
    "# Create village-level aggregated metrics\n",
    "def create_village_metrics():\n",
    "    # Aggregate by dusun (village)\n",
    "    village_metrics = []\n",
    "    \n",
    "    for dusun in households['dusun'].unique():\n",
    "        # Household data for this village\n",
    "        hh_village = households[households['dusun'] == dusun]\n",
    "        adults_village = adults_htn[adults_htn['household_id'].isin(hh_village['household_id'])]\n",
    "        children_village = children_stunting[children_stunting['household_id'].isin(hh_village['household_id'])]\n",
    "        \n",
    "        metrics = {\n",
    "            'dusun': dusun,\n",
    "            'total_households': len(hh_village),\n",
    "            'total_adults': len(adults_village),\n",
    "            'total_children': len(children_village),\n",
    "            \n",
    "            # Socioeconomic indicators\n",
    "            'avg_income': hh_village['pendapatan_bulanan'].mean(),\n",
    "            'low_income_pct': (hh_village['pendapatan_bulanan'] < HEALTH_THRESHOLDS['low_income']).mean() * 100,\n",
    "            'clean_water_pct': hh_village['air_bersih'].mean() * 100,\n",
    "            'sanitation_pct': hh_village['jamban_sehat'].mean() * 100,\n",
    "            'avg_distance_puskesmas': hh_village['jarak_ke_puskesmas_km'].mean(),\n",
    "            \n",
    "            # Hypertension indicators\n",
    "            'htn_prevalence': adults_village['diagnosis_htn'].mean() * 100 if len(adults_village) > 0 else 0,\n",
    "            'htn_controlled': adults_village[adults_village['diagnosis_htn'] == 1]['adherence_htn'].mean() * 100 if len(adults_village[adults_village['diagnosis_htn'] == 1]) > 0 else 0,\n",
    "            'avg_systolic': adults_village['sistol'].mean() if len(adults_village) > 0 else 0,\n",
    "            \n",
    "            # Stunting indicators\n",
    "            'stunting_prevalence': (children_village['HAZ'] < HEALTH_THRESHOLDS['stunting_critical']).mean() * 100 if len(children_village) > 0 else 0,\n",
    "            'severe_stunting_prevalence': (children_village['HAZ'] < HEALTH_THRESHOLDS['stunting_severe']).mean() * 100 if len(children_village) > 0 else 0,\n",
    "            'avg_HAZ': children_village['HAZ'].mean() if len(children_village) > 0 else 0,\n",
    "            'anemia_prevalence': (children_village['anemia_hb_gdl'] < HEALTH_THRESHOLDS['anemia_threshold']).mean() * 100 if len(children_village) > 0 else 0,\n",
    "            'exclusive_breastfeeding_pct': children_village['ASI_eksklusif'].mean() * 100 if len(children_village) > 0 else 0,\n",
    "        }\n",
    "        \n",
    "        village_metrics.append(metrics)\n",
    "    \n",
    "    return pd.DataFrame(village_metrics)\n",
    "\n",
    "village_df = create_village_metrics()\n",
    "display(village_df)"
   ]
  },
  {
   "cell_type": "markdown",
   "metadata": {},
   "source": [
    "## 3. Risk Classification System"
   ]
  },
  {
   "cell_type": "code",
   "execution_count": 7,
   "metadata": {},
   "outputs": [
    {
     "name": "stdout",
     "output_type": "stream",
     "text": [
      "Village Risk Assessment:\n"
     ]
    },
    {
     "data": {
      "text/html": [
       "<div>\n",
       "<style scoped>\n",
       "    .dataframe tbody tr th:only-of-type {\n",
       "        vertical-align: middle;\n",
       "    }\n",
       "\n",
       "    .dataframe tbody tr th {\n",
       "        vertical-align: top;\n",
       "    }\n",
       "\n",
       "    .dataframe thead th {\n",
       "        text-align: right;\n",
       "    }\n",
       "</style>\n",
       "<table border=\"1\" class=\"dataframe\">\n",
       "  <thead>\n",
       "    <tr style=\"text-align: right;\">\n",
       "      <th></th>\n",
       "      <th>dusun</th>\n",
       "      <th>stunting_risk</th>\n",
       "      <th>htn_risk</th>\n",
       "      <th>water_risk</th>\n",
       "      <th>income_risk</th>\n",
       "      <th>distance_risk</th>\n",
       "      <th>overall_risk</th>\n",
       "      <th>health_risk_score</th>\n",
       "    </tr>\n",
       "  </thead>\n",
       "  <tbody>\n",
       "    <tr>\n",
       "      <th>0</th>\n",
       "      <td>Dusun A</td>\n",
       "      <td>Critical</td>\n",
       "      <td>Critical</td>\n",
       "      <td>Warning</td>\n",
       "      <td>Normal</td>\n",
       "      <td>Normal</td>\n",
       "      <td>Warning</td>\n",
       "      <td>2.30</td>\n",
       "    </tr>\n",
       "    <tr>\n",
       "      <th>1</th>\n",
       "      <td>Dusun B</td>\n",
       "      <td>Critical</td>\n",
       "      <td>Critical</td>\n",
       "      <td>Warning</td>\n",
       "      <td>Normal</td>\n",
       "      <td>Normal</td>\n",
       "      <td>Warning</td>\n",
       "      <td>2.30</td>\n",
       "    </tr>\n",
       "    <tr>\n",
       "      <th>2</th>\n",
       "      <td>Dusun C</td>\n",
       "      <td>Critical</td>\n",
       "      <td>Critical</td>\n",
       "      <td>Warning</td>\n",
       "      <td>Warning</td>\n",
       "      <td>Warning</td>\n",
       "      <td>Critical</td>\n",
       "      <td>2.55</td>\n",
       "    </tr>\n",
       "  </tbody>\n",
       "</table>\n",
       "</div>"
      ],
      "text/plain": [
       "     dusun stunting_risk  htn_risk water_risk income_risk distance_risk overall_risk  health_risk_score\n",
       "0  Dusun A      Critical  Critical    Warning      Normal        Normal      Warning               2.30\n",
       "1  Dusun B      Critical  Critical    Warning      Normal        Normal      Warning               2.30\n",
       "2  Dusun C      Critical  Critical    Warning     Warning       Warning     Critical               2.55"
      ]
     },
     "metadata": {},
     "output_type": "display_data"
    }
   ],
   "source": [
    "# Define risk classification function\n",
    "def classify_risk(value, metric_type):\n",
    "    \"\"\"Classify health metrics into Normal, Warning, Critical zones\"\"\"\n",
    "    if metric_type == 'stunting_prevalence':\n",
    "        if value >= 30: return 'Critical'\n",
    "        elif value >= 20: return 'Warning'\n",
    "        else: return 'Normal'\n",
    "    \n",
    "    elif metric_type == 'htn_prevalence':\n",
    "        if value >= 25: return 'Critical'\n",
    "        elif value >= 15: return 'Warning'\n",
    "        else: return 'Normal'\n",
    "    \n",
    "    elif metric_type == 'clean_water_pct':\n",
    "        if value < 50: return 'Critical'\n",
    "        elif value < 80: return 'Warning'\n",
    "        else: return 'Normal'\n",
    "    \n",
    "    elif metric_type == 'low_income_pct':\n",
    "        if value >= 60: return 'Critical'\n",
    "        elif value >= 40: return 'Warning'\n",
    "        else: return 'Normal'\n",
    "    \n",
    "    elif metric_type == 'distance_puskesmas':\n",
    "        if value >= 8: return 'Critical'\n",
    "        elif value >= 5: return 'Warning'\n",
    "        else: return 'Normal'\n",
    "    \n",
    "    return 'Unknown'\n",
    "\n",
    "# Apply risk classification\n",
    "village_df['stunting_risk'] = village_df['stunting_prevalence'].apply(lambda x: classify_risk(x, 'stunting_prevalence'))\n",
    "village_df['htn_risk'] = village_df['htn_prevalence'].apply(lambda x: classify_risk(x, 'htn_prevalence'))\n",
    "village_df['water_risk'] = village_df['clean_water_pct'].apply(lambda x: classify_risk(x, 'clean_water_pct'))\n",
    "village_df['income_risk'] = village_df['low_income_pct'].apply(lambda x: classify_risk(x, 'low_income_pct'))\n",
    "village_df['distance_risk'] = village_df['avg_distance_puskesmas'].apply(lambda x: classify_risk(x, 'distance_puskesmas'))\n",
    "\n",
    "# Overall health risk score (weighted)\n",
    "risk_weights = {'Critical': 3, 'Warning': 2, 'Normal': 1}\n",
    "village_df['health_risk_score'] = (\n",
    "    village_df['stunting_risk'].map(risk_weights) * 0.3 +\n",
    "    village_df['htn_risk'].map(risk_weights) * 0.25 +\n",
    "    village_df['water_risk'].map(risk_weights) * 0.2 +\n",
    "    village_df['income_risk'].map(risk_weights) * 0.15 +\n",
    "    village_df['distance_risk'].map(risk_weights) * 0.1\n",
    ")\n",
    "\n",
    "def overall_risk_category(score):\n",
    "    if score >= 2.5: return 'Critical'\n",
    "    elif score >= 1.8: return 'Warning'\n",
    "    else: return 'Normal'\n",
    "\n",
    "village_df['overall_risk'] = village_df['health_risk_score'].apply(overall_risk_category)\n",
    "\n",
    "print(\"Village Risk Assessment:\")\n",
    "display(village_df[['dusun', 'stunting_risk', 'htn_risk', 'water_risk', 'income_risk', 'distance_risk', 'overall_risk', 'health_risk_score']])"
   ]
  },
  {
   "cell_type": "markdown",
   "metadata": {},
   "source": [
    "## 4. Comprehensive Data Visualization"
   ]
  },
  {
   "cell_type": "code",
   "execution_count": 8,
   "metadata": {},
   "outputs": [
    {
     "data": {
      "image/png": "[encoded data removed]",
      "text/plain": [
       "<Figure size 1800x1200 with 6 Axes>"
      ]
     },
     "metadata": {},
     "output_type": "display_data"
    }
   ],
   "source": [
    "# Set up the plotting environment\n",
    "fig, axes = plt.subplots(2, 3, figsize=(18, 12))\n",
    "fig.suptitle('Village Health Indicators Distribution', fontsize=16, fontweight='bold')\n",
    "\n",
    "# 1. Stunting Prevalence by Village\n",
    "sns.barplot(data=village_df, x='dusun', y='stunting_prevalence', ax=axes[0,0])\n",
    "axes[0,0].set_title('Stunting Prevalence by Village')\n",
    "axes[0,0].set_ylabel('Stunting Prevalence (%)')\n",
    "axes[0,0].axhline(y=20, color='orange', linestyle='--', label='Warning (20%)')\n",
    "axes[0,0].axhline(y=30, color='red', linestyle='--', label='Critical (30%)')\n",
    "axes[0,0].legend()\n",
    "axes[0,0].tick_params(axis='x', rotation=45)\n",
    "\n",
    "# 2. Hypertension Prevalence by Village\n",
    "sns.barplot(data=village_df, x='dusun', y='htn_prevalence', ax=axes[0,1])\n",
    "axes[0,1].set_title('Hypertension Prevalence by Village')\n",
    "axes[0,1].set_ylabel('HTN Prevalence (%)')\n",
    "axes[0,1].axhline(y=15, color='orange', linestyle='--', label='Warning (15%)')\n",
    "axes[0,1].axhline(y=25, color='red', linestyle='--', label='Critical (25%)')\n",
    "axes[0,1].legend()\n",
    "axes[0,1].tick_params(axis='x', rotation=45)\n",
    "\n",
    "# 3. Clean Water Access by Village\n",
    "sns.barplot(data=village_df, x='dusun', y='clean_water_pct', ax=axes[0,2])\n",
    "axes[0,2].set_title('Clean Water Access by Village')\n",
    "axes[0,2].set_ylabel('Clean Water Access (%)')\n",
    "axes[0,2].axhline(y=80, color='orange', linestyle='--', label='Warning (80%)')\n",
    "axes[0,2].axhline(y=50, color='red', linestyle='--', label='Critical (50%)')\n",
    "axes[0,2].legend()\n",
    "axes[0,2].tick_params(axis='x', rotation=45)\n",
    "\n",
    "# 4. Income Distribution\n",
    "households['income_category'] = households['pendapatan_bulanan'].apply(\n",
    "    lambda x: 'Low' if x < 1000000 else 'Medium' if x < 1500000 else 'High'\n",
    ")\n",
    "income_dist = households.groupby(['dusun', 'income_category']).size().unstack(fill_value=0)\n",
    "income_dist.plot(kind='bar', stacked=True, ax=axes[1,0])\n",
    "axes[1,0].set_title('Household Income Distribution')\n",
    "axes[1,0].set_ylabel('Number of Households')\n",
    "axes[1,0].tick_params(axis='x', rotation=45)\n",
    "axes[1,0].legend(title='Income Level')\n",
    "\n",
    "# 5. Distance to Health Facilities\n",
    "sns.boxplot(data=households, x='dusun', y='jarak_ke_puskesmas_km', ax=axes[1,1])\n",
    "axes[1,1].set_title('Distance to Puskesmas by Village')\n",
    "axes[1,1].set_ylabel('Distance (km)')\n",
    "axes[1,1].axhline(y=5, color='orange', linestyle='--', label='Warning (5km)')\n",
    "axes[1,1].axhline(y=8, color='red', linestyle='--', label='Critical (8km)')\n",
    "axes[1,1].legend()\n",
    "axes[1,1].tick_params(axis='x', rotation=45)\n",
    "\n",
    "# 6. Overall Risk Assessment\n",
    "risk_colors = {'Normal': 'green', 'Warning': 'orange', 'Critical': 'red'}\n",
    "colors = [risk_colors[risk] for risk in village_df['overall_risk']]\n",
    "axes[1,2].bar(village_df['dusun'], village_df['health_risk_score'], color=colors)\n",
    "axes[1,2].set_title('Overall Health Risk Score')\n",
    "axes[1,2].set_ylabel('Risk Score')\n",
    "axes[1,2].axhline(y=1.8, color='orange', linestyle='--', label='Warning')\n",
    "axes[1,2].axhline(y=2.5, color='red', linestyle='--', label='Critical')\n",
    "axes[1,2].legend()\n",
    "axes[1,2].tick_params(axis='x', rotation=45)\n",
    "\n",
    "plt.tight_layout()\n",
    "plt.show()"
   ]
  },
  {
   "cell_type": "markdown",
   "metadata": {},
   "source": [
    "## 5. Correlation Analysis"
   ]
  },
  {
   "cell_type": "code",
   "execution_count": 9,
   "metadata": {},
   "outputs": [
    {
     "data": {
      "image/png": "[encoded data removed]",
      "text/plain": [
       "<Figure size 1200x1000 with 2 Axes>"
      ]
     },
     "metadata": {},
     "output_type": "display_data"
    },
    {
     "name": "stdout",
     "output_type": "stream",
     "text": [
      "\n",
      "Strongest Correlations (|r| > 0.5):\n",
      "avg_distance_puskesmas vs stunting_prevalence: 0.999\n",
      "stunting_prevalence vs avg_distance_puskesmas: 0.999\n",
      "avg_distance_puskesmas vs exclusive_breastfeeding_pct: 0.999\n",
      "exclusive_breastfeeding_pct vs avg_distance_puskesmas: 0.999\n",
      "htn_prevalence vs avg_income: 0.908\n",
      "avg_income vs htn_prevalence: 0.908\n",
      "sanitation_pct vs avg_income: 0.655\n",
      "clean_water_pct vs avg_income: 0.655\n",
      "avg_income vs sanitation_pct: 0.655\n",
      "avg_income vs clean_water_pct: 0.655\n",
      "avg_income vs anemia_prevalence: -0.545\n",
      "anemia_prevalence vs avg_income: -0.545\n",
      "avg_distance_puskesmas vs avg_income: -0.624\n",
      "avg_income vs avg_distance_puskesmas: -0.624\n",
      "exclusive_breastfeeding_pct vs avg_income: -0.655\n",
      "avg_income vs exclusive_breastfeeding_pct: -0.655\n",
      "avg_income vs stunting_prevalence: -0.655\n",
      "stunting_prevalence vs avg_income: -0.655\n",
      "htn_prevalence vs anemia_prevalence: -0.846\n",
      "anemia_prevalence vs htn_prevalence: -0.846\n",
      "avg_distance_puskesmas vs clean_water_pct: -0.999\n",
      "avg_distance_puskesmas vs sanitation_pct: -0.999\n",
      "sanitation_pct vs avg_distance_puskesmas: -0.999\n",
      "clean_water_pct vs avg_distance_puskesmas: -0.999\n",
      "clean_water_pct vs exclusive_breastfeeding_pct: -1.000\n",
      "sanitation_pct vs exclusive_breastfeeding_pct: -1.000\n",
      "exclusive_breastfeeding_pct vs sanitation_pct: -1.000\n",
      "exclusive_breastfeeding_pct vs clean_water_pct: -1.000\n",
      "sanitation_pct vs stunting_prevalence: -1.000\n",
      "clean_water_pct vs stunting_prevalence: -1.000\n",
      "stunting_prevalence vs clean_water_pct: -1.000\n",
      "stunting_prevalence vs sanitation_pct: -1.000\n"
     ]
    }
   ],
   "source": [
    "# Correlation heatmap of key health indicators\n",
    "correlation_vars = [\n",
    "    'stunting_prevalence', 'htn_prevalence', 'clean_water_pct', \n",
    "    'sanitation_pct', 'avg_income', 'avg_distance_puskesmas',\n",
    "    'anemia_prevalence', 'exclusive_breastfeeding_pct'\n",
    "]\n",
    "\n",
    "plt.figure(figsize=(12, 10))\n",
    "correlation_matrix = village_df[correlation_vars].corr()\n",
    "mask = np.triu(np.ones_like(correlation_matrix, dtype=bool))\n",
    "sns.heatmap(correlation_matrix, mask=mask, annot=True, cmap='RdYlBu_r', center=0,\n",
    "            square=True, linewidths=0.5, cbar_kws={\"shrink\": .8})\n",
    "plt.title('Health Indicators Correlation Matrix', fontsize=14, fontweight='bold')\n",
    "plt.tight_layout()\n",
    "plt.show()\n",
    "\n",
    "# Print strongest correlations\n",
    "print(\"\\nStrongest Correlations (|r| > 0.5):\")\n",
    "correlations = correlation_matrix.unstack().sort_values(ascending=False)\n",
    "strong_corr = correlations[(correlations.abs() > 0.5) & (correlations != 1.0)]\n",
    "for (var1, var2), corr in strong_corr.items():\n",
    "    print(f\"{var1} vs {var2}: {corr:.3f}\")"
   ]
  },
  {
   "cell_type": "markdown",
   "metadata": {},
   "source": [
    "## 6. Individual-Level Analysis"
   ]
  },
  {
   "cell_type": "code",
   "execution_count": 10,
   "metadata": {},
   "outputs": [
    {
     "data": {
      "image/png": "[encoded data removed]",
      "text/plain": [
       "<Figure size 1500x1200 with 4 Axes>"
      ]
     },
     "metadata": {},
     "output_type": "display_data"
    }
   ],
   "source": [
    "# Individual-level analysis for adults and children\n",
    "fig, axes = plt.subplots(2, 2, figsize=(15, 12))\n",
    "fig.suptitle('Individual-Level Health Analysis', fontsize=16, fontweight='bold')\n",
    "\n",
    "# 1. Blood pressure distribution by gender\n",
    "sns.scatterplot(data=adults_htn, x='sistol', y='diastol', hue='sex', \n",
    "                style='diagnosis_htn', ax=axes[0,0])\n",
    "axes[0,0].axvline(x=140, color='red', linestyle='--', alpha=0.7)\n",
    "axes[0,0].axhline(y=90, color='red', linestyle='--', alpha=0.7)\n",
    "axes[0,0].set_title('Blood Pressure Distribution')\n",
    "axes[0,0].set_xlabel('Systolic BP (mmHg)')\n",
    "axes[0,0].set_ylabel('Diastolic BP (mmHg)')\n",
    "\n",
    "# 2. HAZ distribution by age\n",
    "sns.scatterplot(data=children_stunting, x='usia_bulan', y='HAZ', \n",
    "                hue='sex', ax=axes[0,1])\n",
    "axes[0,1].axhline(y=-2, color='orange', linestyle='--', label='Stunting (-2)')\n",
    "axes[0,1].axhline(y=-3, color='red', linestyle='--', label='Severe Stunting (-3)')\n",
    "axes[0,1].set_title('Height-for-Age Z-score by Age')\n",
    "axes[0,1].set_xlabel('Age (months)')\n",
    "axes[0,1].set_ylabel('HAZ Score')\n",
    "axes[0,1].legend()\n",
    "\n",
    "# 3. Treatment adherence vs BP control\n",
    "htn_treated = adults_htn[adults_htn['diagnosis_htn'] == 1]\n",
    "sns.scatterplot(data=htn_treated, x='adherence_htn', y='penurunan_sbp_mmHg_12m',\n",
    "                hue='jenis_obat', ax=axes[1,0])\n",
    "axes[1,0].set_title('Treatment Adherence vs BP Reduction')\n",
    "axes[1,0].set_xlabel('Adherence (0-1)')\n",
    "axes[1,0].set_ylabel('SBP Reduction (mmHg)')\n",
    "\n",
    "# 4. HAZ improvement by intervention\n",
    "children_intervention = children_stunting[children_stunting['uptake_stunting_program'] == 1]\n",
    "sns.boxplot(data=children_intervention, x='intensitas_PMT_bln', y='delta_HAZ_12m', ax=axes[1,1])\n",
    "axes[1,1].set_title('HAZ Improvement by Intervention Intensity')\n",
    "axes[1,1].set_xlabel('PMT Intensity (months)')\n",
    "axes[1,1].set_ylabel('HAZ Change (12 months)')\n",
    "\n",
    "plt.tight_layout()\n",
    "plt.show()"
   ]
  },
  {
   "cell_type": "markdown",
   "metadata": {},
   "source": [
    "## 7. Program Effectiveness Analysis"
   ]
  },
  {
   "cell_type": "code",
   "execution_count": 11,
   "metadata": {},
   "outputs": [
    {
     "data": {
      "image/png": "[encoded data removed]",
      "text/plain": [
       "<Figure size 1800x600 with 3 Axes>"
      ]
     },
     "metadata": {},
     "output_type": "display_data"
    },
    {
     "name": "stdout",
     "output_type": "stream",
     "text": [
      "\n",
      "Program Effectiveness Summary:\n",
      "HTN Program: 388,989 IDR per mmHg SBP reduction\n",
      "Stunting Program: 2,610,000 IDR per HAZ point improvement\n"
     ]
    }
   ],
   "source": [
    "# Program effectiveness analysis\n",
    "fig, axes = plt.subplots(1, 3, figsize=(18, 6))\n",
    "fig.suptitle('Health Program Effectiveness', fontsize=16, fontweight='bold')\n",
    "\n",
    "# 1. HTN Program Uptake vs Outcomes\n",
    "htn_program_data = adults_htn.groupby(['offered_htn_program', 'uptake_htn_program']).agg({\n",
    "    'penurunan_sbp_mmHg_12m': 'mean',\n",
    "    'person_id': 'count'\n",
    "}).reset_index()\n",
    "htn_program_data['program_status'] = htn_program_data.apply(\n",
    "    lambda x: 'Not Offered' if x['offered_htn_program'] == 0 \n",
    "    else 'Offered, Not Taken' if x['uptake_htn_program'] == 0 \n",
    "    else 'Participated', axis=1\n",
    ")\n",
    "\n",
    "sns.barplot(data=htn_program_data, x='program_status', y='penurunan_sbp_mmHg_12m', ax=axes[0])\n",
    "axes[0].set_title('HTN Program Effectiveness')\n",
    "axes[0].set_ylabel('Avg SBP Reduction (mmHg)')\n",
    "axes[0].tick_params(axis='x', rotation=45)\n",
    "\n",
    "# 2. Stunting Program Uptake vs Outcomes\n",
    "stunting_program_data = children_stunting.groupby(['offered_stunting_program', 'uptake_stunting_program']).agg({\n",
    "    'delta_HAZ_12m': 'mean',\n",
    "    'child_id': 'count'\n",
    "}).reset_index()\n",
    "stunting_program_data['program_status'] = stunting_program_data.apply(\n",
    "    lambda x: 'Not Offered' if x['offered_stunting_program'] == 0 \n",
    "    else 'Offered, Not Taken' if x['uptake_stunting_program'] == 0 \n",
    "    else 'Participated', axis=1\n",
    ")\n",
    "\n",
    "sns.barplot(data=stunting_program_data, x='program_status', y='delta_HAZ_12m', ax=axes[1])\n",
    "axes[1].set_title('Stunting Program Effectiveness')\n",
    "axes[1].set_ylabel('Avg HAZ Improvement')\n",
    "axes[1].tick_params(axis='x', rotation=45)\n",
    "\n",
    "# 3. Cost-effectiveness analysis\n",
    "# Calculate cost per case improved\n",
    "htn_participants = adults_htn[adults_htn['uptake_htn_program'] == 1]\n",
    "avg_htn_cost = htn_participants[['biaya_obat_bln', 'biaya_screening', 'biaya_kontrol_tahunan']].sum(axis=1).mean() * 12\n",
    "avg_bp_reduction = htn_participants['penurunan_sbp_mmHg_12m'].mean()\n",
    "htn_cost_effectiveness = avg_htn_cost / avg_bp_reduction if avg_bp_reduction > 0 else 0\n",
    "\n",
    "stunting_participants = children_stunting[children_stunting['uptake_stunting_program'] == 1]\n",
    "avg_stunting_cost = stunting_participants[['biaya_PMT_bln', 'biaya_mikronutrien_bln', 'biaya_WASH_bln']].sum(axis=1).mean() * 12\n",
    "avg_haz_improvement = stunting_participants['delta_HAZ_12m'].mean()\n",
    "stunting_cost_effectiveness = avg_stunting_cost / avg_haz_improvement if avg_haz_improvement > 0 else 0\n",
    "\n",
    "cost_eff_data = pd.DataFrame({\n",
    "    'Program': ['HTN Management', 'Stunting Prevention'],\n",
    "    'Cost_per_Unit_Improvement': [htn_cost_effectiveness, stunting_cost_effectiveness],\n",
    "    'Unit': ['IDR per mmHg reduced', 'IDR per HAZ point improved']\n",
    "})\n",
    "\n",
    "sns.barplot(data=cost_eff_data, x='Program', y='Cost_per_Unit_Improvement', ax=axes[2])\n",
    "axes[2].set_title('Cost-Effectiveness Comparison')\n",
    "axes[2].set_ylabel('Cost per Unit Improvement (IDR)')\n",
    "axes[2].ticklabel_format(style='scientific', axis='y', scilimits=(0,0))\n",
    "\n",
    "plt.tight_layout()\n",
    "plt.show()\n",
    "\n",
    "print(f\"\\nProgram Effectiveness Summary:\")\n",
    "print(f\"HTN Program: {htn_cost_effectiveness:,.0f} IDR per mmHg SBP reduction\")\n",
    "print(f\"Stunting Program: {stunting_cost_effectiveness:,.0f} IDR per HAZ point improvement\")"
   ]
  },
  {
   "cell_type": "markdown",
   "metadata": {},
   "source": [
    "## 8. Interactive Dashboard Overview"
   ]
  },
  {
   "cell_type": "code",
   "execution_count": 12,
   "metadata": {},
   "outputs": [
    {
     "data": {
      "application/vnd.plotly.v1+json": {
       "config": {
        "plotlyServerURL": "https://plot.ly"
       },
       "data": [
        {
         "marker": {
          "color": [
           "orange",
           "orange",
           "red"
          ]
         },
         "name": "Risk Score",
         "showlegend": false,
         "text": [
          "Warning",
          "Warning",
          "Critical"
         ],
         "textposition": "outside",
         "type": "bar",
         "x": [
          "Dusun A",
          "Dusun B",
          "Dusun C"
         ],
         "xaxis": "x",
         "y": {
          "bdata": "ZmZmZmZmAkBmZmZmZmYCQGZmZmZmZgRA",
          "dtype": "f8"
         },
         "yaxis": "y"
        },
        {
         "fill": "toself",
         "line": {
          "color": "rgb(228,26,28)"
         },
         "name": "Dusun A",
         "opacity": 0.7,
         "r": [
          66.66666666666666,
          66.66666666666666,
          66.66666666666666,
          33.33333333333333,
          66.66666666666667
         ],
         "subplot": "polar",
         "theta": [
          "Stunting Prev.",
          "HTN Prev.",
          "Clean Water",
          "Sanitation",
          "Income Level"
         ],
         "type": "scatterpolar"
        },
        {
         "fill": "toself",
         "line": {
          "color": "rgb(55,126,184)"
         },
         "name": "Dusun B",
         "opacity": 0.7,
         "r": [
          66.66666666666666,
          100,
          66.66666666666666,
          33.33333333333333,
          66.66666666666667
         ],
         "subplot": "polar",
         "theta": [
          "Stunting Prev.",
          "HTN Prev.",
          "Clean Water",
          "Sanitation",
          "Income Level"
         ],
         "type": "scatterpolar"
        },
        {
         "fill": "toself",
         "line": {
          "color": "rgb(77,175,74)"
         },
         "name": "Dusun C",
         "opacity": 0.7,
         "r": [
          75,
          75,
          50,
          25,
          50
         ],
         "subplot": "polar",
         "theta": [
          "Stunting Prev.",
          "HTN Prev.",
          "Clean Water",
          "Sanitation",
          "Income Level"
         ],
         "type": "scatterpolar"
        },
        {
         "marker": {
          "color": "lightblue"
         },
         "name": "Coverage %",
         "showlegend": false,
         "type": "bar",
         "x": [
          "HTN Screening",
          "HTN Treatment",
          "Stunting PMT",
          "Micronutrients"
         ],
         "xaxis": "x2",
         "y": {
          "bdata": "AAAAAACAVkAAAAAAAIBRQAAAAAAAAFRAAAAAAAAATkA=",
          "dtype": "f8"
         },
         "yaxis": "y2"
        },
        {
         "marker": {
          "color": "red",
          "size": 15
         },
         "mode": "markers+text",
         "name": "Programs",
         "text": [
          "HTN Management",
          "Stunting Prevention"
         ],
         "textposition": "top center",
         "type": "scatter",
         "x": {
          "bdata": "kiRJkszdUkEAAAAA4IwqQQ==",
          "dtype": "f8"
         },
         "xaxis": "x3",
         "y": {
          "bdata": "27Zt27ZtKUCqqqqqqqoKQA==",
          "dtype": "f8"
         },
         "yaxis": "y3"
        }
       ],
       "layout": {
        "annotations": [
         {
          "font": {
           "size": 16
          },
          "showarrow": false,
          "text": "Village Risk Assessment",
          "x": 0.225,
          "xanchor": "center",
          "xref": "paper",
          "y": 1,
          "yanchor": "bottom",
          "yref": "paper"
         },
         {
          "font": {
           "size": 16
          },
          "showarrow": false,
          "text": "Health Indicators by Village",
          "x": 0.775,
          "xanchor": "center",
          "xref": "paper",
          "y": 1,
          "yanchor": "bottom",
          "yref": "paper"
         },
         {
          "font": {
           "size": 16
          },
          "showarrow": false,
          "text": "Program Coverage",
          "x": 0.225,
          "xanchor": "center",
          "xref": "paper",
          "y": 0.375,
          "yanchor": "bottom",
          "yref": "paper"
         },
         {
          "font": {
           "size": 16
          },
          "showarrow": false,
          "text": "Cost vs Effectiveness",
          "x": 0.775,
          "xanchor": "center",
          "xref": "paper",
          "y": 0.375,
          "yanchor": "bottom",
          "yref": "paper"
         }
        ],
        "height": 800,
        "polar": {
         "domain": {
          "x": [
           0.55,
           1
          ],
          "y": [
           0.625,
           1
          ]
         },
         "radialaxis": {
          "range": [
           0,
           100
          ],
          "visible": true
         }
        },
        "showlegend": true,
        "template": {
         "data": {
          "bar": [
           {
            "error_x": {
             "color": "#2a3f5f"
            },
            "error_y": {
             "color": "#2a3f5f"
            },
            "marker": {
             "line": {
              "color": "#E5ECF6",
              "width": 0.5
             },
             "pattern": {
              "fillmode": "overlay",
              "size": 10,
              "solidity": 0.2
             }
            },
            "type": "bar"
           }
          ],
          "barpolar": [
           {
            "marker": {
             "line": {
              "color": "#E5ECF6",
              "width": 0.5
             },
             "pattern": {
              "fillmode": "overlay",
              "size": 10,
              "solidity": 0.2
             }
            },
            "type": "barpolar"
           }
          ],
          "carpet": [
           {
            "aaxis": {
             "endlinecolor": "#2a3f5f",
             "gridcolor": "white",
             "linecolor": "white",
             "minorgridcolor": "white",
             "startlinecolor": "#2a3f5f"
            },
            "baxis": {
             "endlinecolor": "#2a3f5f",
             "gridcolor": "white",
             "linecolor": "white",
             "minorgridcolor": "white",
             "startlinecolor": "#2a3f5f"
            },
            "type": "carpet"
           }
          ],
          "choropleth": [
           {
            "colorbar": {
             "outlinewidth": 0,
             "ticks": ""
            },
            "type": "choropleth"
           }
          ],
          "contour": [
           {
            "colorbar": {
             "outlinewidth": 0,
             "ticks": ""
            },
            "colorscale": [
             [
              0,
              "#0d0887"
             ],
             [
              0.1111111111111111,
              "#46039f"
             ],
             [
              0.2222222222222222,
              "#7201a8"
             ],
             [
              0.3333333333333333,
              "#9c179e"
             ],
             [
              0.4444444444444444,
              "#bd3786"
             ],
             [
              0.5555555555555556,
              "#d8576b"
             ],
             [
              0.6666666666666666,
              "#ed7953"
             ],
             [
              0.7777777777777778,
              "#fb9f3a"
             ],
             [
              0.8888888888888888,
              "#fdca26"
             ],
             [
              1,
              "#f0f921"
             ]
            ],
            "type": "contour"
           }
          ],
          "contourcarpet": [
           {
            "colorbar": {
             "outlinewidth": 0,
             "ticks": ""
            },
            "type": "contourcarpet"
           }
          ],
          "heatmap": [
           {
            "colorbar": {
             "outlinewidth": 0,
             "ticks": ""
            },
            "colorscale": [
             [
              0,
              "#0d0887"
             ],
             [
              0.1111111111111111,
              "#46039f"
             ],
             [
              0.2222222222222222,
              "#7201a8"
             ],
             [
              0.3333333333333333,
              "#9c179e"
             ],
             [
              0.4444444444444444,
              "#bd3786"
             ],
             [
              0.5555555555555556,
              "#d8576b"
             ],
             [
              0.6666666666666666,
              "#ed7953"
             ],
             [
              0.7777777777777778,
              "#fb9f3a"
             ],
             [
              0.8888888888888888,
              "#fdca26"
             ],
             [
              1,
              "#f0f921"
             ]
            ],
            "type": "heatmap"
           }
          ],
          "histogram": [
           {
            "marker": {
             "pattern": {
              "fillmode": "overlay",
              "size": 10,
              "solidity": 0.2
             }
            },
            "type": "histogram"
           }
          ],
          "histogram2d": [
           {
            "colorbar": {
             "outlinewidth": 0,
             "ticks": ""
            },
            "colorscale": [
             [
              0,
              "#0d0887"
             ],
             [
              0.1111111111111111,
              "#46039f"
             ],
             [
              0.2222222222222222,
              "#7201a8"
             ],
             [
              0.3333333333333333,
              "#9c179e"
             ],
             [
              0.4444444444444444,
              "#bd3786"
             ],
             [
              0.5555555555555556,
              "#d8576b"
             ],
             [
              0.6666666666666666,
              "#ed7953"
             ],
             [
              0.7777777777777778,
              "#fb9f3a"
             ],
             [
              0.8888888888888888,
              "#fdca26"
             ],
             [
              1,
              "#f0f921"
             ]
            ],
            "type": "histogram2d"
           }
          ],
          "histogram2dcontour": [
           {
            "colorbar": {
             "outlinewidth": 0,
             "ticks": ""
            },
            "colorscale": [
             [
              0,
              "#0d0887"
             ],
             [
              0.1111111111111111,
              "#46039f"
             ],
             [
              0.2222222222222222,
              "#7201a8"
             ],
             [
              0.3333333333333333,
              "#9c179e"
             ],
             [
              0.4444444444444444,
              "#bd3786"
             ],
             [
              0.5555555555555556,
              "#d8576b"
             ],
             [
              0.6666666666666666,
              "#ed7953"
             ],
             [
              0.7777777777777778,
              "#fb9f3a"
             ],
             [
              0.8888888888888888,
              "#fdca26"
             ],
             [
              1,
              "#f0f921"
             ]
            ],
            "type": "histogram2dcontour"
           }
          ],
          "mesh3d": [
           {
            "colorbar": {
             "outlinewidth": 0,
             "ticks": ""
            },
            "type": "mesh3d"
           }
          ],
          "parcoords": [
           {
            "line": {
             "colorbar": {
              "outlinewidth": 0,
              "ticks": ""
             }
            },
            "type": "parcoords"
           }
          ],
          "pie": [
           {
            "automargin": true,
            "type": "pie"
           }
          ],
          "scatter": [
           {
            "fillpattern": {
             "fillmode": "overlay",
             "size": 10,
             "solidity": 0.2
            },
            "type": "scatter"
           }
          ],
          "scatter3d": [
           {
            "line": {
             "colorbar": {
              "outlinewidth": 0,
              "ticks": ""
             }
            },
            "marker": {
             "colorbar": {
              "outlinewidth": 0,
              "ticks": ""
             }
            },
            "type": "scatter3d"
           }
          ],
          "scattercarpet": [
           {
            "marker": {
             "colorbar": {
              "outlinewidth": 0,
              "ticks": ""
             }
            },
            "type": "scattercarpet"
           }
          ],
          "scattergeo": [
           {
            "marker": {
             "colorbar": {
              "outlinewidth": 0,
              "ticks": ""
             }
            },
            "type": "scattergeo"
           }
          ],
          "scattergl": [
           {
            "marker": {
             "colorbar": {
              "outlinewidth": 0,
              "ticks": ""
             }
            },
            "type": "scattergl"
           }
          ],
          "scattermap": [
           {
            "marker": {
             "colorbar": {
              "outlinewidth": 0,
              "ticks": ""
             }
            },
            "type": "scattermap"
           }
          ],
          "scattermapbox": [
           {
            "marker": {
             "colorbar": {
              "outlinewidth": 0,
              "ticks": ""
             }
            },
            "type": "scattermapbox"
           }
          ],
          "scatterpolar": [
           {
            "marker": {
             "colorbar": {
              "outlinewidth": 0,
              "ticks": ""
             }
            },
            "type": "scatterpolar"
           }
          ],
          "scatterpolargl": [
           {
            "marker": {
             "colorbar": {
              "outlinewidth": 0,
              "ticks": ""
             }
            },
            "type": "scatterpolargl"
           }
          ],
          "scatterternary": [
           {
            "marker": {
             "colorbar": {
              "outlinewidth": 0,
              "ticks": ""
             }
            },
            "type": "scatterternary"
           }
          ],
          "surface": [
           {
            "colorbar": {
             "outlinewidth": 0,
             "ticks": ""
            },
            "colorscale": [
             [
              0,
              "#0d0887"
             ],
             [
              0.1111111111111111,
              "#46039f"
             ],
             [
              0.2222222222222222,
              "#7201a8"
             ],
             [
              0.3333333333333333,
              "#9c179e"
             ],
             [
              0.4444444444444444,
              "#bd3786"
             ],
             [
              0.5555555555555556,
              "#d8576b"
             ],
             [
              0.6666666666666666,
              "#ed7953"
             ],
             [
              0.7777777777777778,
              "#fb9f3a"
             ],
             [
              0.8888888888888888,
              "#fdca26"
             ],
             [
              1,
              "#f0f921"
             ]
            ],
            "type": "surface"
           }
          ],
          "table": [
           {
            "cells": {
             "fill": {
              "color": "#EBF0F8"
             },
             "line": {
              "color": "white"
             }
            },
            "header": {
             "fill": {
              "color": "#C8D4E3"
             },
             "line": {
              "color": "white"
             }
            },
            "type": "table"
           }
          ]
         },
         "layout": {
          "annotationdefaults": {
           "arrowcolor": "#2a3f5f",
           "arrowhead": 0,
           "arrowwidth": 1
          },
          "autotypenumbers": "strict",
          "coloraxis": {
           "colorbar": {
            "outlinewidth": 0,
            "ticks": ""
           }
          },
          "colorscale": {
           "diverging": [
            [
             0,
             "#8e0152"
            ],
            [
             0.1,
             "#c51b7d"
            ],
            [
             0.2,
             "#de77ae"
            ],
            [
             0.3,
             "#f1b6da"
            ],
            [
             0.4,
             "#fde0ef"
            ],
            [
             0.5,
             "#f7f7f7"
            ],
            [
             0.6,
             "#e6f5d0"
            ],
            [
             0.7,
             "#b8e186"
            ],
            [
             0.8,
             "#7fbc41"
            ],
            [
             0.9,
             "#4d9221"
            ],
            [
             1,
             "#276419"
            ]
           ],
           "sequential": [
            [
             0,
             "#0d0887"
            ],
            [
             0.1111111111111111,
             "#46039f"
            ],
            [
             0.2222222222222222,
             "#7201a8"
            ],
            [
             0.3333333333333333,
             "#9c179e"
            ],
            [
             0.4444444444444444,
             "#bd3786"
            ],
            [
             0.5555555555555556,
             "#d8576b"
            ],
            [
             0.6666666666666666,
             "#ed7953"
            ],
            [
             0.7777777777777778,
             "#fb9f3a"
            ],
            [
             0.8888888888888888,
             "#fdca26"
            ],
            [
             1,
             "#f0f921"
            ]
           ],
           "sequentialminus": [
            [
             0,
             "#0d0887"
            ],
            [
             0.1111111111111111,
             "#46039f"
            ],
            [
             0.2222222222222222,
             "#7201a8"
            ],
            [
             0.3333333333333333,
             "#9c179e"
            ],
            [
             0.4444444444444444,
             "#bd3786"
            ],
            [
             0.5555555555555556,
             "#d8576b"
            ],
            [
             0.6666666666666666,
             "#ed7953"
            ],
            [
             0.7777777777777778,
             "#fb9f3a"
            ],
            [
             0.8888888888888888,
             "#fdca26"
            ],
            [
             1,
             "#f0f921"
            ]
           ]
          },
          "colorway": [
           "#636efa",
           "#EF553B",
           "#00cc96",
           "#ab63fa",
           "#FFA15A",
           "#19d3f3",
           "#FF6692",
           "#B6E880",
           "#FF97FF",
           "#FECB52"
          ],
          "font": {
           "color": "#2a3f5f"
          },
          "geo": {
           "bgcolor": "white",
           "lakecolor": "white",
           "landcolor": "#E5ECF6",
           "showlakes": true,
           "showland": true,
           "subunitcolor": "white"
          },
          "hoverlabel": {
           "align": "left"
          },
          "hovermode": "closest",
          "mapbox": {
           "style": "light"
          },
          "paper_bgcolor": "white",
          "plot_bgcolor": "#E5ECF6",
          "polar": {
           "angularaxis": {
            "gridcolor": "white",
            "linecolor": "white",
            "ticks": ""
           },
           "bgcolor": "#E5ECF6",
           "radialaxis": {
            "gridcolor": "white",
            "linecolor": "white",
            "ticks": ""
           }
          },
          "scene": {
           "xaxis": {
            "backgroundcolor": "#E5ECF6",
            "gridcolor": "white",
            "gridwidth": 2,
            "linecolor": "white",
            "showbackground": true,
            "ticks": "",
            "zerolinecolor": "white"
           },
           "yaxis": {
            "backgroundcolor": "#E5ECF6",
            "gridcolor": "white",
            "gridwidth": 2,
            "linecolor": "white",
            "showbackground": true,
            "ticks": "",
            "zerolinecolor": "white"
           },
           "zaxis": {
            "backgroundcolor": "#E5ECF6",
            "gridcolor": "white",
            "gridwidth": 2,
            "linecolor": "white",
            "showbackground": true,
            "ticks": "",
            "zerolinecolor": "white"
           }
          },
          "shapedefaults": {
           "line": {
            "color": "#2a3f5f"
           }
          },
          "ternary": {
           "aaxis": {
            "gridcolor": "white",
            "linecolor": "white",
            "ticks": ""
           },
           "baxis": {
            "gridcolor": "white",
            "linecolor": "white",
            "ticks": ""
           },
           "bgcolor": "#E5ECF6",
           "caxis": {
            "gridcolor": "white",
            "linecolor": "white",
            "ticks": ""
           }
          },
          "title": {
           "x": 0.05
          },
          "xaxis": {
           "automargin": true,
           "gridcolor": "white",
           "linecolor": "white",
           "ticks": "",
           "title": {
            "standoff": 15
           },
           "zerolinecolor": "white",
           "zerolinewidth": 2
          },
          "yaxis": {
           "automargin": true,
           "gridcolor": "white",
           "linecolor": "white",
           "ticks": "",
           "title": {
            "standoff": 15
           },
           "zerolinecolor": "white",
           "zerolinewidth": 2
          }
         }
        },
        "title": {
         "text": "Village Health Digital Twin - Dashboard Overview",
         "x": 0.5
        },
        "xaxis": {
         "anchor": "y",
         "domain": [
          0,
          0.45
         ],
         "title": {
          "text": "Village"
         }
        },
        "xaxis2": {
         "anchor": "y2",
         "domain": [
          0,
          0.45
         ],
         "title": {
          "text": "Program"
         }
        },
        "xaxis3": {
         "anchor": "y3",
         "domain": [
          0.55,
          1
         ],
         "title": {
          "text": "Annual Cost (IDR)"
         }
        },
        "yaxis": {
         "anchor": "x",
         "domain": [
          0.625,
          1
         ],
         "title": {
          "text": "Risk Score"
         }
        },
        "yaxis2": {
         "anchor": "x2",
         "domain": [
          0,
          0.375
         ],
         "title": {
          "text": "Coverage (%)"
         }
        },
        "yaxis3": {
         "anchor": "x3",
         "domain": [
          0,
          0.375
         ],
         "title": {
          "text": "Effectiveness Score"
         }
        }
       }
      }
     },
     "metadata": {},
     "output_type": "display_data"
    },
    {
     "name": "stdout",
     "output_type": "stream",
     "text": [
      "\n",
      "=== Creating Alternative Radar Chart ===\n"
     ]
    },
    {
     "data": {
      "application/vnd.plotly.v1+json": {
       "config": {
        "plotlyServerURL": "https://plot.ly"
       },
       "data": [
        {
         "fill": "toself",
         "line": {
          "color": "rgb(228,26,28)"
         },
         "name": "Dusun A",
         "r": [
          66.66666666666666,
          66.66666666666666,
          66.66666666666666,
          33.33333333333333,
          66.66666666666667,
          66.66666666666666
         ],
         "theta": [
          "Stunting Prev.",
          "HTN Prev.",
          "Clean Water",
          "Sanitation",
          "Income Level",
          "Stunting Prev."
         ],
         "type": "scatterpolar"
        },
        {
         "fill": "toself",
         "line": {
          "color": "rgb(55,126,184)"
         },
         "name": "Dusun B",
         "r": [
          66.66666666666666,
          100,
          66.66666666666666,
          33.33333333333333,
          66.66666666666667,
          66.66666666666666
         ],
         "theta": [
          "Stunting Prev.",
          "HTN Prev.",
          "Clean Water",
          "Sanitation",
          "Income Level",
          "Stunting Prev."
         ],
         "type": "scatterpolar"
        },
        {
         "fill": "toself",
         "line": {
          "color": "rgb(77,175,74)"
         },
         "name": "Dusun C",
         "r": [
          75,
          75,
          50,
          25,
          50,
          75
         ],
         "theta": [
          "Stunting Prev.",
          "HTN Prev.",
          "Clean Water",
          "Sanitation",
          "Income Level",
          "Stunting Prev."
         ],
         "type": "scatterpolar"
        }
       ],
       "layout": {
        "polar": {
         "radialaxis": {
          "range": [
           0,
           100
          ],
          "visible": true
         }
        },
        "showlegend": true,
        "template": {
         "data": {
          "bar": [
           {
            "error_x": {
             "color": "#2a3f5f"
            },
            "error_y": {
             "color": "#2a3f5f"
            },
            "marker": {
             "line": {
              "color": "#E5ECF6",
              "width": 0.5
             },
             "pattern": {
              "fillmode": "overlay",
              "size": 10,
              "solidity": 0.2
             }
            },
            "type": "bar"
           }
          ],
          "barpolar": [
           {
            "marker": {
             "line": {
              "color": "#E5ECF6",
              "width": 0.5
             },
             "pattern": {
              "fillmode": "overlay",
              "size": 10,
              "solidity": 0.2
             }
            },
            "type": "barpolar"
           }
          ],
          "carpet": [
           {
            "aaxis": {
             "endlinecolor": "#2a3f5f",
             "gridcolor": "white",
             "linecolor": "white",
             "minorgridcolor": "white",
             "startlinecolor": "#2a3f5f"
            },
            "baxis": {
             "endlinecolor": "#2a3f5f",
             "gridcolor": "white",
             "linecolor": "white",
             "minorgridcolor": "white",
             "startlinecolor": "#2a3f5f"
            },
            "type": "carpet"
           }
          ],
          "choropleth": [
           {
            "colorbar": {
             "outlinewidth": 0,
             "ticks": ""
            },
            "type": "choropleth"
           }
          ],
          "contour": [
           {
            "colorbar": {
             "outlinewidth": 0,
             "ticks": ""
            },
            "colorscale": [
             [
              0,
              "#0d0887"
             ],
             [
              0.1111111111111111,
              "#46039f"
             ],
             [
              0.2222222222222222,
              "#7201a8"
             ],
             [
              0.3333333333333333,
              "#9c179e"
             ],
             [
              0.4444444444444444,
              "#bd3786"
             ],
             [
              0.5555555555555556,
              "#d8576b"
             ],
             [
              0.6666666666666666,
              "#ed7953"
             ],
             [
              0.7777777777777778,
              "#fb9f3a"
             ],
             [
              0.8888888888888888,
              "#fdca26"
             ],
             [
              1,
              "#f0f921"
             ]
            ],
            "type": "contour"
           }
          ],
          "contourcarpet": [
           {
            "colorbar": {
             "outlinewidth": 0,
             "ticks": ""
            },
            "type": "contourcarpet"
           }
          ],
          "heatmap": [
           {
            "colorbar": {
             "outlinewidth": 0,
             "ticks": ""
            },
            "colorscale": [
             [
              0,
              "#0d0887"
             ],
             [
              0.1111111111111111,
              "#46039f"
             ],
             [
              0.2222222222222222,
              "#7201a8"
             ],
             [
              0.3333333333333333,
              "#9c179e"
             ],
             [
              0.4444444444444444,
              "#bd3786"
             ],
             [
              0.5555555555555556,
              "#d8576b"
             ],
             [
              0.6666666666666666,
              "#ed7953"
             ],
             [
              0.7777777777777778,
              "#fb9f3a"
             ],
             [
              0.8888888888888888,
              "#fdca26"
             ],
             [
              1,
              "#f0f921"
             ]
            ],
            "type": "heatmap"
           }
          ],
          "histogram": [
           {
            "marker": {
             "pattern": {
              "fillmode": "overlay",
              "size": 10,
              "solidity": 0.2
             }
            },
            "type": "histogram"
           }
          ],
          "histogram2d": [
           {
            "colorbar": {
             "outlinewidth": 0,
             "ticks": ""
            },
            "colorscale": [
             [
              0,
              "#0d0887"
             ],
             [
              0.1111111111111111,
              "#46039f"
             ],
             [
              0.2222222222222222,
              "#7201a8"
             ],
             [
              0.3333333333333333,
              "#9c179e"
             ],
             [
              0.4444444444444444,
              "#bd3786"
             ],
             [
              0.5555555555555556,
              "#d8576b"
             ],
             [
              0.6666666666666666,
              "#ed7953"
             ],
             [
              0.7777777777777778,
              "#fb9f3a"
             ],
             [
              0.8888888888888888,
              "#fdca26"
             ],
             [
              1,
              "#f0f921"
             ]
            ],
            "type": "histogram2d"
           }
          ],
          "histogram2dcontour": [
           {
            "colorbar": {
             "outlinewidth": 0,
             "ticks": ""
            },
            "colorscale": [
             [
              0,
              "#0d0887"
             ],
             [
              0.1111111111111111,
              "#46039f"
             ],
             [
              0.2222222222222222,
              "#7201a8"
             ],
             [
              0.3333333333333333,
              "#9c179e"
             ],
             [
              0.4444444444444444,
              "#bd3786"
             ],
             [
              0.5555555555555556,
              "#d8576b"
             ],
             [
              0.6666666666666666,
              "#ed7953"
             ],
             [
              0.7777777777777778,
              "#fb9f3a"
             ],
             [
              0.8888888888888888,
              "#fdca26"
             ],
             [
              1,
              "#f0f921"
             ]
            ],
            "type": "histogram2dcontour"
           }
          ],
          "mesh3d": [
           {
            "colorbar": {
             "outlinewidth": 0,
             "ticks": ""
            },
            "type": "mesh3d"
           }
          ],
          "parcoords": [
           {
            "line": {
             "colorbar": {
              "outlinewidth": 0,
              "ticks": ""
             }
            },
            "type": "parcoords"
           }
          ],
          "pie": [
           {
            "automargin": true,
            "type": "pie"
           }
          ],
          "scatter": [
           {
            "fillpattern": {
             "fillmode": "overlay",
             "size": 10,
             "solidity": 0.2
            },
            "type": "scatter"
           }
          ],
          "scatter3d": [
           {
            "line": {
             "colorbar": {
              "outlinewidth": 0,
              "ticks": ""
             }
            },
            "marker": {
             "colorbar": {
              "outlinewidth": 0,
              "ticks": ""
             }
            },
            "type": "scatter3d"
           }
          ],
          "scattercarpet": [
           {
            "marker": {
             "colorbar": {
              "outlinewidth": 0,
              "ticks": ""
             }
            },
            "type": "scattercarpet"
           }
          ],
          "scattergeo": [
           {
            "marker": {
             "colorbar": {
              "outlinewidth": 0,
              "ticks": ""
             }
            },
            "type": "scattergeo"
           }
          ],
          "scattergl": [
           {
            "marker": {
             "colorbar": {
              "outlinewidth": 0,
              "ticks": ""
             }
            },
            "type": "scattergl"
           }
          ],
          "scattermap": [
           {
            "marker": {
             "colorbar": {
              "outlinewidth": 0,
              "ticks": ""
             }
            },
            "type": "scattermap"
           }
          ],
          "scattermapbox": [
           {
            "marker": {
             "colorbar": {
              "outlinewidth": 0,
              "ticks": ""
             }
            },
            "type": "scattermapbox"
           }
          ],
          "scatterpolar": [
           {
            "marker": {
             "colorbar": {
              "outlinewidth": 0,
              "ticks": ""
             }
            },
            "type": "scatterpolar"
           }
          ],
          "scatterpolargl": [
           {
            "marker": {
             "colorbar": {
              "outlinewidth": 0,
              "ticks": ""
             }
            },
            "type": "scatterpolargl"
           }
          ],
          "scatterternary": [
           {
            "marker": {
             "colorbar": {
              "outlinewidth": 0,
              "ticks": ""
             }
            },
            "type": "scatterternary"
           }
          ],
          "surface": [
           {
            "colorbar": {
             "outlinewidth": 0,
             "ticks": ""
            },
            "colorscale": [
             [
              0,
              "#0d0887"
             ],
             [
              0.1111111111111111,
              "#46039f"
             ],
             [
              0.2222222222222222,
              "#7201a8"
             ],
             [
              0.3333333333333333,
              "#9c179e"
             ],
             [
              0.4444444444444444,
              "#bd3786"
             ],
             [
              0.5555555555555556,
              "#d8576b"
             ],
             [
              0.6666666666666666,
              "#ed7953"
             ],
             [
              0.7777777777777778,
              "#fb9f3a"
             ],
             [
              0.8888888888888888,
              "#fdca26"
             ],
             [
              1,
              "#f0f921"
             ]
            ],
            "type": "surface"
           }
          ],
          "table": [
           {
            "cells": {
             "fill": {
              "color": "#EBF0F8"
             },
             "line": {
              "color": "white"
             }
            },
            "header": {
             "fill": {
              "color": "#C8D4E3"
             },
             "line": {
              "color": "white"
             }
            },
            "type": "table"
           }
          ]
         },
         "layout": {
          "annotationdefaults": {
           "arrowcolor": "#2a3f5f",
           "arrowhead": 0,
           "arrowwidth": 1
          },
          "autotypenumbers": "strict",
          "coloraxis": {
           "colorbar": {
            "outlinewidth": 0,
            "ticks": ""
           }
          },
          "colorscale": {
           "diverging": [
            [
             0,
             "#8e0152"
            ],
            [
             0.1,
             "#c51b7d"
            ],
            [
             0.2,
             "#de77ae"
            ],
            [
             0.3,
             "#f1b6da"
            ],
            [
             0.4,
             "#fde0ef"
            ],
            [
             0.5,
             "#f7f7f7"
            ],
            [
             0.6,
             "#e6f5d0"
            ],
            [
             0.7,
             "#b8e186"
            ],
            [
             0.8,
             "#7fbc41"
            ],
            [
             0.9,
             "#4d9221"
            ],
            [
             1,
             "#276419"
            ]
           ],
           "sequential": [
            [
             0,
             "#0d0887"
            ],
            [
             0.1111111111111111,
             "#46039f"
            ],
            [
             0.2222222222222222,
             "#7201a8"
            ],
            [
             0.3333333333333333,
             "#9c179e"
            ],
            [
             0.4444444444444444,
             "#bd3786"
            ],
            [
             0.5555555555555556,
             "#d8576b"
            ],
            [
             0.6666666666666666,
             "#ed7953"
            ],
            [
             0.7777777777777778,
             "#fb9f3a"
            ],
            [
             0.8888888888888888,
             "#fdca26"
            ],
            [
             1,
             "#f0f921"
            ]
           ],
           "sequentialminus": [
            [
             0,
             "#0d0887"
            ],
            [
             0.1111111111111111,
             "#46039f"
            ],
            [
             0.2222222222222222,
             "#7201a8"
            ],
            [
             0.3333333333333333,
             "#9c179e"
            ],
            [
             0.4444444444444444,
             "#bd3786"
            ],
            [
             0.5555555555555556,
             "#d8576b"
            ],
            [
             0.6666666666666666,
             "#ed7953"
            ],
            [
             0.7777777777777778,
             "#fb9f3a"
            ],
            [
             0.8888888888888888,
             "#fdca26"
            ],
            [
             1,
             "#f0f921"
            ]
           ]
          },
          "colorway": [
           "#636efa",
           "#EF553B",
           "#00cc96",
           "#ab63fa",
           "#FFA15A",
           "#19d3f3",
           "#FF6692",
           "#B6E880",
           "#FF97FF",
           "#FECB52"
          ],
          "font": {
           "color": "#2a3f5f"
          },
          "geo": {
           "bgcolor": "white",
           "lakecolor": "white",
           "landcolor": "#E5ECF6",
           "showlakes": true,
           "showland": true,
           "subunitcolor": "white"
          },
          "hoverlabel": {
           "align": "left"
          },
          "hovermode": "closest",
          "mapbox": {
           "style": "light"
          },
          "paper_bgcolor": "white",
          "plot_bgcolor": "#E5ECF6",
          "polar": {
           "angularaxis": {
            "gridcolor": "white",
            "linecolor": "white",
            "ticks": ""
           },
           "bgcolor": "#E5ECF6",
           "radialaxis": {
            "gridcolor": "white",
            "linecolor": "white",
            "ticks": ""
           }
          },
          "scene": {
           "xaxis": {
            "backgroundcolor": "#E5ECF6",
            "gridcolor": "white",
            "gridwidth": 2,
            "linecolor": "white",
            "showbackground": true,
            "ticks": "",
            "zerolinecolor": "white"
           },
           "yaxis": {
            "backgroundcolor": "#E5ECF6",
            "gridcolor": "white",
            "gridwidth": 2,
            "linecolor": "white",
            "showbackground": true,
            "ticks": "",
            "zerolinecolor": "white"
           },
           "zaxis": {
            "backgroundcolor": "#E5ECF6",
            "gridcolor": "white",
            "gridwidth": 2,
            "linecolor": "white",
            "showbackground": true,
            "ticks": "",
            "zerolinecolor": "white"
           }
          },
          "shapedefaults": {
           "line": {
            "color": "#2a3f5f"
           }
          },
          "ternary": {
           "aaxis": {
            "gridcolor": "white",
            "linecolor": "white",
            "ticks": ""
           },
           "baxis": {
            "gridcolor": "white",
            "linecolor": "white",
            "ticks": ""
           },
           "bgcolor": "#E5ECF6",
           "caxis": {
            "gridcolor": "white",
            "linecolor": "white",
            "ticks": ""
           }
          },
          "title": {
           "x": 0.05
          },
          "xaxis": {
           "automargin": true,
           "gridcolor": "white",
           "linecolor": "white",
           "ticks": "",
           "title": {
            "standoff": 15
           },
           "zerolinecolor": "white",
           "zerolinewidth": 2
          },
          "yaxis": {
           "automargin": true,
           "gridcolor": "white",
           "linecolor": "white",
           "ticks": "",
           "title": {
            "standoff": 15
           },
           "zerolinecolor": "white",
           "zerolinewidth": 2
          }
         }
        },
        "title": {
         "text": "Health Indicators Comparison by Village"
        }
       }
      }
     },
     "metadata": {},
     "output_type": "display_data"
    },
    {
     "name": "stdout",
     "output_type": "stream",
     "text": [
      "\n",
      "=== VILLAGE HEALTH SUMMARY ===\n"
     ]
    },
    {
     "data": {
      "text/html": [
       "<div>\n",
       "<style scoped>\n",
       "    .dataframe tbody tr th:only-of-type {\n",
       "        vertical-align: middle;\n",
       "    }\n",
       "\n",
       "    .dataframe tbody tr th {\n",
       "        vertical-align: top;\n",
       "    }\n",
       "\n",
       "    .dataframe thead th {\n",
       "        text-align: right;\n",
       "    }\n",
       "</style>\n",
       "<table border=\"1\" class=\"dataframe\">\n",
       "  <thead>\n",
       "    <tr style=\"text-align: right;\">\n",
       "      <th></th>\n",
       "      <th>Villages</th>\n",
       "      <th>Total HH</th>\n",
       "      <th>Avg Stunting %</th>\n",
       "      <th>Avg HTN %</th>\n",
       "      <th>Avg Clean Water %</th>\n",
       "    </tr>\n",
       "    <tr>\n",
       "      <th>overall_risk</th>\n",
       "      <th></th>\n",
       "      <th></th>\n",
       "      <th></th>\n",
       "      <th></th>\n",
       "      <th></th>\n",
       "    </tr>\n",
       "  </thead>\n",
       "  <tbody>\n",
       "    <tr>\n",
       "      <th>Critical</th>\n",
       "      <td>1</td>\n",
       "      <td>4</td>\n",
       "      <td>75.0</td>\n",
       "      <td>75.0</td>\n",
       "      <td>50.0</td>\n",
       "    </tr>\n",
       "    <tr>\n",
       "      <th>Warning</th>\n",
       "      <td>2</td>\n",
       "      <td>6</td>\n",
       "      <td>66.7</td>\n",
       "      <td>83.3</td>\n",
       "      <td>66.7</td>\n",
       "    </tr>\n",
       "  </tbody>\n",
       "</table>\n",
       "</div>"
      ],
      "text/plain": [
       "              Villages  Total HH  Avg Stunting %  Avg HTN %  Avg Clean Water %\n",
       "overall_risk                                                                  \n",
       "Critical             1         4            75.0       75.0               50.0\n",
       "Warning              2         6            66.7       83.3               66.7"
      ]
     },
     "metadata": {},
     "output_type": "display_data"
    }
   ],
   "source": [
    "# Replace cell 12 (Interactive Dashboard Overview) with this corrected version:\n",
    "\n",
    "# Create interactive dashboard using Plotly\n",
    "from plotly.subplots import make_subplots\n",
    "import plotly.graph_objects as go\n",
    "\n",
    "# Create subplot structure - using \"polar\" instead of \"radar\"\n",
    "fig = make_subplots(\n",
    "    rows=2, cols=2,\n",
    "    subplot_titles=('Village Risk Assessment', 'Health Indicators by Village', \n",
    "                   'Program Coverage', 'Cost vs Effectiveness'),\n",
    "    specs=[[{\"type\": \"bar\"}, {\"type\": \"polar\"}],\n",
    "           [{\"type\": \"bar\"}, {\"type\": \"scatter\"}]]\n",
    ")\n",
    "\n",
    "# 1. Village Risk Assessment\n",
    "risk_colors_map = {'Normal': 'green', 'Warning': 'orange', 'Critical': 'red'}\n",
    "colors = [risk_colors_map[risk] for risk in village_df['overall_risk']]\n",
    "\n",
    "fig.add_trace(\n",
    "    go.Bar(x=village_df['dusun'], y=village_df['health_risk_score'],\n",
    "           marker_color=colors, name='Risk Score',\n",
    "           text=village_df['overall_risk'], textposition='outside',\n",
    "           showlegend=False),\n",
    "    row=1, col=1\n",
    ")\n",
    "\n",
    "# 2. Radar chart for health indicators - using Scatterpolar\n",
    "categories = ['Stunting Prev.', 'HTN Prev.', 'Clean Water', 'Sanitation', 'Income Level']\n",
    "\n",
    "for idx, dusun in enumerate(village_df['dusun']):\n",
    "    row_data = village_df[village_df['dusun'] == dusun].iloc[0]\n",
    "    values = [\n",
    "        row_data['stunting_prevalence'],\n",
    "        row_data['htn_prevalence'], \n",
    "        row_data['clean_water_pct'],\n",
    "        row_data['sanitation_pct'],\n",
    "        100 - row_data['low_income_pct']  # Invert for better visualization\n",
    "    ]\n",
    "    \n",
    "    fig.add_trace(\n",
    "        go.Scatterpolar(\n",
    "            r=values,\n",
    "            theta=categories,\n",
    "            fill='toself',\n",
    "            name=dusun,\n",
    "            line_color=px.colors.qualitative.Set1[idx],\n",
    "            opacity=0.7\n",
    "        ),\n",
    "        row=1, col=2\n",
    "    )\n",
    "\n",
    "# 3. Program Coverage\n",
    "coverage_data = pd.DataFrame({\n",
    "    'Program': ['HTN Screening', 'HTN Treatment', 'Stunting PMT', 'Micronutrients'],\n",
    "    'Offered': [\n",
    "        adults_htn['offered_htn_program'].sum(),\n",
    "        adults_htn['uptake_htn_program'].sum(),\n",
    "        children_stunting['offered_stunting_program'].sum(),\n",
    "        children_stunting['uptake_stunting_program'].sum()\n",
    "    ],\n",
    "    'Total_Eligible': [\n",
    "        adults_htn['eligible_screening_htn'].sum(),\n",
    "        adults_htn['eligible_screening_htn'].sum(),\n",
    "        children_stunting['eligible_PMT_micronutrient'].sum(),\n",
    "        children_stunting['eligible_PMT_micronutrient'].sum()\n",
    "    ]\n",
    "})\n",
    "coverage_data['Coverage_Pct'] = (coverage_data['Offered'] / coverage_data['Total_Eligible']) * 100\n",
    "\n",
    "fig.add_trace(\n",
    "    go.Bar(x=coverage_data['Program'], y=coverage_data['Coverage_Pct'],\n",
    "           name='Coverage %', marker_color='lightblue',\n",
    "           showlegend=False),\n",
    "    row=2, col=1\n",
    ")\n",
    "\n",
    "# 4. Cost vs Effectiveness scatter\n",
    "# Add individual program data points\n",
    "programs_cost_eff = pd.DataFrame({\n",
    "    'Program': ['HTN Management', 'Stunting Prevention'],\n",
    "    'Annual_Cost': [avg_htn_cost, avg_stunting_cost],\n",
    "    'Effectiveness': [avg_bp_reduction, avg_haz_improvement * 10]  # Scale HAZ for visibility\n",
    "})\n",
    "\n",
    "fig.add_trace(\n",
    "    go.Scatter(x=programs_cost_eff['Annual_Cost'], y=programs_cost_eff['Effectiveness'],\n",
    "               mode='markers+text', text=programs_cost_eff['Program'],\n",
    "               textposition='top center', marker_size=15,\n",
    "               name='Programs', marker_color='red'),\n",
    "    row=2, col=2\n",
    ")\n",
    "\n",
    "# Update layout\n",
    "fig.update_layout(\n",
    "    title_text=\"Village Health Digital Twin - Dashboard Overview\",\n",
    "    title_x=0.5,\n",
    "    height=800,\n",
    "    showlegend=True\n",
    ")\n",
    "\n",
    "# Update axes labels\n",
    "fig.update_xaxes(title_text=\"Village\", row=1, col=1)\n",
    "fig.update_yaxes(title_text=\"Risk Score\", row=1, col=1)\n",
    "\n",
    "# Update polar chart\n",
    "fig.update_polars(\n",
    "    radialaxis=dict(visible=True, range=[0, 100]),\n",
    "    row=1, col=2\n",
    ")\n",
    "\n",
    "fig.update_xaxes(title_text=\"Program\", row=2, col=1)\n",
    "fig.update_yaxes(title_text=\"Coverage (%)\", row=2, col=1)\n",
    "\n",
    "fig.update_xaxes(title_text=\"Annual Cost (IDR)\", row=2, col=2)\n",
    "fig.update_yaxes(title_text=\"Effectiveness Score\", row=2, col=2)\n",
    "\n",
    "fig.show()\n",
    "\n",
    "# Alternative: Create separate radar chart if the above doesn't work well\n",
    "print(\"\\n=== Creating Alternative Radar Chart ===\")\n",
    "\n",
    "# Standalone radar chart for better visualization\n",
    "radar_fig = go.Figure()\n",
    "\n",
    "for idx, dusun in enumerate(village_df['dusun']):\n",
    "    row_data = village_df[village_df['dusun'] == dusun].iloc[0]\n",
    "    values = [\n",
    "        row_data['stunting_prevalence'],\n",
    "        row_data['htn_prevalence'], \n",
    "        row_data['clean_water_pct'],\n",
    "        row_data['sanitation_pct'],\n",
    "        100 - row_data['low_income_pct'],\n",
    "        row_data['stunting_prevalence']  # Close the radar\n",
    "    ]\n",
    "    \n",
    "    categories_closed = categories + [categories[0]]  # Close the radar\n",
    "    \n",
    "    radar_fig.add_trace(go.Scatterpolar(\n",
    "        r=values,\n",
    "        theta=categories_closed,\n",
    "        fill='toself',\n",
    "        name=dusun,\n",
    "        line_color=px.colors.qualitative.Set1[idx]\n",
    "    ))\n",
    "\n",
    "radar_fig.update_layout(\n",
    "    polar=dict(\n",
    "        radialaxis=dict(\n",
    "            visible=True,\n",
    "            range=[0, 100]\n",
    "        )),\n",
    "    title=\"Health Indicators Comparison by Village\",\n",
    "    showlegend=True\n",
    ")\n",
    "\n",
    "radar_fig.show()\n",
    "\n",
    "# Summary statistics table\n",
    "print(\"\\n=== VILLAGE HEALTH SUMMARY ===\")\n",
    "summary_stats = village_df.groupby('overall_risk').agg({\n",
    "    'dusun': 'count',\n",
    "    'total_households': 'sum',\n",
    "    'stunting_prevalence': 'mean',\n",
    "    'htn_prevalence': 'mean',\n",
    "    'clean_water_pct': 'mean'\n",
    "}).round(1)\n",
    "summary_stats.columns = ['Villages', 'Total HH', 'Avg Stunting %', 'Avg HTN %', 'Avg Clean Water %']\n",
    "display(summary_stats)"
   ]
  },
  {
   "cell_type": "markdown",
   "metadata": {},
   "source": [
    "## 9. Key Insights and Recommendations"
   ]
  },
  {
   "cell_type": "code",
   "execution_count": 13,
   "metadata": {},
   "outputs": [
    {
     "name": "stdout",
     "output_type": "stream",
     "text": [
      "=== KEY INSIGHTS & RECOMMENDATIONS ===\n",
      "1. 🚨 CRITICAL: Dusun C require immediate intervention\n",
      "2. 📊 Village-wide stunting prevalence (69.4%) exceeds WHO emergency threshold (20%)\n",
      "3. 💔 Hypertension prevalence (80.6%) indicates high cardiovascular risk\n",
      "4. 💧 Water access issues in: Dusun A, Dusun B, Dusun C\n",
      "5. ✅ HTN program shows good effectiveness (12.7 mmHg avg reduction)\n",
      "6. ✅ Stunting program shows positive impact (0.33 HAZ improvement)\n",
      "\n",
      "=== PRIORITY ACTIONS ===\n",
      "1. 🎯 Target critical villages for immediate multi-sectoral intervention\n",
      "2. 💧 Prioritize water and sanitation infrastructure in low-access areas\n",
      "3. 📈 Scale up effective programs with demonstrated impact\n",
      "4. 🔄 Improve program coverage to reach more eligible beneficiaries\n",
      "5. 💰 Optimize resource allocation based on cost-effectiveness analysis\n",
      "\n",
      "=== NEXT STEPS FOR DIGITAL TWIN ===\n",
      "1. 🔮 Develop predictive models for health outcome forecasting\n",
      "2. 🎯 Create intervention targeting algorithms\n",
      "3. 💵 Build economic impact simulation models\n",
      "4. 📊 Implement real-time monitoring dashboards\n",
      "5. 🔄 Establish feedback loops for continuous model improvement\n"
     ]
    }
   ],
   "source": [
    "# Generate automated insights\n",
    "def generate_insights(village_df, adults_htn, children_stunting):\n",
    "    insights = []\n",
    "    \n",
    "    # Village-level insights\n",
    "    critical_villages = village_df[village_df['overall_risk'] == 'Critical']['dusun'].tolist()\n",
    "    if critical_villages:\n",
    "        insights.append(f\"🚨 CRITICAL: {', '.join(critical_villages)} require immediate intervention\")\n",
    "    \n",
    "    # Health burden insights\n",
    "    avg_stunting = village_df['stunting_prevalence'].mean()\n",
    "    avg_htn = village_df['htn_prevalence'].mean()\n",
    "    \n",
    "    if avg_stunting > 20:\n",
    "        insights.append(f\"📊 Village-wide stunting prevalence ({avg_stunting:.1f}%) exceeds WHO emergency threshold (20%)\")\n",
    "    \n",
    "    if avg_htn > 25:\n",
    "        insights.append(f\"💔 Hypertension prevalence ({avg_htn:.1f}%) indicates high cardiovascular risk\")\n",
    "    \n",
    "    # Infrastructure insights\n",
    "    low_water_villages = village_df[village_df['clean_water_pct'] < 80]['dusun'].tolist()\n",
    "    if low_water_villages:\n",
    "        insights.append(f\"💧 Water access issues in: {', '.join(low_water_villages)}\")\n",
    "    \n",
    "    # Program effectiveness insights\n",
    "    htn_effectiveness = adults_htn[adults_htn['uptake_htn_program'] == 1]['penurunan_sbp_mmHg_12m'].mean()\n",
    "    stunting_effectiveness = children_stunting[children_stunting['uptake_stunting_program'] == 1]['delta_HAZ_12m'].mean()\n",
    "    \n",
    "    if htn_effectiveness > 10:\n",
    "        insights.append(f\"✅ HTN program shows good effectiveness ({htn_effectiveness:.1f} mmHg avg reduction)\")\n",
    "    \n",
    "    if stunting_effectiveness > 0.3:\n",
    "        insights.append(f\"✅ Stunting program shows positive impact ({stunting_effectiveness:.2f} HAZ improvement)\")\n",
    "    \n",
    "    # Coverage gaps\n",
    "    htn_coverage = (adults_htn['offered_htn_program'].sum() / adults_htn['eligible_screening_htn'].sum()) * 100\n",
    "    stunting_coverage = (children_stunting['offered_stunting_program'].sum() / children_stunting['eligible_PMT_micronutrient'].sum()) * 100\n",
    "    \n",
    "    if htn_coverage < 80:\n",
    "        insights.append(f\"⚠️ HTN program coverage gap: only {htn_coverage:.1f}% of eligible adults reached\")\n",
    "    \n",
    "    if stunting_coverage < 80:\n",
    "        insights.append(f\"⚠️ Stunting program coverage gap: only {stunting_coverage:.1f}% of eligible children reached\")\n",
    "    \n",
    "    return insights\n",
    "\n",
    "insights = generate_insights(village_df, adults_htn, children_stunting)\n",
    "\n",
    "print(\"=== KEY INSIGHTS & RECOMMENDATIONS ===\")\n",
    "for i, insight in enumerate(insights, 1):\n",
    "    print(f\"{i}. {insight}\")\n",
    "\n",
    "print(\"\\n=== PRIORITY ACTIONS ===\")\n",
    "print(\"1. 🎯 Target critical villages for immediate multi-sectoral intervention\")\n",
    "print(\"2. 💧 Prioritize water and sanitation infrastructure in low-access areas\")\n",
    "print(\"3. 📈 Scale up effective programs with demonstrated impact\")\n",
    "print(\"4. 🔄 Improve program coverage to reach more eligible beneficiaries\")\n",
    "print(\"5. 💰 Optimize resource allocation based on cost-effectiveness analysis\")\n",
    "\n",
    "print(\"\\n=== NEXT STEPS FOR DIGITAL TWIN ===\")\n",
    "print(\"1. 🔮 Develop predictive models for health outcome forecasting\")\n",
    "print(\"2. 🎯 Create intervention targeting algorithms\")\n",
    "print(\"3. 💵 Build economic impact simulation models\")\n",
    "print(\"4. 📊 Implement real-time monitoring dashboards\")\n",
    "print(\"5. 🔄 Establish feedback loops for continuous model improvement\")"
   ]
  },
  {
   "cell_type": "markdown",
   "metadata": {},
   "source": [
    "## 10. Export Results for Further Analysis"
   ]
  },
  {
   "cell_type": "code",
   "execution_count": 14,
   "metadata": {},
   "outputs": [
    {
     "name": "stdout",
     "output_type": "stream",
     "text": [
      "✅ Village health metrics exported to 'village_health_metrics.csv'\n",
      "✅ Summary report exported to 'health_analysis_summary.txt'\n",
      "\n",
      "🎉 Analysis complete! Ready for predictive modeling and intervention planning.\n"
     ]
    }
   ],
   "source": [
    "# Export processed data for further analysis\n",
    "village_df.to_csv('village_health_metrics.csv', index=False)\n",
    "print(\"✅ Village health metrics exported to 'village_health_metrics.csv'\")\n",
    "\n",
    "# Create summary report\n",
    "with open('health_analysis_summary.txt', 'w') as f:\n",
    "    f.write(\"VILLAGE HEALTH DIGITAL TWIN - ANALYSIS SUMMARY\\n\")\n",
    "    f.write(\"=\" * 50 + \"\\n\\n\")\n",
    "    \n",
    "    f.write(f\"Total Villages Analyzed: {len(village_df)}\\n\")\n",
    "    f.write(f\"Total Households: {village_df['total_households'].sum()}\\n\")\n",
    "    f.write(f\"Total Adults: {village_df['total_adults'].sum()}\\n\")\n",
    "    f.write(f\"Total Children: {village_df['total_children'].sum()}\\n\\n\")\n",
    "    \n",
    "    f.write(\"RISK ASSESSMENT:\\n\")\n",
    "    risk_summary = village_df['overall_risk'].value_counts()\n",
    "    for risk, count in risk_summary.items():\n",
    "        f.write(f\"- {risk}: {count} villages\\n\")\n",
    "    \n",
    "    f.write(\"\\nKEY INSIGHTS:\\n\")\n",
    "    for i, insight in enumerate(insights, 1):\n",
    "        f.write(f\"{i}. {insight}\\n\")\n",
    "\n",
    "print(\"✅ Summary report exported to 'health_analysis_summary.txt'\")\n",
    "print(\"\\n🎉 Analysis complete! Ready for predictive modeling and intervention planning.\")"
   ]
  }
 ],
 "metadata": {
  "kernelspec": {
   "display_name": "venv",
   "language": "python",
   "name": "python3"
  },
  "language_info": {
   "codemirror_mode": {
    "name": "ipython",
    "version": 3
   },
   "file_extension": ".py",
   "mimetype": "text/x-python",
   "name": "python",
   "nbconvert_exporter": "python",
   "pygments_lexer": "ipython3",
   "version": "3.13.6"
  }
 },
 "nbformat": 4,
 "nbformat_minor": 4
}
